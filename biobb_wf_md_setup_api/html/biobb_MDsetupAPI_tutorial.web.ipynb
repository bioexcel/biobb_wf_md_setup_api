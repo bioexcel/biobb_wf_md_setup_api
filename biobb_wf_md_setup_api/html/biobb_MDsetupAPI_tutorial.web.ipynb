{
 "cells": [
  {
   "cell_type": "markdown",
   "metadata": {},
   "source": [
    "# Protein MD Setup tutorial using BioExcel Building Blocks (biobb) through REST API\n",
    "**Based on the official GROMACS tutorial:** [http://www.mdtutorials.com/gmx/lysozyme/index.html](http://www.mdtutorials.com/gmx/lysozyme/index.html)\n",
    "***\n",
    "This tutorial aims to illustrate the process of **setting up a simulation system** containing a **protein**, step by step, using the **BioExcel Building Blocks (biobb) [REST API](https://mmb.irbbarcelona.org/biobb-api)**. The particular example used is the **Lysozyme** protein (PDB code 1AKI). \n",
    "***\n",
    "\n",
    "## Settings\n",
    " \n",
    "### Auxiliar libraries used\n",
    "\n",
    " - [requests](https://pypi.org/project/requests/): Requests allows you to send *organic, grass-fed* HTTP/1.1 requests, without the need for manual labor. \n",
    " - [nb_conda_kernels](https://github.com/Anaconda-Platform/nb_conda_kernels): Enables a Jupyter Notebook or JupyterLab application in one conda environment to access kernels for Python, R, and other languages found in other environments.\n",
    " - [nglview](http://nglviewer.org/#nglview): Jupyter/IPython widget to interactively view molecular structures and trajectories in notebooks.\n",
    " - [ipywidgets](https://github.com/jupyter-widgets/ipywidgets): Interactive HTML widgets for Jupyter notebooks and the IPython kernel.\n",
    " - [plotly](https://plot.ly/python/offline/): Python interactive graphing library integrated in Jupyter notebooks.\n",
    " - [simpletraj](https://github.com/arose/simpletraj): Lightweight coordinate-only trajectory reader based on code from GROMACS, MDAnalysis and VMD.\n",
    "\n",
    "### Conda Installation and Launch\n",
    "\n",
    "```console\n",
    " git clone https://github.com/bioexcel/biobb_wf_md_setup_api.git\n",
    " cd biobb_wf_md_setup_api\n",
    " conda env create -f conda_env/environment.yml\n",
    " conda activate biobb_MDsetupAPI_tutorial\n",
    " jupyter-nbextension enable --py --user widgetsnbextension\n",
    " jupyter-nbextension enable --py --user nglview\n",
    " jupyter-notebook biobb_wf_md_setup_api/notebooks/biobb_MDsetupAPI_tutorial.ipynb\n",
    "  ``` \n",
    "\n",
    "***\n",
    " \n",
    "## Pipeline steps\n",
    " 1. [Input Parameters](#input)\n",
    " 2. [Fetching PDB Structure](#fetch)\n",
    " 3. [Fix Protein Structure](#fix)\n",
    " 4. [Create Protein System Topology](#top)\n",
    " 5. [Create Solvent Box](#box)\n",
    " 6. [Fill the Box with Water Molecules](#water)\n",
    " 7. [Adding Ions](#ions)\n",
    " 8. [Energetically Minimize the System](#min)\n",
    " 9. [Equilibrate the System (NVT)](#nvt)\n",
    " 10. [Equilibrate the System (NPT)](#npt)\n",
    " 11. [Free Molecular Dynamics Simulation](#free)\n",
    " 12. [Post-processing and Visualizing Resulting 3D Trajectory](#post)\n",
    " 13. [Output Files](#output)\n",
    " \n",
    "***\n",
    "<img src=\"https://bioexcel.eu/wp-content/uploads/2019/04/Bioexcell_logo_1080px_transp.png\" alt=\"Bioexcel2 logo\"\n",
    "\ttitle=\"Bioexcel2 logo\" width=\"400\" />\n",
    "***\n"
   ]
  },
  {
   "cell_type": "markdown",
   "metadata": {},
   "source": [
    "<a id=\"input\"></a>\n",
    "## Input parameters\n",
    "**Input parameters** needed:\n",
    " - **pdbCode**: PDB code of the protein structure (e.g. 1AKI)\n",
    " - **apiURL**: Base URL for the Biobb REST API (https://mmb.irbbarcelona.org/biobb-api/rest/v1/)\n",
    " \n",
    "Additionally, the **utils** library is loaded. This library contains global functions that are used for sending and retrieving data to / from the REST API. [Click here](https://mmb.irbbarcelona.org/biobb-api/tutorial) for more information about how the BioBB REST API works and which is the purpose for each of these functions."
   ]
  },
  {
   "cell_type": "code",
   "execution_count": 1,
   "metadata": {},
   "outputs": [
    {
     "data": {
      "application/vnd.jupyter.widget-view+json": {
       "model_id": "fdff94180ef04b158c1b7783df300443",
       "version_major": 2,
       "version_minor": 0
      },
      "text/plain": [
       "_ColormakerRegistry()"
      ]
     },
     "metadata": {},
     "output_type": "display_data"
    }
   ],
   "source": [
    "import nglview\n",
    "import ipywidgets\n",
    "from utils import *\n",
    "\n",
    "pdbCode = \"1AKI\"\n",
    "apiURL  = \"https://mmb.irbbarcelona.org/biobb-api/rest/v1/\" "
   ]
  },
  {
   "cell_type": "markdown",
   "metadata": {},
   "source": [
    "<a id=\"fetch\"></a>\n",
    "***\n",
    "## Fetching PDB structure\n",
    "Downloading **PDB structure** with the **protein molecule** from the RCSB PDB database.<br>\n",
    "Alternatively, a **PDB file** can be used as starting structure. <br>\n",
    "\n",
    "***\n",
    "**BioBB REST API** end points used:\n",
    " - [PDB](https://mmb.irbbarcelona.org/biobb-api/rest/v1/launch/biobb_io/pdb) from **biobb_io.api.pdb**\n",
    "***"
   ]
  },
  {
   "cell_type": "code",
   "execution_count": 3,
   "metadata": {},
   "outputs": [
    {
     "name": "stdout",
     "output_type": "stream",
     "text": [
      "{\n",
      "  \"code\": 303,\n",
      "  \"state\": \"RUNNING\",\n",
      "  \"message\": \"The requested job has has been successfully launched, please go to /retrieve/status/{token} for checking job status.\",\n",
      "  \"token\": \"26d905e6182af8b153f08e3f02b81a8ca212f8d57183d6da059c8560e8598b0691eba6e57dd00bbc4a1fb096277f0babe69629e619cc7934793d3d9c6d3552a5\"\n",
      "}\n"
     ]
    }
   ],
   "source": [
    "# Downloading desired PDB file\n",
    "\n",
    "# Create properties dict and inputs/outputs\n",
    "downloaded_pdb = pdbCode + '.pdb'\n",
    "prop = {\n",
    "    'pdb_code': pdbCode\n",
    "}\n",
    "\n",
    "# Launch bb on REST API\n",
    "token = launch_job(url = apiURL + 'launch/biobb_io/pdb', \n",
    "                   config = prop,\n",
    "                   output_pdb_path = downloaded_pdb)"
   ]
  },
  {
   "cell_type": "code",
   "execution_count": 4,
   "metadata": {},
   "outputs": [
    {
     "name": "stdout",
     "output_type": "stream",
     "text": [
      "Total elapsed time: 0:00:10\n",
      "REST API JSON response:\n",
      "{\n",
      "  \"code\": 200,\n",
      "  \"state\": \"FINISHED\",\n",
      "  \"message\": \"The requested job has finished successfully, please go to /retrieve/data/{id} for each output_files.\",\n",
      "  \"output_files\": [\n",
      "    {\n",
      "      \"id\": \"5ec24e959257d1.53480788\",\n",
      "      \"name\": \"1AKI.pdb\",\n",
      "      \"size\": 81081,\n",
      "      \"mimetype\": \"text/plain\"\n",
      "    }\n",
      "  ],\n",
      "  \"expiration\": \"May 20, 2020 00:00 GMT+0000\"\n",
      "}\n"
     ]
    }
   ],
   "source": [
    "# Check job status\n",
    "out_files = check_job(token, apiURL)"
   ]
  },
  {
   "cell_type": "code",
   "execution_count": 5,
   "metadata": {},
   "outputs": [],
   "source": [
    "# Save generated file to disk\n",
    "retrieve_data(out_files, apiURL)"
   ]
  },
  {
   "cell_type": "markdown",
   "metadata": {},
   "source": [
    "<a id=\"vis3D\"></a>\n",
    "### Visualizing 3D structure\n",
    "Visualizing the downloaded/given **PDB structure** using **NGL**:    "
   ]
  },
  {
   "cell_type": "code",
   "execution_count": 6,
   "metadata": {
    "scrolled": true
   },
   "outputs": [
    {
     "data": {
      "application/vnd.jupyter.widget-view+json": {
       "model_id": "c3e2ca6f16fc48aaae811a1a1e817b7a",
       "version_major": 2,
       "version_minor": 0
      },
      "text/plain": [
       "NGLWidget()"
      ]
     },
     "metadata": {},
     "output_type": "display_data"
    }
   ],
   "source": [
    "# Show protein\n",
    "view = nglview.show_structure_file(downloaded_pdb)\n",
    "view.add_representation(repr_type='ball+stick', selection='all')\n",
    "view._remote_call('setSize', target='Widget', args=['','600px'])\n",
    "view"
   ]
  },
  {
   "cell_type": "markdown",
   "metadata": {},
   "source": [
    "<img src='ngl1.png'></img>"
   ]
  },
  {
   "cell_type": "markdown",
   "metadata": {},
   "source": [
    "<a id=\"fix\"></a>\n",
    "***\n",
    "## Fix protein structure\n",
    "**Checking** and **fixing** (if needed) the protein structure:<br>\n",
    "- **Modeling** **missing side-chain atoms**, modifying incorrect **amide assignments**, choosing **alternative locations**.<br>\n",
    "- **Checking** for missing **backbone atoms**, **heteroatoms**, **modified residues** and possible **atomic clashes**.\n",
    "\n",
    "***\n",
    "**BioBB REST API** end points used:\n",
    " - [FixSideChain](https://mmb.irbbarcelona.org/biobb-api/rest/v1/launch/biobb_model/fix_side_chain) from **biobb_model.model.fix_side_chain**\n",
    "***"
   ]
  },
  {
   "cell_type": "code",
   "execution_count": 7,
   "metadata": {},
   "outputs": [
    {
     "name": "stdout",
     "output_type": "stream",
     "text": [
      "{\n",
      "  \"code\": 303,\n",
      "  \"state\": \"RUNNING\",\n",
      "  \"message\": \"The requested job has has been successfully launched, please go to /retrieve/status/{token} for checking job status.\",\n",
      "  \"token\": \"04e582f8c528415d53939e00d2280bd06e5733fbebacf90c60ab0b695cb224faa3d9a6fa459b1d5dc1ec3a29e42f57bc3de3a10ade140fb6f6ee7a56a1dde2b0\"\n",
      "}\n"
     ]
    }
   ],
   "source": [
    "# Check & Fix PDB\n",
    "\n",
    "# Create inputs/outputs\n",
    "fixed_pdb = pdbCode + '_fixed.pdb'\n",
    "\n",
    "# Launch bb on REST API\n",
    "token = launch_job(url = apiURL + 'launch/biobb_model/fix_side_chain',\n",
    "                   input_pdb_path = downloaded_pdb,\n",
    "                   output_pdb_path = fixed_pdb)"
   ]
  },
  {
   "cell_type": "code",
   "execution_count": 8,
   "metadata": {},
   "outputs": [
    {
     "name": "stdout",
     "output_type": "stream",
     "text": [
      "Total elapsed time: 0:00:01\n",
      "REST API JSON response:\n",
      "{\n",
      "  \"code\": 200,\n",
      "  \"state\": \"FINISHED\",\n",
      "  \"message\": \"The requested job has finished successfully, please go to /retrieve/data/{id} for each output_files.\",\n",
      "  \"output_files\": [\n",
      "    {\n",
      "      \"id\": \"5ec24ed1435c71.10854641\",\n",
      "      \"name\": \"1AKI_fixed.pdb\",\n",
      "      \"size\": 81167,\n",
      "      \"mimetype\": \"text/plain\"\n",
      "    }\n",
      "  ],\n",
      "  \"expiration\": \"May 20, 2020 00:00 GMT+0000\"\n",
      "}\n"
     ]
    }
   ],
   "source": [
    "# Check job status\n",
    "out_files = check_job(token, apiURL)"
   ]
  },
  {
   "cell_type": "code",
   "execution_count": 9,
   "metadata": {},
   "outputs": [],
   "source": [
    "# Save generated file to disk\n",
    "retrieve_data(out_files, apiURL)"
   ]
  },
  {
   "cell_type": "markdown",
   "metadata": {},
   "source": [
    "### Visualizing 3D structure\n",
    "Visualizing the fixed **PDB structure** using **NGL**. In this particular example, the checking step didn't find any issue to be solved, so there is no difference between the original structure and the fixed one.   "
   ]
  },
  {
   "cell_type": "code",
   "execution_count": 10,
   "metadata": {},
   "outputs": [
    {
     "data": {
      "application/vnd.jupyter.widget-view+json": {
       "model_id": "83fe87ee564e45328e8685c3a7729cfa",
       "version_major": 2,
       "version_minor": 0
      },
      "text/plain": [
       "NGLWidget()"
      ]
     },
     "metadata": {},
     "output_type": "display_data"
    }
   ],
   "source": [
    "# Show protein\n",
    "view = nglview.show_structure_file(fixed_pdb)\n",
    "view.add_representation(repr_type='ball+stick', selection='all')\n",
    "view._remote_call('setSize', target='Widget', args=['','600px'])\n",
    "view.camera='orthographic'\n",
    "view"
   ]
  },
  {
   "cell_type": "markdown",
   "metadata": {},
   "source": [
    "<img src='ngl2.png'></img>"
   ]
  },
  {
   "cell_type": "markdown",
   "metadata": {},
   "source": [
    "<a id=\"top\"></a>\n",
    "***\n",
    "## Create protein system topology\n",
    "**Building GROMACS topology** corresponding to the protein structure.<br>\n",
    "Force field used in this tutorial is [**amber99sb-ildn**](https://dx.doi.org/10.1002%2Fprot.22711): AMBER **parm99** force field with **corrections on backbone** (sb) and **side-chain torsion potentials** (ildn). Water molecules type used in this tutorial is [**spc/e**](https://pubs.acs.org/doi/abs/10.1021/j100308a038).<br>\n",
    "Adding **hydrogen atoms** if missing. Automatically identifying **disulfide bridges**. <br>\n",
    "\n",
    "Generating two output files: \n",
    "- **GROMACS structure** (gro file)\n",
    "- **GROMACS topology** ZIP compressed file containing:\n",
    "    - *GROMACS topology top file* (top file)\n",
    "    - *GROMACS position restraint file/s* (itp file/s)\n",
    "***\n",
    "**BioBB REST API** end points used:\n",
    " - [Pdb2gmx](https://mmb.irbbarcelona.org/biobb-api/rest/v1/launch/biobb_md/pdb2gmx) from **biobb_md.gromacs.pdb2gmx**\n",
    "***"
   ]
  },
  {
   "cell_type": "code",
   "execution_count": 11,
   "metadata": {},
   "outputs": [
    {
     "name": "stdout",
     "output_type": "stream",
     "text": [
      "{\n",
      "  \"code\": 303,\n",
      "  \"state\": \"RUNNING\",\n",
      "  \"message\": \"The requested job has has been successfully launched, please go to /retrieve/status/{token} for checking job status.\",\n",
      "  \"token\": \"89e61ca8c7adfe269253710ac732f93f5d17f9c1a2c6056bb17b6083475d44b6cee35611b84c0057bfc1f447275edfa70b2de71416767c84207f2d060b6c7228\"\n",
      "}\n"
     ]
    }
   ],
   "source": [
    "# Create system topology\n",
    "\n",
    "# Create inputs/outputs\n",
    "output_pdb2gmx_gro = pdbCode + '_pdb2gmx.gro'\n",
    "output_pdb2gmx_top_zip = pdbCode + '_pdb2gmx_top.zip'\n",
    "\n",
    "# Launch bb on REST API\n",
    "token = launch_job(url = apiURL + 'launch/biobb_md/pdb2gmx', \n",
    "                   input_pdb_path = fixed_pdb,\n",
    "                   output_gro_path = output_pdb2gmx_gro,\n",
    "                   output_top_zip_path = output_pdb2gmx_top_zip)"
   ]
  },
  {
   "cell_type": "code",
   "execution_count": 12,
   "metadata": {},
   "outputs": [
    {
     "name": "stdout",
     "output_type": "stream",
     "text": [
      "Total elapsed time: 0:00:09\n",
      "REST API JSON response:\n",
      "{\n",
      "  \"code\": 200,\n",
      "  \"state\": \"FINISHED\",\n",
      "  \"message\": \"The requested job has finished successfully, please go to /retrieve/data/{id} for each output_files.\",\n",
      "  \"output_files\": [\n",
      "    {\n",
      "      \"id\": \"5ec24eef5933d6.64638162\",\n",
      "      \"name\": \"1AKI_pdb2gmx.gro\",\n",
      "      \"size\": 88286,\n",
      "      \"mimetype\": \"application/octet-stream\"\n",
      "    },\n",
      "    {\n",
      "      \"id\": \"5ec24eef5b85a5.82321574\",\n",
      "      \"name\": \"1AKI_pdb2gmx_top.zip\",\n",
      "      \"size\": 588585,\n",
      "      \"mimetype\": \"application/zip\"\n",
      "    }\n",
      "  ],\n",
      "  \"expiration\": \"May 20, 2020 00:00 GMT+0000\"\n",
      "}\n"
     ]
    }
   ],
   "source": [
    "# Check job status\n",
    "out_files = check_job(token, apiURL)"
   ]
  },
  {
   "cell_type": "code",
   "execution_count": 13,
   "metadata": {},
   "outputs": [],
   "source": [
    "# Save generated file to disk\n",
    "retrieve_data(out_files, apiURL)"
   ]
  },
  {
   "cell_type": "markdown",
   "metadata": {},
   "source": [
    "### Visualizing 3D structure\n",
    "Visualizing the generated **GRO structure** using **NGL**. Note that **hydrogen atoms** were added to the structure by the **pdb2gmx GROMACS tool** when generating the **topology**.    "
   ]
  },
  {
   "cell_type": "code",
   "execution_count": 14,
   "metadata": {},
   "outputs": [
    {
     "data": {
      "application/vnd.jupyter.widget-view+json": {
       "model_id": "698d6ffeb0d540978a4bf0a70c347ed0",
       "version_major": 2,
       "version_minor": 0
      },
      "text/plain": [
       "NGLWidget()"
      ]
     },
     "metadata": {},
     "output_type": "display_data"
    }
   ],
   "source": [
    "# Show protein\n",
    "view = nglview.show_structure_file(output_pdb2gmx_gro)\n",
    "view.add_representation(repr_type='ball+stick', selection='all')\n",
    "view._remote_call('setSize', target='Widget', args=['','600px'])\n",
    "view.camera='orthographic'\n",
    "view"
   ]
  },
  {
   "cell_type": "markdown",
   "metadata": {},
   "source": [
    "<img src='ngl3.png'></img>"
   ]
  },
  {
   "cell_type": "markdown",
   "metadata": {},
   "source": [
    "<a id=\"box\"></a>\n",
    "***\n",
    "## Create solvent box\n",
    "Define the unit cell for the **protein structure MD system** to fill it with water molecules.<br>\n",
    "A **cubic box** is used to define the unit cell, with a **distance from the protein to the box edge of 1.0 nm**. The protein is **centered in the box**.  \n",
    "\n",
    "***\n",
    "**BioBB REST API** end points used:\n",
    " - [Editconf](https://mmb.irbbarcelona.org/biobb-api/rest/v1/launch/biobb_md/editconf) from **biobb_md.gromacs.editconf**\n",
    "***"
   ]
  },
  {
   "cell_type": "code",
   "execution_count": 15,
   "metadata": {},
   "outputs": [
    {
     "name": "stdout",
     "output_type": "stream",
     "text": [
      "{\n",
      "  \"code\": 303,\n",
      "  \"state\": \"RUNNING\",\n",
      "  \"message\": \"The requested job has has been successfully launched, please go to /retrieve/status/{token} for checking job status.\",\n",
      "  \"token\": \"a404ba1f8fa97c6d712080a503edf152d4973616e77fbd4cd4e6f496d428ba58971e75521d89bfd6436a658b4f734fec317dc4bf058c0153bd97d400e4e927b2\"\n",
      "}\n"
     ]
    }
   ],
   "source": [
    "# Editconf: Create solvent box\n",
    "\n",
    "# Create properties dict and inputs/outputs\n",
    "output_editconf_gro = pdbCode + '_editconf.gro'\n",
    "prop = {\n",
    "    'box_type': 'cubic',\n",
    "    'distance_to_molecule': 1.0\n",
    "}\n",
    "\n",
    "# Launch bb on REST API\n",
    "token = launch_job(url = apiURL + 'launch/biobb_md/editconf', \n",
    "                   config = prop,\n",
    "                   input_gro_path = output_pdb2gmx_gro,\n",
    "                   output_gro_path = output_editconf_gro)"
   ]
  },
  {
   "cell_type": "code",
   "execution_count": 16,
   "metadata": {},
   "outputs": [
    {
     "name": "stdout",
     "output_type": "stream",
     "text": [
      "Total elapsed time: 0:00:01\n",
      "REST API JSON response:\n",
      "{\n",
      "  \"code\": 200,\n",
      "  \"state\": \"FINISHED\",\n",
      "  \"message\": \"The requested job has finished successfully, please go to /retrieve/data/{id} for each output_files.\",\n",
      "  \"output_files\": [\n",
      "    {\n",
      "      \"id\": \"5ec24efdbf8120.57722845\",\n",
      "      \"name\": \"1AKI_editconf.gro\",\n",
      "      \"size\": 88286,\n",
      "      \"mimetype\": \"application/octet-stream\"\n",
      "    }\n",
      "  ],\n",
      "  \"expiration\": \"May 20, 2020 00:00 GMT+0000\"\n",
      "}\n"
     ]
    }
   ],
   "source": [
    "# Check job status\n",
    "out_files = check_job(token, apiURL)"
   ]
  },
  {
   "cell_type": "code",
   "execution_count": 17,
   "metadata": {},
   "outputs": [],
   "source": [
    "# Save generated file to disk\n",
    "retrieve_data(out_files, apiURL)"
   ]
  },
  {
   "cell_type": "markdown",
   "metadata": {},
   "source": [
    "<a id=\"water\"></a>\n",
    "***\n",
    "## Fill the box with water molecules\n",
    "Fill the unit cell for the **protein structure system** with water molecules.<br>\n",
    "The solvent type used is the default **Simple Point Charge water (SPC)**, a generic equilibrated 3-point solvent model. \n",
    "\n",
    "***\n",
    "**BioBB REST API** end points used:\n",
    " - [Solvate](https://mmb.irbbarcelona.org/biobb-api/rest/v1/launch/biobb_md/solvate) from **biobb_md.gromacs.solvate**\n",
    "***"
   ]
  },
  {
   "cell_type": "code",
   "execution_count": 18,
   "metadata": {},
   "outputs": [
    {
     "name": "stdout",
     "output_type": "stream",
     "text": [
      "{\n",
      "  \"code\": 303,\n",
      "  \"state\": \"RUNNING\",\n",
      "  \"message\": \"The requested job has has been successfully launched, please go to /retrieve/status/{token} for checking job status.\",\n",
      "  \"token\": \"eaeb9bdd8cf4b1bf2455d3717cdeab9a809b1761760f101f30e9101c93694ed260f724d5eee1f6894bc0c99e5b643f773caf08104c4a49e4699c04015e68ec4c\"\n",
      "}\n"
     ]
    }
   ],
   "source": [
    "# Solvate: Fill the box with water molecules\n",
    "\n",
    "# Create inputs/outputs\n",
    "output_solvate_gro = pdbCode + '_solvate.gro'\n",
    "output_solvate_top_zip = pdbCode + '_solvate_top.zip'\n",
    "\n",
    "# Launch bb on REST API\n",
    "token = launch_job(url = apiURL + 'launch/biobb_md/solvate', \n",
    "                   input_solute_gro_path = output_editconf_gro,\n",
    "                   input_top_zip_path = output_pdb2gmx_top_zip,\n",
    "                   output_gro_path = output_solvate_gro,\n",
    "                   output_top_zip_path = output_solvate_top_zip)"
   ]
  },
  {
   "cell_type": "code",
   "execution_count": 19,
   "metadata": {},
   "outputs": [
    {
     "name": "stdout",
     "output_type": "stream",
     "text": [
      "Total elapsed time: 0:00:05\n",
      "REST API JSON response:\n",
      "{\n",
      "  \"code\": 200,\n",
      "  \"state\": \"FINISHED\",\n",
      "  \"message\": \"The requested job has finished successfully, please go to /retrieve/data/{id} for each output_files.\",\n",
      "  \"output_files\": [\n",
      "    {\n",
      "      \"id\": \"5ec24f0d843a77.61157992\",\n",
      "      \"name\": \"1AKI_solvate.gro\",\n",
      "      \"size\": 1525226,\n",
      "      \"mimetype\": \"application/octet-stream\"\n",
      "    },\n",
      "    {\n",
      "      \"id\": \"5ec24f0d9959b2.24701418\",\n",
      "      \"name\": \"1AKI_solvate_top.zip\",\n",
      "      \"size\": 588616,\n",
      "      \"mimetype\": \"application/zip\"\n",
      "    }\n",
      "  ],\n",
      "  \"expiration\": \"May 20, 2020 00:00 GMT+0000\"\n",
      "}\n"
     ]
    }
   ],
   "source": [
    "# Check job status\n",
    "out_files = check_job(token, apiURL)"
   ]
  },
  {
   "cell_type": "code",
   "execution_count": 20,
   "metadata": {},
   "outputs": [],
   "source": [
    "# Save generated file to disk\n",
    "retrieve_data(out_files, apiURL)"
   ]
  },
  {
   "cell_type": "markdown",
   "metadata": {},
   "source": [
    "### Visualizing 3D structure\n",
    "Visualizing the **protein system** with the newly added **solvent box** using **NGL**.<br> Note the **cubic box** filled with **water molecules** surrounding the **protein structure**, which is **centered** right in the middle of the cube."
   ]
  },
  {
   "cell_type": "code",
   "execution_count": 21,
   "metadata": {
    "scrolled": true
   },
   "outputs": [
    {
     "data": {
      "application/vnd.jupyter.widget-view+json": {
       "model_id": "902950c4b2c6425dba727999b0fa477e",
       "version_major": 2,
       "version_minor": 0
      },
      "text/plain": [
       "NGLWidget()"
      ]
     },
     "metadata": {},
     "output_type": "display_data"
    }
   ],
   "source": [
    "# Show protein\n",
    "view = nglview.show_structure_file(output_solvate_gro)\n",
    "view.clear_representations()\n",
    "view.add_representation(repr_type='cartoon', selection='solute', color='green')\n",
    "view.add_representation(repr_type='ball+stick', selection='SOL')\n",
    "view._remote_call('setSize', target='Widget', args=['','600px'])\n",
    "view.camera='orthographic'\n",
    "view"
   ]
  },
  {
   "cell_type": "markdown",
   "metadata": {},
   "source": [
    "<img src='ngl4.png'></img>"
   ]
  },
  {
   "cell_type": "markdown",
   "metadata": {},
   "source": [
    "<a id=\"ions\"></a>\n",
    "***\n",
    "## Adding ions\n",
    "Add ions to neutralize the **protein structure** charge\n",
    "- [Step 1](#ionsStep1): Creating portable binary run file for ion generation\n",
    "- [Step 2](#ionsStep2): Adding ions to **neutralize** the system\n",
    "\n",
    "***\n",
    "**BioBB REST API** end points used:\n",
    " - [Grompp](https://mmb.irbbarcelona.org/biobb-api/rest/v1/launch/biobb_md/grompp) from **biobb_md.gromacs.grompp**\n",
    " - [Genion](https://mmb.irbbarcelona.org/biobb-api/rest/v1/launch/biobb_md/genion) from **biobb_md.gromacs.genion**\n",
    "***"
   ]
  },
  {
   "cell_type": "markdown",
   "metadata": {},
   "source": [
    "<a id=\"ionsStep1\"></a>\n",
    "### Step 1: Creating portable binary run file for ion generation\n",
    "A simple **energy minimization** molecular dynamics parameters (mdp) properties will be used to generate the portable binary run file for **ion generation**, although **any legitimate combination of parameters** could be used in this step."
   ]
  },
  {
   "cell_type": "code",
   "execution_count": 22,
   "metadata": {},
   "outputs": [
    {
     "name": "stdout",
     "output_type": "stream",
     "text": [
      "{\n",
      "  \"code\": 303,\n",
      "  \"state\": \"RUNNING\",\n",
      "  \"message\": \"The requested job has has been successfully launched, please go to /retrieve/status/{token} for checking job status.\",\n",
      "  \"token\": \"50bac270a1a61d3206a5b6f27ef9a85f9f4477aa349e3a5645f6fb8fab0cf37490548e4602659db1ce70e943f560ae309a3c2faefce0c6f8a0ed7ca42e980323\"\n",
      "}\n"
     ]
    }
   ],
   "source": [
    "# Grompp: Creating portable binary run file for ion generation\n",
    "\n",
    "# Create prop dict and inputs/outputs\n",
    "output_gppion_tpr = pdbCode + '_gppion.tpr'\n",
    "prop = {\n",
    "    'mdp':{\n",
    "        'type': 'minimization'\n",
    "    }\n",
    "}\n",
    "\n",
    "# Launch bb on REST API\n",
    "token = launch_job(url = apiURL + 'launch/biobb_md/grompp', \n",
    "                   config = prop,\n",
    "                   input_gro_path = output_solvate_gro,\n",
    "                   input_top_zip_path = output_solvate_top_zip,\n",
    "                   output_tpr_path = output_gppion_tpr)"
   ]
  },
  {
   "cell_type": "code",
   "execution_count": 23,
   "metadata": {},
   "outputs": [
    {
     "name": "stdout",
     "output_type": "stream",
     "text": [
      "Total elapsed time: 0:00:02\n",
      "REST API JSON response:\n",
      "{\n",
      "  \"code\": 200,\n",
      "  \"state\": \"FINISHED\",\n",
      "  \"message\": \"The requested job has finished successfully, please go to /retrieve/data/{id} for each output_files.\",\n",
      "  \"output_files\": [\n",
      "    {\n",
      "      \"id\": \"5ec24f1c678f09.30090542\",\n",
      "      \"name\": \"1AKI_gppion.tpr\",\n",
      "      \"size\": 1398340,\n",
      "      \"mimetype\": \"application/octet-stream\"\n",
      "    }\n",
      "  ],\n",
      "  \"expiration\": \"May 20, 2020 00:00 GMT+0000\"\n",
      "}\n"
     ]
    }
   ],
   "source": [
    "# Check job status\n",
    "out_files = check_job(token, apiURL)"
   ]
  },
  {
   "cell_type": "code",
   "execution_count": 24,
   "metadata": {},
   "outputs": [],
   "source": [
    "# Save generated file to disk\n",
    "retrieve_data(out_files, apiURL)"
   ]
  },
  {
   "cell_type": "markdown",
   "metadata": {},
   "source": [
    "<a id=\"ionsStep2\"></a>\n",
    "### Step 2: Adding ions to neutralize the system\n",
    "Replace **solvent molecules** with **ions** to **neutralize** the system."
   ]
  },
  {
   "cell_type": "code",
   "execution_count": 25,
   "metadata": {},
   "outputs": [
    {
     "name": "stdout",
     "output_type": "stream",
     "text": [
      "{\n",
      "  \"code\": 303,\n",
      "  \"state\": \"RUNNING\",\n",
      "  \"message\": \"The requested job has has been successfully launched, please go to /retrieve/status/{token} for checking job status.\",\n",
      "  \"token\": \"d7c85a995446b984f4e8a419d509aa27cd05d80c9ab7dd6772d4228690376ca09c9c35d4330a3d9f9476f1526d38ee42a80635ce72f340facaf4f366e1db8c40\"\n",
      "}\n"
     ]
    }
   ],
   "source": [
    "# Genion: Adding ions to neutralize the system\n",
    "\n",
    "# Create prop dict and inputs/outputs\n",
    "output_genion_gro = pdbCode + '_genion.gro'\n",
    "output_genion_top_zip = pdbCode + '_genion_top.zip'\n",
    "prop={\n",
    "    'neutral':True\n",
    "}\n",
    "\n",
    "# Launch bb on REST API\n",
    "token = launch_job(url = apiURL + 'launch/biobb_md/genion',\n",
    "                   config = prop,\n",
    "                   input_tpr_path = output_gppion_tpr,\n",
    "                   input_top_zip_path = output_solvate_top_zip,\n",
    "                   output_gro_path = output_genion_gro,\n",
    "                   output_top_zip_path = output_genion_top_zip)"
   ]
  },
  {
   "cell_type": "code",
   "execution_count": 26,
   "metadata": {},
   "outputs": [
    {
     "name": "stdout",
     "output_type": "stream",
     "text": [
      "Total elapsed time: 0:00:02\n",
      "REST API JSON response:\n",
      "{\n",
      "  \"code\": 200,\n",
      "  \"state\": \"FINISHED\",\n",
      "  \"message\": \"The requested job has finished successfully, please go to /retrieve/data/{id} for each output_files.\",\n",
      "  \"output_files\": [\n",
      "    {\n",
      "      \"id\": \"5ec24f2b12f1b1.73665989\",\n",
      "      \"name\": \"1AKI_genion.gro\",\n",
      "      \"size\": 1522674,\n",
      "      \"mimetype\": \"application/octet-stream\"\n",
      "    },\n",
      "    {\n",
      "      \"id\": \"5ec24f2b27c584.91634084\",\n",
      "      \"name\": \"1AKI_genion_top.zip\",\n",
      "      \"size\": 588652,\n",
      "      \"mimetype\": \"application/zip\"\n",
      "    }\n",
      "  ],\n",
      "  \"expiration\": \"May 20, 2020 00:00 GMT+0000\"\n",
      "}\n"
     ]
    }
   ],
   "source": [
    "# Check job status\n",
    "out_files = check_job(token, apiURL)"
   ]
  },
  {
   "cell_type": "code",
   "execution_count": 27,
   "metadata": {},
   "outputs": [],
   "source": [
    "# Save generated file to disk\n",
    "retrieve_data(out_files, apiURL)"
   ]
  },
  {
   "cell_type": "markdown",
   "metadata": {},
   "source": [
    "### Visualizing 3D structure\n",
    "Visualizing the **neutralized protein system** with the newly added **ions** using **NGL**"
   ]
  },
  {
   "cell_type": "code",
   "execution_count": 28,
   "metadata": {},
   "outputs": [
    {
     "data": {
      "application/vnd.jupyter.widget-view+json": {
       "model_id": "a454fd31ba894df0b9d3923a23b7d43f",
       "version_major": 2,
       "version_minor": 0
      },
      "text/plain": [
       "NGLWidget()"
      ]
     },
     "metadata": {},
     "output_type": "display_data"
    }
   ],
   "source": [
    "# Show protein\n",
    "view = nglview.show_structure_file(output_genion_gro)\n",
    "view.clear_representations()\n",
    "view.add_representation(repr_type='cartoon', selection='solute', color='sstruc')\n",
    "view.add_representation(repr_type='ball+stick', selection='NA')\n",
    "view.add_representation(repr_type='ball+stick', selection='CL')\n",
    "view._remote_call('setSize', target='Widget', args=['','600px'])\n",
    "view.camera='orthographic'\n",
    "view"
   ]
  },
  {
   "cell_type": "markdown",
   "metadata": {},
   "source": [
    "<img src='ngl5.png'></img>"
   ]
  },
  {
   "cell_type": "markdown",
   "metadata": {},
   "source": [
    "<a id=\"min\"></a>\n",
    "***\n",
    "## Energetically minimize the system\n",
    "Energetically minimize the **protein system** till reaching a desired potential energy.\n",
    "- [Step 1](#emStep1): Creating portable binary run file for energy minimization\n",
    "- [Step 2](#emStep2): Energetically minimize the **system** till reaching a force of 500 kJ mol-1 nm-1.\n",
    "- [Step 3](#emStep3): Checking **energy minimization** results. Plotting energy by time during the **minimization** process.\n",
    "\n",
    "***\n",
    "**BioBB REST API** end points used:\n",
    " - [Grompp](https://mmb.irbbarcelona.org/biobb-api/rest/v1/launch/biobb_md/grompp) from **biobb_md.gromacs.grompp**\n",
    " - [Mdrun](https://mmb.irbbarcelona.org/biobb-api/rest/v1/launch/biobb_md/mdrun) from **biobb_md.gromacs.mdrun**\n",
    " - [GMXEnergy](https://mmb.irbbarcelona.org/biobb-api/rest/v1/launch/biobb_analysis/gmx_energy) from **biobb_analysis.gromacs.gmx_energy**\n",
    "***"
   ]
  },
  {
   "cell_type": "markdown",
   "metadata": {},
   "source": [
    "<a id=\"emStep1\"></a>\n",
    "### Step 1: Creating portable binary run file for energy minimization\n",
    "The **minimization** type of the **molecular dynamics parameters (mdp) property** contains the main default parameters to run an **energy minimization**:\n",
    "\n",
    "-  integrator  = steep ; Algorithm (steep = steepest descent minimization)\n",
    "-  emtol       = 1000.0 ; Stop minimization when the maximum force < 1000.0 kJ/mol/nm\n",
    "-  emstep      = 0.01 ; Minimization step size (nm)\n",
    "-  nsteps      = 50000 ; Maximum number of (minimization) steps to perform\n",
    "\n",
    "In this particular example, the method used to run the **energy minimization** is the default **steepest descent**, but the **maximum force** is placed at **500 KJ/mol\\*nm^2**, and the **maximum number of steps** to perform (if the maximum force is not reached) to **5,000 steps**. "
   ]
  },
  {
   "cell_type": "code",
   "execution_count": 29,
   "metadata": {},
   "outputs": [
    {
     "name": "stdout",
     "output_type": "stream",
     "text": [
      "{\n",
      "  \"code\": 303,\n",
      "  \"state\": \"RUNNING\",\n",
      "  \"message\": \"The requested job has has been successfully launched, please go to /retrieve/status/{token} for checking job status.\",\n",
      "  \"token\": \"e67943940724ca9950697c723ce658c47fc2202358a4f0cd461cac08cab7d89f2c52d1235ed27b3aa5e6fde521d50a641e81b092bcf589ee72ad1a9a7c847f7a\"\n",
      "}\n"
     ]
    }
   ],
   "source": [
    "# Grompp: Creating portable binary run file for mdrun\n",
    "\n",
    "# Create prop dict and inputs/outputs\n",
    "output_gppmin_tpr = pdbCode + '_gppmin.tpr'\n",
    "prop = {\n",
    "    'mdp':{\n",
    "        'type': 'minimization',\n",
    "        'emtol':'500',\n",
    "        'nsteps':'5000'\n",
    "    }\n",
    "}\n",
    "\n",
    "# Launch bb on REST API\n",
    "token = launch_job(url = apiURL + 'launch/biobb_md/grompp', \n",
    "                   config = prop,\n",
    "                   input_gro_path = output_genion_gro,\n",
    "                   input_top_zip_path = output_genion_top_zip,\n",
    "                   output_tpr_path = output_gppmin_tpr)"
   ]
  },
  {
   "cell_type": "code",
   "execution_count": 30,
   "metadata": {},
   "outputs": [
    {
     "name": "stdout",
     "output_type": "stream",
     "text": [
      "Total elapsed time: 0:00:01\n",
      "REST API JSON response:\n",
      "{\n",
      "  \"code\": 200,\n",
      "  \"state\": \"FINISHED\",\n",
      "  \"message\": \"The requested job has finished successfully, please go to /retrieve/data/{id} for each output_files.\",\n",
      "  \"output_files\": [\n",
      "    {\n",
      "      \"id\": \"5ec24f3a6813e9.23267583\",\n",
      "      \"name\": \"1AKI_gppmin.tpr\",\n",
      "      \"size\": 1398800,\n",
      "      \"mimetype\": \"application/octet-stream\"\n",
      "    }\n",
      "  ],\n",
      "  \"expiration\": \"May 20, 2020 00:00 GMT+0000\"\n",
      "}\n"
     ]
    }
   ],
   "source": [
    "# Check job status\n",
    "out_files = check_job(token, apiURL)"
   ]
  },
  {
   "cell_type": "code",
   "execution_count": 31,
   "metadata": {},
   "outputs": [],
   "source": [
    "# Save generated file to disk\n",
    "retrieve_data(out_files, apiURL)"
   ]
  },
  {
   "cell_type": "markdown",
   "metadata": {},
   "source": [
    "<a id=\"emStep2\"></a>\n",
    "### Step 2: Running Energy Minimization\n",
    "Running **energy minimization** using the **tpr file** generated in the previous step. "
   ]
  },
  {
   "cell_type": "code",
   "execution_count": 32,
   "metadata": {},
   "outputs": [
    {
     "name": "stdout",
     "output_type": "stream",
     "text": [
      "{\n",
      "  \"code\": 303,\n",
      "  \"state\": \"RUNNING\",\n",
      "  \"message\": \"The requested job has has been successfully launched, please go to /retrieve/status/{token} for checking job status.\",\n",
      "  \"token\": \"6b80e713c466c5a75e0d71284486cf4b5596b27c5c4f469ded1695ddec7b31f3a6a81ff6e1fbe477523ec9881107a23ce485436ff01678cc83673e3e0929f3ad\"\n",
      "}\n"
     ]
    }
   ],
   "source": [
    "# Mdrun: Running minimization\n",
    "\n",
    "# Create inputs/outputs\n",
    "output_min_trr = pdbCode + '_min.trr'\n",
    "output_min_gro = pdbCode + '_min.gro'\n",
    "output_min_edr = pdbCode + '_min.edr'\n",
    "output_min_log = pdbCode + '_min.log'\n",
    "\n",
    "# Launch bb on REST API\n",
    "token = launch_job(url = apiURL + 'launch/biobb_md/mdrun', \n",
    "                   input_tpr_path = output_gppmin_tpr,\n",
    "                   output_trr_path = output_min_trr,\n",
    "                   output_gro_path = output_min_gro,\n",
    "                   output_edr_path = output_min_edr,\n",
    "                   output_log_path = output_min_log)"
   ]
  },
  {
   "cell_type": "code",
   "execution_count": 33,
   "metadata": {},
   "outputs": [
    {
     "name": "stdout",
     "output_type": "stream",
     "text": [
      "Total elapsed time: 0:02:00\n",
      "REST API JSON response:\n",
      "{\n",
      "  \"code\": 200,\n",
      "  \"state\": \"FINISHED\",\n",
      "  \"message\": \"The requested job has finished successfully, please go to /retrieve/data/{id} for each output_files.\",\n",
      "  \"output_files\": [\n",
      "    {\n",
      "      \"id\": \"5ec24f8484d147.13412117\",\n",
      "      \"name\": \"1AKI_min.trr\",\n",
      "      \"size\": 406152,\n",
      "      \"mimetype\": \"application/octet-stream\"\n",
      "    },\n",
      "    {\n",
      "      \"id\": \"5ec24f848b4af8.20337739\",\n",
      "      \"name\": \"1AKI_min.gro\",\n",
      "      \"size\": 1522674,\n",
      "      \"mimetype\": \"application/octet-stream\"\n",
      "    },\n",
      "    {\n",
      "      \"id\": \"5ec24f84a04e87.41998717\",\n",
      "      \"name\": \"1AKI_min.edr\",\n",
      "      \"size\": 402176,\n",
      "      \"mimetype\": \"application/octet-stream\"\n",
      "    },\n",
      "    {\n",
      "      \"id\": \"5ec24f84a91524.82230443\",\n",
      "      \"name\": \"1AKI_min.log\",\n",
      "      \"size\": 953627,\n",
      "      \"mimetype\": \"text/plain\"\n",
      "    }\n",
      "  ],\n",
      "  \"expiration\": \"May 20, 2020 00:00 GMT+0000\"\n",
      "}\n"
     ]
    }
   ],
   "source": [
    "# Check job status\n",
    "out_files = check_job(token, apiURL)"
   ]
  },
  {
   "cell_type": "code",
   "execution_count": 34,
   "metadata": {},
   "outputs": [],
   "source": [
    "# Save generated file to disk\n",
    "retrieve_data(out_files, apiURL)"
   ]
  },
  {
   "cell_type": "markdown",
   "metadata": {},
   "source": [
    "<a id=\"emStep3\"></a>\n",
    "### Step 3: Checking Energy Minimization results\n",
    "Checking **energy minimization** results. Plotting **potential energy** by time during the minimization process. "
   ]
  },
  {
   "cell_type": "code",
   "execution_count": 35,
   "metadata": {
    "scrolled": true
   },
   "outputs": [
    {
     "name": "stdout",
     "output_type": "stream",
     "text": [
      "{\n",
      "  \"code\": 303,\n",
      "  \"state\": \"RUNNING\",\n",
      "  \"message\": \"The requested job has has been successfully launched, please go to /retrieve/status/{token} for checking job status.\",\n",
      "  \"token\": \"e7f9cd41c4cd9f0f66ba1cf09e48ff992f743fa30ca686cb44d091ca094f1685a05fba3de75832826f3f1ba8ec1f04cffdf84fd1425192d1157cc81130ca1f3a\"\n",
      "}\n"
     ]
    }
   ],
   "source": [
    "# GMXEnergy: Getting system energy by time \n",
    "\n",
    "# Create prop dict and inputs/outputs\n",
    "output_min_ene_xvg = pdbCode + '_min_ene.xvg'\n",
    "prop = {\n",
    "    'terms':  [\"Potential\"]\n",
    "}\n",
    "\n",
    "# Launch bb on REST API\n",
    "token = launch_job(url = apiURL + 'launch/biobb_analysis/gmx_energy',\n",
    "                   config = prop,\n",
    "                   input_energy_path = output_min_edr,\n",
    "                   output_xvg_path = output_min_ene_xvg)"
   ]
  },
  {
   "cell_type": "code",
   "execution_count": 36,
   "metadata": {},
   "outputs": [
    {
     "name": "stdout",
     "output_type": "stream",
     "text": [
      "Total elapsed time: 0:00:03\n",
      "REST API JSON response:\n",
      "{\n",
      "  \"code\": 200,\n",
      "  \"state\": \"FINISHED\",\n",
      "  \"message\": \"The requested job has finished successfully, please go to /retrieve/data/{id} for each output_files.\",\n",
      "  \"output_files\": [\n",
      "    {\n",
      "      \"id\": \"5ec24fdeb83a41.81430993\",\n",
      "      \"name\": \"1AKI_min_ene.xvg\",\n",
      "      \"size\": 58203,\n",
      "      \"mimetype\": \"text/plain\"\n",
      "    }\n",
      "  ],\n",
      "  \"expiration\": \"May 20, 2020 00:00 GMT+0000\"\n",
      "}\n"
     ]
    }
   ],
   "source": [
    "# Check job status\n",
    "out_files = check_job(token, apiURL)"
   ]
  },
  {
   "cell_type": "code",
   "execution_count": 37,
   "metadata": {},
   "outputs": [],
   "source": [
    "# Save generated file to disk\n",
    "retrieve_data(out_files, apiURL)"
   ]
  },
  {
   "cell_type": "code",
   "execution_count": 38,
   "metadata": {},
   "outputs": [
    {
     "data": {
      "text/html": [
       "        <script type=\"text/javascript\">\n",
       "        window.PlotlyConfig = {MathJaxConfig: 'local'};\n",
       "        if (window.MathJax) {MathJax.Hub.Config({SVG: {font: \"STIX-Web\"}});}\n",
       "        if (typeof require !== 'undefined') {\n",
       "        require.undef(\"plotly\");\n",
       "        requirejs.config({\n",
       "            paths: {\n",
       "                'plotly': ['https://cdn.plot.ly/plotly-latest.min']\n",
       "            }\n",
       "        });\n",
       "        require(['plotly'], function(Plotly) {\n",
       "            window._Plotly = Plotly;\n",
       "        });\n",
       "        }\n",
       "        </script>\n",
       "        "
      ]
     },
     "metadata": {},
     "output_type": "display_data"
    },
    {
     "data": {
      "application/vnd.plotly.v1+json": {
       "config": {
        "linkText": "Export to plot.ly",
        "plotlyServerURL": "https://plot.ly",
        "showLink": false
       },
       "data": [
        {
         "type": "scatter",
         "x": [
          0,
          1,
          2,
          3,
          4,
          5,
          6,
          7,
          8,
          9,
          11,
          12,
          13,
          15,
          16,
          17,
          18,
          19,
          21,
          22,
          23,
          25,
          26,
          27,
          28,
          29,
          31,
          33,
          34,
          35,
          36,
          38,
          39,
          40,
          42,
          43,
          44,
          45,
          46,
          48,
          49,
          50,
          52,
          53,
          54,
          55,
          56,
          58,
          59,
          60,
          62,
          63,
          64,
          65,
          67,
          68,
          69,
          71,
          72,
          73,
          74,
          75,
          77,
          78,
          79,
          81,
          82,
          83,
          84,
          86,
          87,
          88,
          90,
          91,
          92,
          93,
          95,
          96,
          97,
          99,
          100,
          101,
          102,
          104,
          105,
          106,
          108,
          109,
          110,
          111,
          112,
          114,
          115,
          116,
          118,
          119,
          120,
          121,
          123,
          124,
          125,
          127,
          128,
          129,
          130,
          132,
          133,
          134,
          136,
          137,
          138,
          139,
          140,
          141,
          143,
          144,
          145,
          147,
          148,
          149,
          150,
          152,
          153,
          154,
          156,
          157,
          158,
          159,
          160,
          162,
          163,
          164,
          166,
          167,
          168,
          169,
          171,
          172,
          173,
          175,
          176,
          177,
          178,
          180,
          181,
          182,
          184,
          185,
          186,
          187,
          189,
          190,
          191,
          193,
          194,
          195,
          196,
          197,
          198,
          200,
          202,
          203,
          204,
          205,
          207,
          208,
          209,
          211,
          212,
          213,
          215,
          216,
          217,
          218,
          219,
          221,
          222,
          223,
          225,
          226,
          227,
          228,
          229,
          231,
          232,
          233,
          235,
          236,
          237,
          238,
          239,
          241,
          242,
          243,
          245,
          246,
          247,
          248,
          249,
          251,
          252,
          253,
          255,
          256,
          257,
          258,
          259,
          261,
          262,
          263,
          265,
          266,
          267,
          268,
          269,
          271,
          272,
          273,
          275,
          276,
          277,
          278,
          280,
          281,
          282,
          284,
          285,
          286,
          287,
          289,
          290,
          291,
          293,
          294,
          295,
          296,
          297,
          299,
          300,
          301,
          303,
          304,
          305,
          306,
          307,
          309,
          310,
          311,
          313,
          314,
          315,
          316,
          317,
          319,
          320,
          321,
          323,
          324,
          325,
          326,
          328,
          329,
          330,
          332,
          333,
          334,
          335,
          337,
          338,
          339,
          341,
          342,
          343,
          344,
          345,
          347,
          348,
          349,
          351,
          352,
          353,
          354,
          355,
          357,
          358,
          359,
          361,
          362,
          363,
          364,
          366,
          367,
          368,
          370,
          371,
          372,
          373,
          375,
          376,
          377,
          379,
          380,
          381,
          382,
          383,
          384,
          386,
          387,
          388,
          390,
          391,
          392,
          393,
          395,
          396,
          397,
          399,
          400,
          401,
          402,
          403,
          405,
          406,
          407,
          409,
          410,
          411,
          412,
          414,
          415,
          416,
          418,
          419,
          420,
          421,
          422,
          423,
          425,
          427,
          428,
          429,
          430,
          432,
          433,
          434,
          436,
          437,
          438,
          440,
          441,
          442,
          443,
          444,
          446,
          447,
          448,
          450,
          451,
          452,
          453,
          454,
          455,
          456,
          458,
          459,
          460,
          462,
          463,
          464,
          465,
          467,
          468,
          469,
          471,
          472,
          473,
          474,
          475,
          477,
          478,
          479,
          481,
          482,
          483,
          484,
          486,
          487,
          488,
          490,
          491,
          492,
          493,
          495,
          496,
          497,
          499,
          500,
          501,
          502,
          503,
          505,
          506,
          507,
          509,
          510,
          511,
          512,
          513,
          515,
          516,
          517,
          519,
          520,
          521,
          522,
          524,
          525,
          526,
          528,
          529,
          530,
          531,
          533,
          534,
          535,
          537,
          538,
          539,
          540,
          541,
          543,
          544,
          545,
          547,
          548,
          549,
          550,
          551,
          553,
          554,
          555,
          557,
          558,
          559,
          560,
          561,
          563,
          564,
          565,
          567,
          568,
          569,
          570,
          572,
          573,
          574,
          576,
          577,
          578,
          579,
          581,
          582,
          583,
          585,
          586,
          587,
          588,
          589,
          591,
          592,
          593,
          595,
          596,
          597,
          598,
          599,
          601,
          602,
          603,
          605,
          606,
          607,
          608,
          610,
          611,
          612,
          614,
          615,
          616,
          617,
          619,
          620,
          621,
          623,
          624,
          625,
          626,
          627,
          629,
          630,
          631,
          633,
          634,
          635,
          636,
          637,
          639,
          640,
          641,
          643,
          644,
          645,
          646,
          648,
          649,
          650,
          652,
          653,
          654,
          655,
          657,
          658,
          659,
          661,
          662,
          663,
          664,
          665,
          666,
          668,
          669,
          670,
          672,
          673,
          675,
          676,
          677,
          679,
          680,
          681,
          682,
          683,
          685,
          686,
          687,
          689,
          690,
          691,
          692,
          693,
          694,
          695,
          697,
          699,
          700,
          701,
          702,
          704,
          705,
          706,
          708,
          709,
          710,
          711,
          712,
          714,
          715,
          716,
          718,
          719,
          720,
          721,
          722,
          724,
          725,
          726,
          728,
          729,
          730,
          731,
          732,
          733,
          735,
          736,
          737,
          739,
          740,
          741,
          742,
          744,
          745,
          746,
          748,
          749,
          750,
          751,
          753,
          754,
          755,
          757,
          758,
          759,
          760,
          761,
          763,
          764,
          765,
          767,
          768,
          769,
          770,
          772,
          773,
          774,
          776,
          777,
          778,
          779,
          781,
          782,
          783,
          785,
          786,
          787,
          788,
          789,
          790,
          792,
          793,
          794,
          796,
          797,
          799,
          800,
          801,
          803,
          804,
          805,
          806,
          807,
          808,
          809,
          811,
          812,
          813,
          815,
          816,
          817,
          818,
          819,
          821,
          822,
          823,
          825,
          826,
          827,
          828,
          830,
          831,
          832,
          834,
          835,
          836,
          837,
          839,
          840,
          841,
          843,
          844,
          845,
          846,
          847,
          849,
          850,
          851,
          853,
          854,
          855,
          856,
          858,
          859,
          860,
          862,
          863,
          864,
          865,
          867,
          868,
          869,
          871,
          872,
          873,
          874,
          875,
          877,
          878,
          879,
          881,
          882,
          883,
          884,
          885,
          886,
          888,
          889,
          890,
          892,
          893,
          895,
          896,
          897,
          899,
          900,
          901,
          902,
          903,
          905,
          906,
          907,
          909,
          910,
          911,
          912,
          913,
          914,
          915,
          917,
          919,
          920,
          921,
          922,
          924,
          925,
          926,
          928,
          929,
          930,
          931,
          932,
          934,
          935,
          936,
          938,
          939,
          940,
          941,
          942,
          944,
          945,
          946,
          948,
          949,
          950,
          951,
          952,
          953,
          955,
          956,
          957,
          959,
          960,
          961,
          962,
          964,
          965,
          966,
          968,
          969,
          970,
          971,
          973,
          974,
          975,
          977,
          978,
          979,
          980,
          981,
          983,
          984,
          985,
          987,
          988,
          989,
          990,
          991,
          993,
          994,
          995,
          997,
          998,
          999,
          1000,
          1002,
          1003,
          1004,
          1006,
          1007,
          1008,
          1009,
          1011,
          1012,
          1013,
          1015,
          1016,
          1017,
          1018,
          1019,
          1021,
          1022,
          1023,
          1025,
          1026,
          1027,
          1028,
          1030,
          1031,
          1032,
          1034,
          1035,
          1036,
          1037,
          1039,
          1040,
          1041,
          1043,
          1044,
          1045,
          1046,
          1047,
          1049,
          1050,
          1051,
          1053,
          1054,
          1055,
          1056,
          1057,
          1058,
          1060,
          1061,
          1062,
          1064,
          1065,
          1067,
          1068,
          1069,
          1071,
          1072,
          1073,
          1074,
          1075,
          1077,
          1078,
          1079,
          1081,
          1082,
          1083,
          1084,
          1085,
          1087,
          1088,
          1089,
          1091,
          1092,
          1093,
          1094,
          1095,
          1096,
          1097,
          1099,
          1101,
          1102,
          1103,
          1104,
          1106,
          1107,
          1108,
          1110,
          1111,
          1112,
          1113,
          1114,
          1116,
          1117,
          1118,
          1120,
          1121,
          1122,
          1123,
          1124,
          1126,
          1127,
          1128,
          1130,
          1131,
          1132,
          1133,
          1134,
          1135,
          1137,
          1139,
          1140,
          1141,
          1142,
          1144,
          1145,
          1146,
          1148,
          1149,
          1150,
          1151,
          1152,
          1154,
          1155,
          1156,
          1158,
          1159,
          1160,
          1161,
          1162,
          1164,
          1165,
          1166,
          1168,
          1169,
          1170,
          1171,
          1172,
          1173,
          1175,
          1176,
          1177,
          1179,
          1180,
          1181,
          1182,
          1184,
          1185,
          1186,
          1188,
          1189,
          1190,
          1191,
          1193,
          1194,
          1195,
          1197,
          1198,
          1199,
          1200,
          1201,
          1203,
          1204,
          1205,
          1207,
          1208,
          1209,
          1210,
          1211,
          1213,
          1214,
          1215,
          1217,
          1218,
          1219,
          1220,
          1222,
          1223,
          1224,
          1226,
          1227,
          1228,
          1229,
          1231,
          1232,
          1233,
          1235,
          1236,
          1237,
          1238,
          1239,
          1241,
          1242,
          1243,
          1245,
          1246,
          1247,
          1248,
          1249,
          1251,
          1252,
          1253,
          1255,
          1256,
          1257,
          1258,
          1260,
          1261,
          1262,
          1264,
          1265,
          1266,
          1267,
          1269,
          1270,
          1271,
          1273,
          1274,
          1275,
          1276,
          1277,
          1279,
          1280,
          1281,
          1283,
          1284,
          1285,
          1286,
          1287,
          1288,
          1290,
          1291,
          1292,
          1294,
          1295,
          1297,
          1298,
          1299,
          1301,
          1302,
          1303,
          1304,
          1305,
          1307,
          1308,
          1309,
          1311,
          1312,
          1313,
          1314,
          1315,
          1317,
          1318,
          1319,
          1321,
          1322,
          1323,
          1324,
          1325,
          1326,
          1328,
          1329,
          1330,
          1332,
          1333,
          1335,
          1336,
          1337,
          1339,
          1340,
          1341,
          1342,
          1343,
          1345,
          1346,
          1347,
          1349,
          1350,
          1351,
          1352,
          1353,
          1355,
          1356,
          1357,
          1359,
          1360,
          1361,
          1362,
          1363,
          1365,
          1366,
          1367,
          1369,
          1370,
          1371,
          1372,
          1373,
          1375,
          1376,
          1377,
          1379,
          1380,
          1381,
          1382,
          1383,
          1384,
          1386,
          1387,
          1388,
          1390,
          1391,
          1393,
          1394,
          1395,
          1397,
          1398,
          1399,
          1400,
          1401,
          1403,
          1404,
          1405,
          1407,
          1408,
          1409,
          1410,
          1411,
          1413,
          1414,
          1415,
          1417,
          1418,
          1419,
          1420,
          1421,
          1423,
          1424,
          1425,
          1427,
          1428,
          1429,
          1430,
          1431,
          1432,
          1434,
          1436,
          1437,
          1438,
          1439,
          1441,
          1442,
          1443,
          1445,
          1446,
          1447,
          1449,
          1450,
          1451,
          1452,
          1453,
          1454,
          1455,
          1457,
          1458,
          1459,
          1461,
          1462,
          1463,
          1464,
          1466,
          1467,
          1468,
          1470,
          1471,
          1472,
          1473,
          1474,
          1476,
          1477,
          1478,
          1480,
          1481,
          1482,
          1483,
          1485,
          1486,
          1487,
          1489,
          1490,
          1491,
          1492,
          1494,
          1495,
          1496,
          1498,
          1499,
          1500,
          1501,
          1502,
          1504,
          1505,
          1506,
          1508,
          1509,
          1510,
          1511,
          1512,
          1513,
          1515,
          1516,
          1517,
          1519,
          1520,
          1522,
          1523,
          1524,
          1526,
          1527,
          1528,
          1529,
          1530,
          1532,
          1533,
          1534,
          1536,
          1537,
          1538,
          1539,
          1540,
          1542,
          1543,
          1544,
          1546,
          1547,
          1548,
          1549,
          1550,
          1552,
          1553,
          1554,
          1556,
          1557,
          1558,
          1559,
          1560,
          1561,
          1563,
          1564,
          1565,
          1567,
          1568,
          1570,
          1571,
          1572,
          1574,
          1575,
          1576,
          1577,
          1578,
          1580,
          1581,
          1582,
          1584,
          1585,
          1586,
          1587,
          1588,
          1590,
          1591,
          1592,
          1594,
          1595,
          1596,
          1597,
          1598,
          1600,
          1601,
          1602,
          1604,
          1605,
          1606,
          1607,
          1608,
          1609,
          1611,
          1612,
          1613,
          1615,
          1616,
          1618,
          1619,
          1620,
          1622,
          1623,
          1624,
          1625,
          1626,
          1628,
          1629,
          1630,
          1632,
          1633,
          1634,
          1635,
          1636,
          1638,
          1639,
          1640,
          1642,
          1643,
          1644,
          1645,
          1646,
          1648,
          1649,
          1650,
          1652,
          1653,
          1654,
          1655,
          1656,
          1657,
          1659,
          1660,
          1661,
          1663,
          1664,
          1666,
          1667,
          1668,
          1670,
          1671,
          1672,
          1673,
          1674,
          1676,
          1677,
          1678,
          1680,
          1681,
          1682,
          1683,
          1684,
          1686,
          1687,
          1688,
          1690,
          1691,
          1692,
          1693,
          1694,
          1696,
          1697,
          1698,
          1700,
          1701,
          1702,
          1703,
          1704,
          1705,
          1707,
          1708,
          1709,
          1711,
          1712,
          1714,
          1715,
          1716,
          1718,
          1719,
          1720,
          1721,
          1722,
          1724,
          1725,
          1726,
          1728,
          1729,
          1730,
          1731,
          1732,
          1734,
          1735,
          1736,
          1738,
          1739,
          1740,
          1741,
          1742,
          1743,
          1745,
          1746,
          1747,
          1749,
          1750,
          1752,
          1753,
          1754,
          1756,
          1757,
          1758,
          1759,
          1760,
          1762,
          1763,
          1764,
          1766,
          1767,
          1768,
          1769,
          1770,
          1772,
          1773,
          1774,
          1776,
          1777,
          1778,
          1779,
          1780,
          1782,
          1783,
          1784,
          1786,
          1787,
          1788,
          1789,
          1790,
          1791,
          1793,
          1794,
          1795,
          1797,
          1798,
          1800,
          1801,
          1802,
          1804,
          1805,
          1806,
          1807,
          1808,
          1810,
          1811,
          1812,
          1814,
          1815,
          1816,
          1817,
          1818,
          1820,
          1821,
          1822,
          1824,
          1825,
          1826,
          1827,
          1828,
          1829,
          1831,
          1832,
          1833,
          1835,
          1836,
          1837,
          1838,
          1840,
          1841,
          1842,
          1844,
          1845,
          1846,
          1847,
          1848,
          1850,
          1851,
          1852,
          1854,
          1855,
          1856,
          1857,
          1858,
          1860,
          1861,
          1862,
          1864,
          1865,
          1866,
          1867,
          1869,
          1870,
          1871,
          1873,
          1874,
          1875,
          1876,
          1878,
          1879,
          1880,
          1882,
          1883,
          1884,
          1885,
          1886,
          1888,
          1889,
          1890,
          1892,
          1893,
          1894,
          1895,
          1897,
          1898,
          1899,
          1901,
          1902,
          1903,
          1904,
          1906,
          1907,
          1908,
          1910,
          1911,
          1912,
          1913,
          1914,
          1915,
          1916,
          1918,
          1920,
          1921,
          1922,
          1923,
          1925,
          1926,
          1927,
          1929,
          1930,
          1931,
          1932,
          1933,
          1935,
          1936,
          1937,
          1939,
          1940,
          1941,
          1942,
          1943,
          1945,
          1946,
          1947,
          1949,
          1950,
          1951,
          1952,
          1953,
          1954,
          1956,
          1957,
          1958,
          1960,
          1961,
          1962,
          1963,
          1965,
          1966,
          1967,
          1969,
          1970,
          1971,
          1972,
          1974,
          1975,
          1976,
          1978,
          1979,
          1980,
          1981,
          1982,
          1984,
          1985,
          1986,
          1988,
          1989,
          1990,
          1991,
          1993,
          1994,
          1995,
          1997,
          1998,
          1999,
          2000,
          2002,
          2003,
          2004,
          2006,
          2007,
          2008,
          2009,
          2010,
          2011,
          2013,
          2014,
          2015,
          2017,
          2018,
          2019,
          2020,
          2022,
          2023,
          2024,
          2026,
          2027,
          2028,
          2029,
          2030,
          2032,
          2033,
          2034,
          2036,
          2037,
          2038,
          2039,
          2040,
          2042,
          2043,
          2044,
          2046,
          2047,
          2048,
          2049,
          2051,
          2052,
          2053,
          2055,
          2056,
          2057,
          2058,
          2060,
          2061,
          2062,
          2064,
          2065,
          2066,
          2067,
          2068,
          2069,
          2071,
          2072,
          2073,
          2075,
          2076,
          2078,
          2079,
          2080,
          2082,
          2083,
          2084,
          2085,
          2086,
          2088,
          2089,
          2090,
          2092,
          2093,
          2094,
          2095,
          2096,
          2097,
          2098,
          2100,
          2101,
          2102,
          2104,
          2105,
          2106,
          2107,
          2109,
          2110,
          2111,
          2113,
          2114,
          2115,
          2116,
          2118,
          2119,
          2120,
          2122,
          2123,
          2124,
          2125,
          2126,
          2128,
          2129,
          2130,
          2132,
          2133,
          2134,
          2135,
          2137,
          2138,
          2139,
          2141,
          2142,
          2143,
          2144,
          2145,
          2146,
          2148,
          2150,
          2151,
          2152,
          2153,
          2155,
          2156,
          2157,
          2159,
          2160,
          2161,
          2162,
          2163,
          2165,
          2166,
          2167,
          2169,
          2170,
          2171,
          2172,
          2173,
          2175,
          2176,
          2177,
          2179,
          2180,
          2181,
          2182,
          2183,
          2185,
          2186,
          2187,
          2189,
          2190,
          2191,
          2192,
          2194,
          2195,
          2196,
          2198,
          2199,
          2200,
          2201,
          2202,
          2204,
          2205,
          2206,
          2208,
          2209,
          2210,
          2211,
          2212,
          2213,
          2215,
          2216,
          2217,
          2219,
          2220,
          2222,
          2223,
          2224,
          2226,
          2227,
          2228,
          2229,
          2230,
          2231,
          2232,
          2234,
          2236,
          2237,
          2238,
          2239,
          2241,
          2242,
          2243,
          2245,
          2246,
          2247,
          2248,
          2249,
          2251,
          2252,
          2253,
          2255,
          2256,
          2257,
          2258,
          2259,
          2261,
          2262,
          2263,
          2265,
          2266,
          2267,
          2268,
          2269,
          2270,
          2272,
          2273,
          2274,
          2276,
          2277,
          2278,
          2279,
          2281,
          2282,
          2283,
          2285,
          2286,
          2287,
          2288,
          2290,
          2291,
          2292,
          2294,
          2295,
          2296,
          2297,
          2298,
          2299,
          2301,
          2302,
          2303,
          2305,
          2306,
          2308,
          2309,
          2310,
          2312,
          2313,
          2314,
          2315,
          2316,
          2318,
          2319,
          2320,
          2322,
          2323,
          2324,
          2325,
          2326,
          2327,
          2328,
          2330,
          2331,
          2332,
          2334,
          2335,
          2336,
          2337,
          2339,
          2340,
          2341,
          2343,
          2344,
          2345,
          2346,
          2348,
          2349,
          2350,
          2352,
          2353,
          2354,
          2355,
          2356,
          2357,
          2359,
          2361,
          2362,
          2363,
          2364,
          2366,
          2367,
          2368,
          2370,
          2371,
          2372,
          2374,
          2375,
          2376,
          2377,
          2378,
          2380,
          2381,
          2382,
          2384,
          2385,
          2386,
          2387,
          2388,
          2389,
          2390,
          2392,
          2393,
          2394,
          2396,
          2397,
          2398,
          2399,
          2401,
          2402,
          2403,
          2405,
          2406,
          2407,
          2408,
          2409,
          2411,
          2412,
          2413,
          2415,
          2416,
          2417,
          2418,
          2420,
          2421,
          2422,
          2424,
          2425,
          2426,
          2427,
          2429,
          2430,
          2431,
          2433,
          2434,
          2435,
          2436,
          2437,
          2438,
          2440,
          2441,
          2442,
          2444,
          2445,
          2447,
          2448,
          2449,
          2451,
          2452,
          2453,
          2454,
          2455,
          2456,
          2457,
          2459,
          2460,
          2461,
          2463,
          2464,
          2465,
          2466,
          2468,
          2469,
          2470,
          2472,
          2473,
          2474,
          2475,
          2477,
          2478,
          2479,
          2481,
          2482,
          2483,
          2484,
          2485,
          2487,
          2488,
          2489,
          2491,
          2492,
          2493,
          2494,
          2496,
          2497,
          2498,
          2500,
          2501,
          2502,
          2503,
          2504,
          2505,
          2507,
          2508,
          2509,
          2511,
          2512,
          2513,
          2514,
          2516,
          2517,
          2518,
          2520,
          2521,
          2522,
          2523,
          2525,
          2526,
          2527,
          2529,
          2530,
          2531,
          2532,
          2533,
          2535
         ],
         "y": [
          -327612.125,
          -347306.34375,
          -371487.59375,
          -400072.09375,
          -427773.65625,
          -452044.59375,
          -457291.25,
          -461901,
          -463964.4375,
          -467419.9375,
          -472346.71875,
          -473178.34375,
          -479740.1875,
          -482194.40625,
          -483604.21875,
          -485770.25,
          -486202.78125,
          -487950.9375,
          -491239.84375,
          -491569.46875,
          -496080.1875,
          -497212.75,
          -497915.40625,
          -498762.84375,
          -498798.6875,
          -499044.90625,
          -503261.65625,
          -504590.9375,
          -505914.15625,
          -506153.65625,
          -507574.59375,
          -508784.03125,
          -509316.5625,
          -510723.84375,
          -511569.28125,
          -512162.21875,
          -513047.625,
          -513197.0625,
          -514057.46875,
          -515345.15625,
          -515769.03125,
          -517365.9375,
          -517970.6875,
          -518392.84375,
          -518940.03125,
          -519113.28125,
          -519502.34375,
          -520976.75,
          -521471.3125,
          -523378.40625,
          -523770.0625,
          -524162.46875,
          -524394.1875,
          -524644.375,
          -525843.8125,
          -526626.25,
          -528134.25,
          -528466.4375,
          -528804.25,
          -529018.75,
          -529233.5,
          -529242.1875,
          -530580.5625,
          -531357.75,
          -533035.25,
          -533255.9375,
          -533527.1875,
          -533613.4375,
          -533751.3125,
          -534757.25,
          -534980.4375,
          -536369.375,
          -536553.75,
          -536811.625,
          -536875.3125,
          -537043.375,
          -537864.25,
          -538097.9375,
          -539174.0625,
          -539362.0625,
          -539596.0625,
          -539682.375,
          -539869.0625,
          -540481.125,
          -540768.5,
          -541524.0625,
          -541727.6875,
          -541907.875,
          -542068.9375,
          -542175.8125,
          -542255.4375,
          -542921.75,
          -543343.9375,
          -544164.1875,
          -544322.8125,
          -544501.6875,
          -544595.625,
          -544720.8125,
          -545209.375,
          -545589.0625,
          -546230.375,
          -546383.4375,
          -546559.8125,
          -546649.9375,
          -546800.875,
          -547169.875,
          -547469.5,
          -547932.9375,
          -548090.5,
          -548234.0625,
          -548365.25,
          -548465.875,
          -548545.4375,
          -548559.375,
          -549138.3125,
          -549493.125,
          -550261.0625,
          -550352.5,
          -550512.5,
          -550522.1875,
          -550658.1875,
          -551056.25,
          -551098.25,
          -551614.3125,
          -551740.25,
          -551838.3125,
          -551936,
          -551976.125,
          -552011.25,
          -552502.6875,
          -552620.125,
          -553262.25,
          -553348.875,
          -553464.9375,
          -553493.5625,
          -553570.4375,
          -553954.125,
          -554042.6875,
          -554555.3125,
          -554648.4375,
          -554752.5,
          -554801.4375,
          -554869.9375,
          -555197.9375,
          -555379.4375,
          -555811.25,
          -555903.4375,
          -556006.125,
          -556060,
          -556136.375,
          -556407.9375,
          -556606.5,
          -556965.3125,
          -557057.6875,
          -557154.25,
          -557216.875,
          -557289.1875,
          -557297.375,
          -557314.1875,
          -557747.5,
          -557915.4375,
          -558078.25,
          -558094.125,
          -558289.875,
          -558423.375,
          -558476.6875,
          -558631.375,
          -558755.125,
          -558839.375,
          -558985.8125,
          -559091.3125,
          -559186.3125,
          -559305.25,
          -559339.5625,
          -559465.75,
          -559617.25,
          -559699.5625,
          -559890.25,
          -559986,
          -560059.75,
          -560159.1875,
          -560190.125,
          -560289.1875,
          -560469.3125,
          -560559.3125,
          -560777.5625,
          -560867.8125,
          -560933.6875,
          -561024.625,
          -561049,
          -561134.5,
          -561331.1875,
          -561410.1875,
          -561651.6875,
          -561735.3125,
          -561795.625,
          -561875.25,
          -561896.875,
          -561964.8125,
          -562183.5625,
          -562252.8125,
          -562522.75,
          -562598.9375,
          -562656.125,
          -562722.9375,
          -562743.4375,
          -562790.6875,
          -563035.0625,
          -563099.6875,
          -563402.875,
          -563469.6875,
          -563525.8125,
          -563578.0625,
          -563600.5625,
          -563623.625,
          -563897.375,
          -563962.75,
          -564303.25,
          -564359.75,
          -564417.1875,
          -564452.1875,
          -564477.625,
          -564702.5,
          -564890.125,
          -565192.5,
          -565243.8125,
          -565324.9375,
          -565338.5,
          -565419.625,
          -565567.9375,
          -565615.875,
          -565799.0625,
          -565869.25,
          -565916.8125,
          -565986.6875,
          -566001.1875,
          -566063.4375,
          -566233.1875,
          -566282.375,
          -566494.5625,
          -566557.5,
          -566604.6875,
          -566661.125,
          -566679,
          -566719.125,
          -566914.25,
          -566973.8125,
          -567219.25,
          -567273.9375,
          -567322.75,
          -567364.1875,
          -567387.875,
          -567402.5,
          -567626.0625,
          -567711.625,
          -567992.875,
          -568037.8125,
          -568090.5,
          -568114.5,
          -568145.5,
          -568322.0625,
          -568431.5625,
          -568667.875,
          -568713.3125,
          -568774,
          -568793.5625,
          -568849.25,
          -568979.5,
          -569043.5,
          -569206.875,
          -569262.1875,
          -569306.625,
          -569356.25,
          -569380.125,
          -569415.9375,
          -569567.375,
          -569654.6875,
          -569846.1875,
          -569894.5625,
          -569940.8125,
          -569977.0625,
          -570006.9375,
          -570020.1875,
          -570196.1875,
          -570334.1875,
          -570557.1875,
          -570597.5625,
          -570647.3125,
          -570668.6875,
          -570705.6875,
          -570839.1875,
          -570923.375,
          -571100.3125,
          -571144.1875,
          -571192.6875,
          -571220.875,
          -571260.4375,
          -571370.5625,
          -571472.5625,
          -571611.875,
          -571658.5625,
          -571703.0625,
          -571741.125,
          -571774.5,
          -571795.875,
          -571804.5,
          -571978.1875,
          -572079.5,
          -572309.6875,
          -572341.0625,
          -572392.4375,
          -572399.0625,
          -572443.8125,
          -572567.6875,
          -572594.6875,
          -572754.6875,
          -572797.9375,
          -572832.625,
          -572867.4375,
          -572884.625,
          -572901.3125,
          -573054.75,
          -573123.875,
          -573323.4375,
          -573356.75,
          -573399.6875,
          -573414.9375,
          -573447.125,
          -573566.875,
          -573623.75,
          -573780.625,
          -573818.6875,
          -573857.625,
          -573883.25,
          -573911.5,
          -573915.375,
          -573918.25,
          -574109.5625,
          -574184.75,
          -574255.75,
          -574262.5625,
          -574348.75,
          -574405.625,
          -574429.5,
          -574494.1875,
          -574547.875,
          -574587.625,
          -574651.9375,
          -574696.8125,
          -574739.9375,
          -574789.8125,
          -574809.125,
          -574861.8125,
          -574927.0625,
          -574974.25,
          -575056.0625,
          -575097.75,
          -575133.5,
          -575175.25,
          -575197.6875,
          -575234.0625,
          -575234.4375,
          -575255.375,
          -575402.0625,
          -575403.5,
          -575599.6875,
          -575627.0625,
          -575662.4375,
          -575671.6875,
          -575696.4375,
          -575816.9375,
          -575847.1875,
          -576002.875,
          -576035.6875,
          -576066.4375,
          -576089.3125,
          -576106,
          -576109.375,
          -576254.8125,
          -576315.9375,
          -576502.8125,
          -576528.375,
          -576563,
          -576572.875,
          -576595.1875,
          -576708.0625,
          -576750.4375,
          -576904.0625,
          -576931.8125,
          -576968.4375,
          -576980.0625,
          -577012.1875,
          -577101.4375,
          -577138.9375,
          -577251.25,
          -577285.75,
          -577312.9375,
          -577343.4375,
          -577355.875,
          -577377.0625,
          -577481.5,
          -577522.75,
          -577655.125,
          -577685.75,
          -577713.3125,
          -577736.875,
          -577750.4375,
          -577759.9375,
          -577882.0625,
          -577926.5,
          -578081.125,
          -578107.125,
          -578135.3125,
          -578151.5,
          -578165.625,
          -578267.375,
          -578348.5,
          -578488.9375,
          -578514.0625,
          -578552.625,
          -578558.75,
          -578598.125,
          -578668.875,
          -578689.625,
          -578777.8125,
          -578811.875,
          -578834,
          -578869.25,
          -578873.375,
          -578905.875,
          -578988.9375,
          -579004.375,
          -579108.1875,
          -579139.875,
          -579160.75,
          -579190.4375,
          -579194.5,
          -579217.9375,
          -579315.375,
          -579326.0625,
          -579449.0625,
          -579477.5625,
          -579498.4375,
          -579521.25,
          -579526.125,
          -579538.625,
          -579652.8125,
          -579660.5625,
          -579806.5625,
          -579830.625,
          -579852.9375,
          -579867.5,
          -579874.625,
          -579975.8125,
          -580056,
          -580195.375,
          -580215.0625,
          -580251.5625,
          -580252.1875,
          -580289.25,
          -580356.9375,
          -580366.5,
          -580451.75,
          -580482.5625,
          -580500.4375,
          -580531.6875,
          -580532.625,
          -580560.25,
          -580641.25,
          -580648.375,
          -580752,
          -580779.125,
          -580797.75,
          -580821.4375,
          -580825.1875,
          -580840.375,
          -580938.1875,
          -580947.1875,
          -581073.3125,
          -581095.8125,
          -581116.625,
          -581130.8125,
          -581139.875,
          -581227.125,
          -581301.5,
          -581419.75,
          -581439.5,
          -581470.5625,
          -581475.375,
          -581505.6875,
          -581567.125,
          -581584.9375,
          -581662.8125,
          -581689.5625,
          -581708.8125,
          -581733.9375,
          -581740.6875,
          -581760.4375,
          -581834.9375,
          -581858.8125,
          -581954.125,
          -581977.5,
          -581998.25,
          -582015.8125,
          -582026.9375,
          -582033.375,
          -582123.8125,
          -582167.625,
          -582284.6875,
          -582303.25,
          -582327.3125,
          -582335.8125,
          -582352.5,
          -582423.75,
          -582456.8125,
          -582551.5,
          -582572.3125,
          -582596.375,
          -582608,
          -582627.4375,
          -582686.125,
          -582728,
          -582803.3125,
          -582826.5,
          -582847.75,
          -582865.4375,
          -582880.5,
          -582889.875,
          -582890.3125,
          -582987.0625,
          -583028.875,
          -583159.0625,
          -583171.9375,
          -583199.8125,
          -583237.8125,
          -583270.1875,
          -583317.5,
          -583341.3125,
          -583362.6875,
          -583386.8125,
          -583399.5,
          -583421.75,
          -583466.5625,
          -583507.3125,
          -583564.8125,
          -583587.6875,
          -583607.875,
          -583628.4375,
          -583642.3125,
          -583657.4375,
          -583659.75,
          -583663.3125,
          -583761.125,
          -583798.6875,
          -583835.1875,
          -583839.9375,
          -583882.625,
          -583913.625,
          -583927.25,
          -583963.8125,
          -583990.875,
          -584011.25,
          -584042.1875,
          -584045.0625,
          -584078.375,
          -584117.8125,
          -584131,
          -584181,
          -584205.0625,
          -584221.5,
          -584245.5625,
          -584252.125,
          -584273.5625,
          -584324.25,
          -584346.3125,
          -584413.5625,
          -584433.5625,
          -584452.3125,
          -584467.625,
          -584480.8125,
          -584487.0625,
          -584488.9375,
          -584575.8125,
          -584595.5,
          -584709,
          -584722.3125,
          -584742,
          -584745.25,
          -584758.75,
          -584826.125,
          -584838.625,
          -584928.875,
          -584945.125,
          -584964.375,
          -584971.8125,
          -584986.5,
          -585042.75,
          -585069.875,
          -585142.625,
          -585160.5,
          -585177.625,
          -585191.375,
          -585202.25,
          -585206.875,
          -585275.1875,
          -585325.75,
          -585413.9375,
          -585428.75,
          -585448.625,
          -585455.3125,
          -585470.0625,
          -585522.4375,
          -585549.375,
          -585619.1875,
          -585636.3125,
          -585654.6875,
          -585665.4375,
          -585680.5,
          -585724.9375,
          -585765.375,
          -585822.375,
          -585840.5625,
          -585857.875,
          -585872.75,
          -585885.5,
          -585893.625,
          -585895.9375,
          -585967.5625,
          -586006.6875,
          -586104.0625,
          -586115.375,
          -586137.5625,
          -586166.125,
          -586193.9375,
          -586229.375,
          -586248.25,
          -586265.6875,
          -586285.3125,
          -586296.25,
          -586314.8125,
          -586315,
          -586329.875,
          -586389.1875,
          -586391,
          -586468.1875,
          -586484.1875,
          -586497.125,
          -586509.1875,
          -586513.6875,
          -586516.75,
          -586590.25,
          -586602.125,
          -586697.6875,
          -586709.625,
          -586725.6875,
          -586729.75,
          -586739.6875,
          -586798,
          -586813.625,
          -586892.5625,
          -586905.875,
          -586923.125,
          -586928.75,
          -586943,
          -586989.8125,
          -587008.8125,
          -587069.625,
          -587085.4375,
          -587099.625,
          -587112.3125,
          -587120.3125,
          -587126.25,
          -587183.625,
          -587215.5625,
          -587289.375,
          -587302.8125,
          -587319.25,
          -587326.6875,
          -587337.75,
          -587383.4375,
          -587414.8125,
          -587476.6875,
          -587490.625,
          -587507.8125,
          -587515.9375,
          -587530.8125,
          -587568.125,
          -587595.625,
          -587642.5,
          -587658.8125,
          -587673.375,
          -587687.3125,
          -587696.75,
          -587706.4375,
          -587750.625,
          -587789.8125,
          -587846.3125,
          -587861.125,
          -587876.125,
          -587886.75,
          -587897.9375,
          -587901.1875,
          -587903.375,
          -587970.75,
          -587981.1875,
          -588073.1875,
          -588081.75,
          -588100,
          -588127.75,
          -588150.875,
          -588185.375,
          -588201.75,
          -588215.5625,
          -588232.0625,
          -588240.5,
          -588255.25,
          -588287.5,
          -588316.0625,
          -588357.1875,
          -588372.9375,
          -588386.875,
          -588400.6875,
          -588409.9375,
          -588420.375,
          -588420.625,
          -588423.1875,
          -588493.1875,
          -588517.9375,
          -588543.5,
          -588545.875,
          -588576.0625,
          -588598.25,
          -588606.9375,
          -588633.625,
          -588652.5625,
          -588665.75,
          -588687.25,
          -588689.0625,
          -588711.8125,
          -588740.4375,
          -588749.6875,
          -588786.6875,
          -588803.125,
          -588814.5625,
          -588830.4375,
          -588835.3125,
          -588848.75,
          -588886.5,
          -588905.25,
          -588955.5625,
          -588969.25,
          -588982.8125,
          -588993.0625,
          -589003.75,
          -589005.0625,
          -589009.625,
          -589070.3125,
          -589071.5625,
          -589150.5,
          -589161.25,
          -589173.3125,
          -589177.5625,
          -589183.875,
          -589234.4375,
          -589253.125,
          -589321.6875,
          -589332.25,
          -589347.6875,
          -589350.5,
          -589364.375,
          -589402.8125,
          -589412.75,
          -589461.9375,
          -589476,
          -589487,
          -589499.1875,
          -589503.9375,
          -589511.1875,
          -589557.875,
          -589574.0625,
          -589634.1875,
          -589646,
          -589658.6875,
          -589666,
          -589673.25,
          -589673.3125,
          -589729.875,
          -589761.9375,
          -589834.4375,
          -589843.9375,
          -589858.0625,
          -589860.8125,
          -589871.125,
          -589913.6875,
          -589924.625,
          -589981.25,
          -589992.8125,
          -590006.0625,
          -590012.375,
          -590022.6875,
          -590058.1875,
          -590081.1875,
          -590127.0625,
          -590140,
          -590151.9375,
          -590162.25,
          -590169.9375,
          -590175.25,
          -590217.75,
          -590252.5625,
          -590307.0625,
          -590318.5625,
          -590331.5625,
          -590338.1875,
          -590348.25,
          -590382.3125,
          -590411,
          -590457.4375,
          -590469.25,
          -590482.875,
          -590490.375,
          -590502.875,
          -590530.5,
          -590554.6875,
          -590589.875,
          -590603,
          -590615.0625,
          -590627.1875,
          -590635.125,
          -590644.4375,
          -590676.625,
          -590708.8125,
          -590749.6875,
          -590762.375,
          -590774.5625,
          -590784.25,
          -590793.4375,
          -590798.5,
          -590800.125,
          -590851.1875,
          -590873.75,
          -590943.1875,
          -590950.9375,
          -590966.875,
          -590987.125,
          -591005.5,
          -591030.875,
          -591044.3125,
          -591056.5,
          -591070.4375,
          -591077.9375,
          -591091.25,
          -591114.9375,
          -591136.5,
          -591165.6875,
          -591178.9375,
          -591190.5625,
          -591202.9375,
          -591210.6875,
          -591221.375,
          -591248.875,
          -591274.9375,
          -591309.75,
          -591322.625,
          -591333.8125,
          -591344.625,
          -591352.4375,
          -591359.9375,
          -591361,
          -591361.0625,
          -591420.9375,
          -591442.0625,
          -591463.625,
          -591464.75,
          -591490.1875,
          -591508.6875,
          -591515,
          -591536.5,
          -591552.75,
          -591563.375,
          -591581.4375,
          -591582.125,
          -591601.3125,
          -591625.375,
          -591631.1875,
          -591661.875,
          -591675.5,
          -591684.625,
          -591698.4375,
          -591701.8125,
          -591713.3125,
          -591744.25,
          -591758.125,
          -591800.125,
          -591811.375,
          -591822.8125,
          -591830.5,
          -591839.125,
          -591840.3125,
          -591843.4375,
          -591894.75,
          -591914.5625,
          -591933.6875,
          -591937.4375,
          -591959.3125,
          -591976.375,
          -591984.8125,
          -592005.5625,
          -592019.6875,
          -592031.25,
          -592046.6875,
          -592050.1875,
          -592066.875,
          -592088.6875,
          -592098.75,
          -592127.3125,
          -592139.75,
          -592149.75,
          -592161.6875,
          -592167.4375,
          -592176.9375,
          -592206,
          -592227.375,
          -592265.9375,
          -592276.875,
          -592288.5,
          -592295.8125,
          -592306.375,
          -592307.125,
          -592313.3125,
          -592356.8125,
          -592358,
          -592414.25,
          -592423.625,
          -592432.6875,
          -592438.3125,
          -592442.25,
          -592480.75,
          -592510,
          -592562.625,
          -592571.25,
          -592584.8125,
          -592586.3125,
          -592599.9375,
          -592626.9375,
          -592634.25,
          -592669.125,
          -592680.8125,
          -592688.8125,
          -592700.1875,
          -592703.125,
          -592712,
          -592745.0625,
          -592754.5,
          -592796.625,
          -592807,
          -592815.8125,
          -592824.375,
          -592828.5625,
          -592832.5625,
          -592872.1875,
          -592888.0625,
          -592939.375,
          -592948.3125,
          -592958.375,
          -592963.375,
          -592969.625,
          -593002.375,
          -593023,
          -593067.625,
          -593076.3125,
          -593088.0625,
          -593092.6875,
          -593103.5625,
          -593128.625,
          -593142.4375,
          -593174.25,
          -593185.3125,
          -593194.5,
          -593204.0625,
          -593209.375,
          -593216.5625,
          -593246.625,
          -593264.9375,
          -593303.375,
          -593313.5,
          -593323.25,
          -593330.3125,
          -593336.6875,
          -593339.625,
          -593375.375,
          -593403.3125,
          -593449.4375,
          -593458,
          -593468.5,
          -593473.1875,
          -593480.75,
          -593509,
          -593528.9375,
          -593566.8125,
          -593576.0625,
          -593586.75,
          -593592.25,
          -593602.25,
          -593625.0625,
          -593643.375,
          -593672.0625,
          -593682.75,
          -593691.9375,
          -593701.4375,
          -593707.3125,
          -593714.125,
          -593740.9375,
          -593765.125,
          -593799.4375,
          -593809.1875,
          -593818.75,
          -593826.0625,
          -593832.875,
          -593836.25,
          -593837.25,
          -593879.8125,
          -593894.25,
          -593952.375,
          -593958.0625,
          -593970.5625,
          -593987.5625,
          -594000.8125,
          -594021.5625,
          -594031.9375,
          -594041.5,
          -594052.625,
          -594057.8125,
          -594069,
          -594088.125,
          -594103.1875,
          -594127.625,
          -594138.125,
          -594146.8125,
          -594157.0625,
          -594162.1875,
          -594170.5625,
          -594193.75,
          -594212,
          -594240.5625,
          -594250.75,
          -594259.4375,
          -594268,
          -594273.6875,
          -594279.375,
          -594279.4375,
          -594317.625,
          -594353.375,
          -594406.625,
          -594412.25,
          -594425.5,
          -594439.875,
          -594451.25,
          -594468.625,
          -594479.0625,
          -594488.875,
          -594500.5,
          -594505.375,
          -594517.0625,
          -594533.6875,
          -594546.125,
          -594566.1875,
          -594576.375,
          -594585.5625,
          -594596.1875,
          -594600.5,
          -594610.875,
          -594629.875,
          -594644.375,
          -594668.25,
          -594678.125,
          -594686.625,
          -594695.8125,
          -594700.9375,
          -594708.8125,
          -594731.4375,
          -594748.5625,
          -594777.375,
          -594786.5,
          -594794.875,
          -594803,
          -594808.4375,
          -594813.625,
          -594840.125,
          -594864,
          -594898.125,
          -594906.3125,
          -594915.1875,
          -594921.125,
          -594927.625,
          -594929.0625,
          -594930.375,
          -594970.875,
          -594975.5625,
          -595031.25,
          -595036,
          -595047.0625,
          -595063.4375,
          -595075.875,
          -595096,
          -595105.875,
          -595113.8125,
          -595123.9375,
          -595128.5625,
          -595137.75,
          -595156.6875,
          -595170.6875,
          -595195.3125,
          -595204.5625,
          -595212.375,
          -595221.125,
          -595225.8125,
          -595232.6875,
          -595255.125,
          -595273.25,
          -595301.9375,
          -595310.625,
          -595318.875,
          -595325.875,
          -595331.5625,
          -595335.4375,
          -595362.125,
          -595387.4375,
          -595421.625,
          -595429.6875,
          -595438.125,
          -595443.1875,
          -595449.8125,
          -595450.4375,
          -595451.75,
          -595491.5625,
          -595507.25,
          -595522.6875,
          -595524.9375,
          -595543.625,
          -595555.5625,
          -595561.1875,
          -595574.125,
          -595586,
          -595596,
          -595611.3125,
          -595620.5,
          -595629.5625,
          -595639.375,
          -595645,
          -595654.1875,
          -595655.3125,
          -595662.25,
          -595689.5625,
          -595693.9375,
          -595730.25,
          -595737.5,
          -595745.9375,
          -595749.9375,
          -595756.3125,
          -595779.25,
          -595794.875,
          -595824.8125,
          -595833,
          -595840.625,
          -595846.8125,
          -595851.9375,
          -595854.875,
          -595882.625,
          -595906.25,
          -595942.0625,
          -595949.125,
          -595957.625,
          -595961.5,
          -595967.8125,
          -595989.6875,
          -596006.75,
          -596036.25,
          -596043.875,
          -596052.9375,
          -596057.4375,
          -596065.3125,
          -596083.1875,
          -596098.5,
          -596120.9375,
          -596129.3125,
          -596137,
          -596144.625,
          -596149.375,
          -596155.625,
          -596176.5,
          -596196.25,
          -596223,
          -596230.6875,
          -596238.625,
          -596244.5625,
          -596250.625,
          -596253.625,
          -596254.0625,
          -596287.75,
          -596301.75,
          -596347.4375,
          -596352.625,
          -596363.0625,
          -596375.4375,
          -596386.625,
          -596402.5,
          -596411.3125,
          -596419,
          -596428.125,
          -596432.4375,
          -596441.5625,
          -596456.4375,
          -596468.875,
          -596487.125,
          -596495.875,
          -596503.375,
          -596511.3125,
          -596515.5625,
          -596523.1875,
          -596540.8125,
          -596555.25,
          -596577.625,
          -596585.5,
          -596592.6875,
          -596599.9375,
          -596604.375,
          -596609.875,
          -596630.5625,
          -596649.1875,
          -596675.5,
          -596683,
          -596690.4375,
          -596696.1875,
          -596701.875,
          -596704.625,
          -596704.8125,
          -596737.75,
          -596749.125,
          -596794.375,
          -596798.375,
          -596808.625,
          -596821.25,
          -596831.375,
          -596846.875,
          -596855.5,
          -596863.1875,
          -596871.6875,
          -596875.625,
          -596884,
          -596898.9375,
          -596910.4375,
          -596929,
          -596936.9375,
          -596943.5625,
          -596951.5625,
          -596955.8125,
          -596962.5625,
          -596979.9375,
          -596993.8125,
          -597015.8125,
          -597023.1875,
          -597030.3125,
          -597037.0625,
          -597041.4375,
          -597046.1875,
          -597066.9375,
          -597084.5,
          -597110.8125,
          -597117.6875,
          -597124.875,
          -597130.4375,
          -597135.25,
          -597137.625,
          -597138.1875,
          -597170.4375,
          -597178.5625,
          -597223,
          -597227.0625,
          -597236.5625,
          -597249.1875,
          -597258.9375,
          -597274.375,
          -597282.5625,
          -597289.375,
          -597297.9375,
          -597301.25,
          -597309.125,
          -597324.1875,
          -597335.0625,
          -597353.25,
          -597361.25,
          -597367.75,
          -597375.0625,
          -597379.0625,
          -597385.3125,
          -597402.6875,
          -597415.9375,
          -597437.9375,
          -597445.25,
          -597451.75,
          -597458.0625,
          -597462.3125,
          -597466.875,
          -597487.25,
          -597504.875,
          -597531.375,
          -597537.9375,
          -597545.25,
          -597549.5625,
          -597554.875,
          -597556.5,
          -597556.9375,
          -597588.5625,
          -597593.5,
          -597637.375,
          -597641.1875,
          -597650.3125,
          -597662.9375,
          -597671.75,
          -597687.3125,
          -597695.25,
          -597701.75,
          -597710.0625,
          -597713.1875,
          -597720.8125,
          -597735.375,
          -597746.125,
          -597764.875,
          -597772.375,
          -597778.4375,
          -597785.25,
          -597789.3125,
          -597794.9375,
          -597812.25,
          -597825.75,
          -597847.9375,
          -597854.875,
          -597861.5,
          -597866.875,
          -597871.125,
          -597874.9375,
          -597895.5,
          -597914.5625,
          -597940.875,
          -597947.25,
          -597954.1875,
          -597958.25,
          -597963.5625,
          -597964.25,
          -597965.1875,
          -597996.4375,
          -597998.25,
          -598040.75,
          -598044.1875,
          -598052.9375,
          -598065.0625,
          -598074.5625,
          -598090.5625,
          -598097.6875,
          -598103.8125,
          -598111.25,
          -598114.625,
          -598122.0625,
          -598136.5625,
          -598147.8125,
          -598166.4375,
          -598173.5,
          -598179.8125,
          -598186.375,
          -598190.4375,
          -598195.1875,
          -598212.375,
          -598227.6875,
          -598250.125,
          -598257,
          -598263.125,
          -598267.9375,
          -598272.8125,
          -598275.375,
          -598276.1875,
          -598304.125,
          -598316.6875,
          -598354.8125,
          -598358.75,
          -598367.5625,
          -598378.125,
          -598387.1875,
          -598400.75,
          -598407.8125,
          -598414.5,
          -598422.1875,
          -598425.5625,
          -598433.3125,
          -598445.9375,
          -598455.875,
          -598471.75,
          -598478.9375,
          -598484.75,
          -598491.6875,
          -598495.5625,
          -598501.75,
          -598516.5,
          -598529.1875,
          -598547.4375,
          -598554.5625,
          -598560.8125,
          -598566.75,
          -598570.9375,
          -598574.875,
          -598592.4375,
          -598609.8125,
          -598632.5625,
          -598639,
          -598645.375,
          -598650.4375,
          -598654.5,
          -598656.5,
          -598658,
          -598685.125,
          -598692.4375,
          -598729.5,
          -598733.6875,
          -598741.5,
          -598752.4375,
          -598762.1875,
          -598775.9375,
          -598782.6875,
          -598789.125,
          -598796.375,
          -598800.0625,
          -598806.8125,
          -598819.4375,
          -598831.25,
          -598847.625,
          -598854.3125,
          -598860,
          -598866.4375,
          -598870.375,
          -598875.9375,
          -598891.125,
          -598906.0625,
          -598925.375,
          -598931.875,
          -598938.3125,
          -598943.3125,
          -598948.125,
          -598950.875,
          -598952.125,
          -598976.125,
          -598993.1875,
          -599026.1875,
          -599030.5,
          -599038.75,
          -599039.0625,
          -599046.625,
          -599063.625,
          -599065.375,
          -599086.75,
          -599093.5625,
          -599097.6875,
          -599104.5625,
          -599104.9375,
          -599110.0625,
          -599130.5,
          -599133.625,
          -599159.875,
          -599165.75,
          -599170.8125,
          -599175.5,
          -599177.6875,
          -599178.9375,
          -599204.125,
          -599211.8125,
          -599244.5,
          -599248.9375,
          -599254.875,
          -599256.9375,
          -599261.375,
          -599280.9375,
          -599288.1875,
          -599315.3125,
          -599320.125,
          -599326.625,
          -599329.4375,
          -599334.6875,
          -599350.9375,
          -599359.9375,
          -599380.5,
          -599386.6875,
          -599391.75,
          -599397.3125,
          -599400.125,
          -599402.9375,
          -599422.875,
          -599437.125,
          -599462.4375,
          -599468.125,
          -599474.25,
          -599477.4375,
          -599482,
          -599497.6875,
          -599511.25,
          -599532.4375,
          -599538.25,
          -599544.4375,
          -599548.4375,
          -599554.1875,
          -599566.9375,
          -599579.125,
          -599595.5,
          -599601.6875,
          -599607.5,
          -599613,
          -599617.125,
          -599620.9375,
          -599621.5625,
          -599622.375,
          -599650.375,
          -599661.0625,
          -599671.4375,
          -599672.8125,
          -599685.1875,
          -599693.75,
          -599697.375,
          -599707.625,
          -599715.4375,
          -599721.25,
          -599730.0625,
          -599730.8125,
          -599740.5,
          -599751.1875,
          -599755.375,
          -599769.75,
          -599776.4375,
          -599780.9375,
          -599788.0625,
          -599790.0625,
          -599795.875,
          -599810.5,
          -599816.75,
          -599836.3125,
          -599842.25,
          -599847.4375,
          -599851.875,
          -599855.9375,
          -599857.6875,
          -599858.5,
          -599883.5,
          -599888.5,
          -599920.75,
          -599924.9375,
          -599931.0625,
          -599931.875,
          -599935.6875,
          -599955,
          -599959.625,
          -599985.8125,
          -599990.5,
          -599996.1875,
          -599998.5,
          -600003.0625,
          -600019.0625,
          -600027.375,
          -600047.8125,
          -600053.0625,
          -600058.5625,
          -600062.9375,
          -600066.25,
          -600067.8125,
          -600087.25,
          -600102.6875,
          -600128.0625,
          -600132.8125,
          -600138.5,
          -600141.1875,
          -600145.75,
          -600160.5,
          -600169.75,
          -600189.4375,
          -600195.0625,
          -600200.9375,
          -600204.25,
          -600209.3125,
          -600221.75,
          -600235,
          -600251.625,
          -600257.5,
          -600262.8125,
          -600267.375,
          -600271.4375,
          -600274.125,
          -600275.625,
          -600295.875,
          -600309.9375,
          -600337.8125,
          -600341.625,
          -600348.6875,
          -600349.0625,
          -600355.625,
          -600370.125,
          -600372.6875,
          -600391.1875,
          -600397.0625,
          -600401.0625,
          -600406.625,
          -600407.9375,
          -600411.5625,
          -600429.4375,
          -600434.125,
          -600456.9375,
          -600462.0625,
          -600466.625,
          -600469.875,
          -600472.8125,
          -600473.1875,
          -600495.0625,
          -600507.125,
          -600536.125,
          -600539.6875,
          -600545.8125,
          -600546.875,
          -600551.375,
          -600567.75,
          -600571.4375,
          -600593.25,
          -600598.1875,
          -600603.375,
          -600605.9375,
          -600609.875,
          -600624.25,
          -600636.625,
          -600655.625,
          -600660.4375,
          -600666.125,
          -600669.6875,
          -600673.5625,
          -600674.75,
          -600675.9375,
          -600698.1875,
          -600702.375,
          -600732.75,
          -600736.0625,
          -600742.375,
          -600751.4375,
          -600760.0625,
          -600771.875,
          -600777.1875,
          -600782.375,
          -600787.875,
          -600791.3125,
          -600796.4375,
          -600807.0625,
          -600818.4375,
          -600832.8125,
          -600838.4375,
          -600843.0625,
          -600847.875,
          -600851.75,
          -600854.875,
          -600856,
          -600856.3125,
          -600880.25,
          -600882.25,
          -600914.0625,
          -600916.9375,
          -600922.3125,
          -600922.5625,
          -600926.3125,
          -600944.6875,
          -600945.9375,
          -600970.625,
          -600974.6875,
          -600979.4375,
          -600981.3125,
          -600985.1875,
          -601000.6875,
          -601007.625,
          -601027.75,
          -601032.625,
          -601037.375,
          -601040.75,
          -601043.75,
          -601044.625,
          -601063.625,
          -601079.3125,
          -601104.5625,
          -601108.125,
          -601113.875,
          -601115.125,
          -601119.9375,
          -601133.875,
          -601138.875,
          -601157.125,
          -601161.875,
          -601166.5625,
          -601169.9375,
          -601173.125,
          -601173.75,
          -601174.3125,
          -601197.8125,
          -601206.625,
          -601215.5625,
          -601216.625,
          -601227,
          -601234.25,
          -601237.4375,
          -601245.8125,
          -601252.25,
          -601257.25,
          -601264.875,
          -601265.1875,
          -601273.75,
          -601282.9375,
          -601285.75,
          -601297,
          -601302.8125,
          -601306.9375,
          -601313.0625,
          -601314.25,
          -601320,
          -601331.5,
          -601336,
          -601351.6875,
          -601356.625,
          -601360.875,
          -601365.625,
          -601367.8125,
          -601370.4375,
          -601385.375,
          -601399.4375,
          -601420.1875,
          -601424.375,
          -601430.125,
          -601431.625,
          -601437.1875,
          -601448.625,
          -601453.6875,
          -601468.375,
          -601473.3125,
          -601477.375,
          -601481.9375,
          -601484.625,
          -601487.875,
          -601501.5,
          -601510.625,
          -601528.4375,
          -601532.4375,
          -601537.375,
          -601540.5625,
          -601543.9375,
          -601545.0625,
          -601545.125,
          -601566.75,
          -601569.125,
          -601598.875,
          -601601.1875,
          -601606.75,
          -601615.8125,
          -601622.8125,
          -601634.125,
          -601638.9375,
          -601643.8125,
          -601648.6875,
          -601651.5,
          -601655.625,
          -601655.75,
          -601658,
          -601677.4375,
          -601684.75,
          -601691.9375,
          -601693.9375,
          -601702.125,
          -601709.3125,
          -601712.75,
          -601721.4375,
          -601727,
          -601731.6875,
          -601738,
          -601739.5,
          -601746.5,
          -601754.9375,
          -601759.375,
          -601770.1875,
          -601775.5625,
          -601779.5625,
          -601785.0625,
          -601787.375,
          -601791.375,
          -601802.25,
          -601810.5,
          -601824.875,
          -601829.5,
          -601834.125,
          -601837.9375,
          -601841.5625,
          -601842.8125,
          -601844.3125,
          -601862.1875,
          -601866.9375,
          -601890,
          -601893.4375,
          -601898.375,
          -601899.8125,
          -601902.6875,
          -601917.0625,
          -601923.5,
          -601942.4375,
          -601946.5625,
          -601951.625,
          -601953.625,
          -601957.375,
          -601969,
          -601976.5625,
          -601991.6875,
          -601996.6875,
          -602000.625,
          -602004.25,
          -602007.5625,
          -602009,
          -602009.4375,
          -602028.9375,
          -602035.6875,
          -602061.8125,
          -602064.5,
          -602070.3125,
          -602077.9375,
          -602084.625,
          -602094.0625,
          -602099.0625,
          -602103,
          -602108,
          -602110.75,
          -602115.5625,
          -602124.3125,
          -602133.5,
          -602145,
          -602149.6875,
          -602153.625,
          -602157.6875,
          -602161.125,
          -602164.0625,
          -602164.75,
          -602165.4375,
          -602185.4375,
          -602186.9375,
          -602213,
          -602215.5625,
          -602220.125,
          -602220.6875,
          -602223.75,
          -602239.125,
          -602241.3125,
          -602262.125,
          -602265.625,
          -602269.8125,
          -602271.4375,
          -602274.625,
          -602287.6875,
          -602293.875,
          -602311.0625,
          -602315.0625,
          -602319.125,
          -602321.875,
          -602324.5,
          -602324.875,
          -602325,
          -602346.25,
          -602354.875,
          -602362.75,
          -602363.375,
          -602373.5,
          -602379.5,
          -602382,
          -602388.625,
          -602394.5625,
          -602399.4375,
          -602407.125,
          -602412.125,
          -602416.375,
          -602421.6875,
          -602424,
          -602429.0625,
          -602436.8125,
          -602443.75,
          -602453.125,
          -602457.75,
          -602462.1875,
          -602466.5,
          -602469.125,
          -602472.6875,
          -602473.875,
          -602474.6875,
          -602491.8125,
          -602495.875,
          -602519.3125,
          -602522.375,
          -602526.9375,
          -602527.25,
          -602531.25,
          -602544.0625,
          -602545.9375,
          -602562.625,
          -602566.8125,
          -602570.125,
          -602573.375,
          -602574.4375,
          -602575.75,
          -602592.0625,
          -602597.4375,
          -602618.9375,
          -602621.5,
          -602626.25,
          -602627.5,
          -602630.75,
          -602643.375,
          -602648.125,
          -602665,
          -602668.75,
          -602672.6875,
          -602674.8125,
          -602677.875,
          -602689.0625,
          -602697.375,
          -602711.5625,
          -602715.375,
          -602719.625,
          -602722.6875,
          -602725.125,
          -602726.375,
          -602727,
          -602744.1875,
          -602748.6875,
          -602772.25,
          -602774.8125,
          -602779.6875,
          -602786.75,
          -602793.375,
          -602802.375,
          -602806.6875,
          -602810.6875,
          -602815.0625,
          -602817.75,
          -602821.25,
          -602821.875,
          -602824,
          -602839.5,
          -602840.5,
          -602860.5625,
          -602863.875,
          -602867.6875,
          -602869.4375,
          -602870.9375,
          -602884.25,
          -602891.6875,
          -602909.8125,
          -602912.8125,
          -602917.3125,
          -602919.0625,
          -602922.625,
          -602932.75,
          -602937.875,
          -602951.25,
          -602954.8125,
          -602958.75,
          -602961.875,
          -602963.9375,
          -602966.1875,
          -602978.375,
          -602988.0625,
          -603004.1875,
          -603007.875,
          -603012.1875,
          -603013.875,
          -603017.375,
          -603027.375,
          -603035.125,
          -603048.125,
          -603051.75,
          -603056.3125,
          -603058.5,
          -603062.1875,
          -603062.5625,
          -603064.5,
          -603079.3125,
          -603080.75,
          -603101.8125,
          -603104.25,
          -603107.9375,
          -603109.5625,
          -603111.6875,
          -603124.6875,
          -603129.9375,
          -603146.625,
          -603150.5625,
          -603154.125,
          -603156.0625,
          -603158.9375,
          -603169.5625,
          -603175,
          -603188.3125,
          -603192.3125,
          -603195.5625,
          -603198.6875,
          -603201,
          -603202.0625,
          -603214.9375
         ]
        }
       ],
       "layout": {
        "template": {
         "data": {
          "bar": [
           {
            "error_x": {
             "color": "#2a3f5f"
            },
            "error_y": {
             "color": "#2a3f5f"
            },
            "marker": {
             "line": {
              "color": "#E5ECF6",
              "width": 0.5
             }
            },
            "type": "bar"
           }
          ],
          "barpolar": [
           {
            "marker": {
             "line": {
              "color": "#E5ECF6",
              "width": 0.5
             }
            },
            "type": "barpolar"
           }
          ],
          "carpet": [
           {
            "aaxis": {
             "endlinecolor": "#2a3f5f",
             "gridcolor": "white",
             "linecolor": "white",
             "minorgridcolor": "white",
             "startlinecolor": "#2a3f5f"
            },
            "baxis": {
             "endlinecolor": "#2a3f5f",
             "gridcolor": "white",
             "linecolor": "white",
             "minorgridcolor": "white",
             "startlinecolor": "#2a3f5f"
            },
            "type": "carpet"
           }
          ],
          "choropleth": [
           {
            "colorbar": {
             "outlinewidth": 0,
             "ticks": ""
            },
            "type": "choropleth"
           }
          ],
          "contour": [
           {
            "colorbar": {
             "outlinewidth": 0,
             "ticks": ""
            },
            "colorscale": [
             [
              0,
              "#0d0887"
             ],
             [
              0.1111111111111111,
              "#46039f"
             ],
             [
              0.2222222222222222,
              "#7201a8"
             ],
             [
              0.3333333333333333,
              "#9c179e"
             ],
             [
              0.4444444444444444,
              "#bd3786"
             ],
             [
              0.5555555555555556,
              "#d8576b"
             ],
             [
              0.6666666666666666,
              "#ed7953"
             ],
             [
              0.7777777777777778,
              "#fb9f3a"
             ],
             [
              0.8888888888888888,
              "#fdca26"
             ],
             [
              1,
              "#f0f921"
             ]
            ],
            "type": "contour"
           }
          ],
          "contourcarpet": [
           {
            "colorbar": {
             "outlinewidth": 0,
             "ticks": ""
            },
            "type": "contourcarpet"
           }
          ],
          "heatmap": [
           {
            "colorbar": {
             "outlinewidth": 0,
             "ticks": ""
            },
            "colorscale": [
             [
              0,
              "#0d0887"
             ],
             [
              0.1111111111111111,
              "#46039f"
             ],
             [
              0.2222222222222222,
              "#7201a8"
             ],
             [
              0.3333333333333333,
              "#9c179e"
             ],
             [
              0.4444444444444444,
              "#bd3786"
             ],
             [
              0.5555555555555556,
              "#d8576b"
             ],
             [
              0.6666666666666666,
              "#ed7953"
             ],
             [
              0.7777777777777778,
              "#fb9f3a"
             ],
             [
              0.8888888888888888,
              "#fdca26"
             ],
             [
              1,
              "#f0f921"
             ]
            ],
            "type": "heatmap"
           }
          ],
          "heatmapgl": [
           {
            "colorbar": {
             "outlinewidth": 0,
             "ticks": ""
            },
            "colorscale": [
             [
              0,
              "#0d0887"
             ],
             [
              0.1111111111111111,
              "#46039f"
             ],
             [
              0.2222222222222222,
              "#7201a8"
             ],
             [
              0.3333333333333333,
              "#9c179e"
             ],
             [
              0.4444444444444444,
              "#bd3786"
             ],
             [
              0.5555555555555556,
              "#d8576b"
             ],
             [
              0.6666666666666666,
              "#ed7953"
             ],
             [
              0.7777777777777778,
              "#fb9f3a"
             ],
             [
              0.8888888888888888,
              "#fdca26"
             ],
             [
              1,
              "#f0f921"
             ]
            ],
            "type": "heatmapgl"
           }
          ],
          "histogram": [
           {
            "marker": {
             "colorbar": {
              "outlinewidth": 0,
              "ticks": ""
             }
            },
            "type": "histogram"
           }
          ],
          "histogram2d": [
           {
            "colorbar": {
             "outlinewidth": 0,
             "ticks": ""
            },
            "colorscale": [
             [
              0,
              "#0d0887"
             ],
             [
              0.1111111111111111,
              "#46039f"
             ],
             [
              0.2222222222222222,
              "#7201a8"
             ],
             [
              0.3333333333333333,
              "#9c179e"
             ],
             [
              0.4444444444444444,
              "#bd3786"
             ],
             [
              0.5555555555555556,
              "#d8576b"
             ],
             [
              0.6666666666666666,
              "#ed7953"
             ],
             [
              0.7777777777777778,
              "#fb9f3a"
             ],
             [
              0.8888888888888888,
              "#fdca26"
             ],
             [
              1,
              "#f0f921"
             ]
            ],
            "type": "histogram2d"
           }
          ],
          "histogram2dcontour": [
           {
            "colorbar": {
             "outlinewidth": 0,
             "ticks": ""
            },
            "colorscale": [
             [
              0,
              "#0d0887"
             ],
             [
              0.1111111111111111,
              "#46039f"
             ],
             [
              0.2222222222222222,
              "#7201a8"
             ],
             [
              0.3333333333333333,
              "#9c179e"
             ],
             [
              0.4444444444444444,
              "#bd3786"
             ],
             [
              0.5555555555555556,
              "#d8576b"
             ],
             [
              0.6666666666666666,
              "#ed7953"
             ],
             [
              0.7777777777777778,
              "#fb9f3a"
             ],
             [
              0.8888888888888888,
              "#fdca26"
             ],
             [
              1,
              "#f0f921"
             ]
            ],
            "type": "histogram2dcontour"
           }
          ],
          "mesh3d": [
           {
            "colorbar": {
             "outlinewidth": 0,
             "ticks": ""
            },
            "type": "mesh3d"
           }
          ],
          "parcoords": [
           {
            "line": {
             "colorbar": {
              "outlinewidth": 0,
              "ticks": ""
             }
            },
            "type": "parcoords"
           }
          ],
          "pie": [
           {
            "automargin": true,
            "type": "pie"
           }
          ],
          "scatter": [
           {
            "marker": {
             "colorbar": {
              "outlinewidth": 0,
              "ticks": ""
             }
            },
            "type": "scatter"
           }
          ],
          "scatter3d": [
           {
            "line": {
             "colorbar": {
              "outlinewidth": 0,
              "ticks": ""
             }
            },
            "marker": {
             "colorbar": {
              "outlinewidth": 0,
              "ticks": ""
             }
            },
            "type": "scatter3d"
           }
          ],
          "scattercarpet": [
           {
            "marker": {
             "colorbar": {
              "outlinewidth": 0,
              "ticks": ""
             }
            },
            "type": "scattercarpet"
           }
          ],
          "scattergeo": [
           {
            "marker": {
             "colorbar": {
              "outlinewidth": 0,
              "ticks": ""
             }
            },
            "type": "scattergeo"
           }
          ],
          "scattergl": [
           {
            "marker": {
             "colorbar": {
              "outlinewidth": 0,
              "ticks": ""
             }
            },
            "type": "scattergl"
           }
          ],
          "scattermapbox": [
           {
            "marker": {
             "colorbar": {
              "outlinewidth": 0,
              "ticks": ""
             }
            },
            "type": "scattermapbox"
           }
          ],
          "scatterpolar": [
           {
            "marker": {
             "colorbar": {
              "outlinewidth": 0,
              "ticks": ""
             }
            },
            "type": "scatterpolar"
           }
          ],
          "scatterpolargl": [
           {
            "marker": {
             "colorbar": {
              "outlinewidth": 0,
              "ticks": ""
             }
            },
            "type": "scatterpolargl"
           }
          ],
          "scatterternary": [
           {
            "marker": {
             "colorbar": {
              "outlinewidth": 0,
              "ticks": ""
             }
            },
            "type": "scatterternary"
           }
          ],
          "surface": [
           {
            "colorbar": {
             "outlinewidth": 0,
             "ticks": ""
            },
            "colorscale": [
             [
              0,
              "#0d0887"
             ],
             [
              0.1111111111111111,
              "#46039f"
             ],
             [
              0.2222222222222222,
              "#7201a8"
             ],
             [
              0.3333333333333333,
              "#9c179e"
             ],
             [
              0.4444444444444444,
              "#bd3786"
             ],
             [
              0.5555555555555556,
              "#d8576b"
             ],
             [
              0.6666666666666666,
              "#ed7953"
             ],
             [
              0.7777777777777778,
              "#fb9f3a"
             ],
             [
              0.8888888888888888,
              "#fdca26"
             ],
             [
              1,
              "#f0f921"
             ]
            ],
            "type": "surface"
           }
          ],
          "table": [
           {
            "cells": {
             "fill": {
              "color": "#EBF0F8"
             },
             "line": {
              "color": "white"
             }
            },
            "header": {
             "fill": {
              "color": "#C8D4E3"
             },
             "line": {
              "color": "white"
             }
            },
            "type": "table"
           }
          ]
         },
         "layout": {
          "annotationdefaults": {
           "arrowcolor": "#2a3f5f",
           "arrowhead": 0,
           "arrowwidth": 1
          },
          "coloraxis": {
           "colorbar": {
            "outlinewidth": 0,
            "ticks": ""
           }
          },
          "colorscale": {
           "diverging": [
            [
             0,
             "#8e0152"
            ],
            [
             0.1,
             "#c51b7d"
            ],
            [
             0.2,
             "#de77ae"
            ],
            [
             0.3,
             "#f1b6da"
            ],
            [
             0.4,
             "#fde0ef"
            ],
            [
             0.5,
             "#f7f7f7"
            ],
            [
             0.6,
             "#e6f5d0"
            ],
            [
             0.7,
             "#b8e186"
            ],
            [
             0.8,
             "#7fbc41"
            ],
            [
             0.9,
             "#4d9221"
            ],
            [
             1,
             "#276419"
            ]
           ],
           "sequential": [
            [
             0,
             "#0d0887"
            ],
            [
             0.1111111111111111,
             "#46039f"
            ],
            [
             0.2222222222222222,
             "#7201a8"
            ],
            [
             0.3333333333333333,
             "#9c179e"
            ],
            [
             0.4444444444444444,
             "#bd3786"
            ],
            [
             0.5555555555555556,
             "#d8576b"
            ],
            [
             0.6666666666666666,
             "#ed7953"
            ],
            [
             0.7777777777777778,
             "#fb9f3a"
            ],
            [
             0.8888888888888888,
             "#fdca26"
            ],
            [
             1,
             "#f0f921"
            ]
           ],
           "sequentialminus": [
            [
             0,
             "#0d0887"
            ],
            [
             0.1111111111111111,
             "#46039f"
            ],
            [
             0.2222222222222222,
             "#7201a8"
            ],
            [
             0.3333333333333333,
             "#9c179e"
            ],
            [
             0.4444444444444444,
             "#bd3786"
            ],
            [
             0.5555555555555556,
             "#d8576b"
            ],
            [
             0.6666666666666666,
             "#ed7953"
            ],
            [
             0.7777777777777778,
             "#fb9f3a"
            ],
            [
             0.8888888888888888,
             "#fdca26"
            ],
            [
             1,
             "#f0f921"
            ]
           ]
          },
          "colorway": [
           "#636efa",
           "#EF553B",
           "#00cc96",
           "#ab63fa",
           "#FFA15A",
           "#19d3f3",
           "#FF6692",
           "#B6E880",
           "#FF97FF",
           "#FECB52"
          ],
          "font": {
           "color": "#2a3f5f"
          },
          "geo": {
           "bgcolor": "white",
           "lakecolor": "white",
           "landcolor": "#E5ECF6",
           "showlakes": true,
           "showland": true,
           "subunitcolor": "white"
          },
          "hoverlabel": {
           "align": "left"
          },
          "hovermode": "closest",
          "mapbox": {
           "style": "light"
          },
          "paper_bgcolor": "white",
          "plot_bgcolor": "#E5ECF6",
          "polar": {
           "angularaxis": {
            "gridcolor": "white",
            "linecolor": "white",
            "ticks": ""
           },
           "bgcolor": "#E5ECF6",
           "radialaxis": {
            "gridcolor": "white",
            "linecolor": "white",
            "ticks": ""
           }
          },
          "scene": {
           "xaxis": {
            "backgroundcolor": "#E5ECF6",
            "gridcolor": "white",
            "gridwidth": 2,
            "linecolor": "white",
            "showbackground": true,
            "ticks": "",
            "zerolinecolor": "white"
           },
           "yaxis": {
            "backgroundcolor": "#E5ECF6",
            "gridcolor": "white",
            "gridwidth": 2,
            "linecolor": "white",
            "showbackground": true,
            "ticks": "",
            "zerolinecolor": "white"
           },
           "zaxis": {
            "backgroundcolor": "#E5ECF6",
            "gridcolor": "white",
            "gridwidth": 2,
            "linecolor": "white",
            "showbackground": true,
            "ticks": "",
            "zerolinecolor": "white"
           }
          },
          "shapedefaults": {
           "line": {
            "color": "#2a3f5f"
           }
          },
          "ternary": {
           "aaxis": {
            "gridcolor": "white",
            "linecolor": "white",
            "ticks": ""
           },
           "baxis": {
            "gridcolor": "white",
            "linecolor": "white",
            "ticks": ""
           },
           "bgcolor": "#E5ECF6",
           "caxis": {
            "gridcolor": "white",
            "linecolor": "white",
            "ticks": ""
           }
          },
          "title": {
           "x": 0.05
          },
          "xaxis": {
           "automargin": true,
           "gridcolor": "white",
           "linecolor": "white",
           "ticks": "",
           "title": {
            "standoff": 15
           },
           "zerolinecolor": "white",
           "zerolinewidth": 2
          },
          "yaxis": {
           "automargin": true,
           "gridcolor": "white",
           "linecolor": "white",
           "ticks": "",
           "title": {
            "standoff": 15
           },
           "zerolinecolor": "white",
           "zerolinewidth": 2
          }
         }
        },
        "title": {
         "text": "Energy Minimization"
        },
        "xaxis": {
         "title": {
          "text": "Energy Minimization Step"
         }
        },
        "yaxis": {
         "title": {
          "text": "Potential Energy KJ/mol-1"
         }
        }
       }
      },
      "text/html": [
       "<div>\n",
       "        \n",
       "        \n",
       "            <div id=\"eb6cc187-3ef9-4279-b7a2-ceaf7a11215f\" class=\"plotly-graph-div\" style=\"height:525px; width:100%;\"></div>\n",
       "            <script type=\"text/javascript\">\n",
       "                require([\"plotly\"], function(Plotly) {\n",
       "                    window.PLOTLYENV=window.PLOTLYENV || {};\n",
       "                    \n",
       "                if (document.getElementById(\"eb6cc187-3ef9-4279-b7a2-ceaf7a11215f\")) {\n",
       "                    Plotly.newPlot(\n",
       "                        'eb6cc187-3ef9-4279-b7a2-ceaf7a11215f',\n",
       "                        [{\"type\": \"scatter\", \"x\": [0.0, 1.0, 2.0, 3.0, 4.0, 5.0, 6.0, 7.0, 8.0, 9.0, 11.0, 12.0, 13.0, 15.0, 16.0, 17.0, 18.0, 19.0, 21.0, 22.0, 23.0, 25.0, 26.0, 27.0, 28.0, 29.0, 31.0, 33.0, 34.0, 35.0, 36.0, 38.0, 39.0, 40.0, 42.0, 43.0, 44.0, 45.0, 46.0, 48.0, 49.0, 50.0, 52.0, 53.0, 54.0, 55.0, 56.0, 58.0, 59.0, 60.0, 62.0, 63.0, 64.0, 65.0, 67.0, 68.0, 69.0, 71.0, 72.0, 73.0, 74.0, 75.0, 77.0, 78.0, 79.0, 81.0, 82.0, 83.0, 84.0, 86.0, 87.0, 88.0, 90.0, 91.0, 92.0, 93.0, 95.0, 96.0, 97.0, 99.0, 100.0, 101.0, 102.0, 104.0, 105.0, 106.0, 108.0, 109.0, 110.0, 111.0, 112.0, 114.0, 115.0, 116.0, 118.0, 119.0, 120.0, 121.0, 123.0, 124.0, 125.0, 127.0, 128.0, 129.0, 130.0, 132.0, 133.0, 134.0, 136.0, 137.0, 138.0, 139.0, 140.0, 141.0, 143.0, 144.0, 145.0, 147.0, 148.0, 149.0, 150.0, 152.0, 153.0, 154.0, 156.0, 157.0, 158.0, 159.0, 160.0, 162.0, 163.0, 164.0, 166.0, 167.0, 168.0, 169.0, 171.0, 172.0, 173.0, 175.0, 176.0, 177.0, 178.0, 180.0, 181.0, 182.0, 184.0, 185.0, 186.0, 187.0, 189.0, 190.0, 191.0, 193.0, 194.0, 195.0, 196.0, 197.0, 198.0, 200.0, 202.0, 203.0, 204.0, 205.0, 207.0, 208.0, 209.0, 211.0, 212.0, 213.0, 215.0, 216.0, 217.0, 218.0, 219.0, 221.0, 222.0, 223.0, 225.0, 226.0, 227.0, 228.0, 229.0, 231.0, 232.0, 233.0, 235.0, 236.0, 237.0, 238.0, 239.0, 241.0, 242.0, 243.0, 245.0, 246.0, 247.0, 248.0, 249.0, 251.0, 252.0, 253.0, 255.0, 256.0, 257.0, 258.0, 259.0, 261.0, 262.0, 263.0, 265.0, 266.0, 267.0, 268.0, 269.0, 271.0, 272.0, 273.0, 275.0, 276.0, 277.0, 278.0, 280.0, 281.0, 282.0, 284.0, 285.0, 286.0, 287.0, 289.0, 290.0, 291.0, 293.0, 294.0, 295.0, 296.0, 297.0, 299.0, 300.0, 301.0, 303.0, 304.0, 305.0, 306.0, 307.0, 309.0, 310.0, 311.0, 313.0, 314.0, 315.0, 316.0, 317.0, 319.0, 320.0, 321.0, 323.0, 324.0, 325.0, 326.0, 328.0, 329.0, 330.0, 332.0, 333.0, 334.0, 335.0, 337.0, 338.0, 339.0, 341.0, 342.0, 343.0, 344.0, 345.0, 347.0, 348.0, 349.0, 351.0, 352.0, 353.0, 354.0, 355.0, 357.0, 358.0, 359.0, 361.0, 362.0, 363.0, 364.0, 366.0, 367.0, 368.0, 370.0, 371.0, 372.0, 373.0, 375.0, 376.0, 377.0, 379.0, 380.0, 381.0, 382.0, 383.0, 384.0, 386.0, 387.0, 388.0, 390.0, 391.0, 392.0, 393.0, 395.0, 396.0, 397.0, 399.0, 400.0, 401.0, 402.0, 403.0, 405.0, 406.0, 407.0, 409.0, 410.0, 411.0, 412.0, 414.0, 415.0, 416.0, 418.0, 419.0, 420.0, 421.0, 422.0, 423.0, 425.0, 427.0, 428.0, 429.0, 430.0, 432.0, 433.0, 434.0, 436.0, 437.0, 438.0, 440.0, 441.0, 442.0, 443.0, 444.0, 446.0, 447.0, 448.0, 450.0, 451.0, 452.0, 453.0, 454.0, 455.0, 456.0, 458.0, 459.0, 460.0, 462.0, 463.0, 464.0, 465.0, 467.0, 468.0, 469.0, 471.0, 472.0, 473.0, 474.0, 475.0, 477.0, 478.0, 479.0, 481.0, 482.0, 483.0, 484.0, 486.0, 487.0, 488.0, 490.0, 491.0, 492.0, 493.0, 495.0, 496.0, 497.0, 499.0, 500.0, 501.0, 502.0, 503.0, 505.0, 506.0, 507.0, 509.0, 510.0, 511.0, 512.0, 513.0, 515.0, 516.0, 517.0, 519.0, 520.0, 521.0, 522.0, 524.0, 525.0, 526.0, 528.0, 529.0, 530.0, 531.0, 533.0, 534.0, 535.0, 537.0, 538.0, 539.0, 540.0, 541.0, 543.0, 544.0, 545.0, 547.0, 548.0, 549.0, 550.0, 551.0, 553.0, 554.0, 555.0, 557.0, 558.0, 559.0, 560.0, 561.0, 563.0, 564.0, 565.0, 567.0, 568.0, 569.0, 570.0, 572.0, 573.0, 574.0, 576.0, 577.0, 578.0, 579.0, 581.0, 582.0, 583.0, 585.0, 586.0, 587.0, 588.0, 589.0, 591.0, 592.0, 593.0, 595.0, 596.0, 597.0, 598.0, 599.0, 601.0, 602.0, 603.0, 605.0, 606.0, 607.0, 608.0, 610.0, 611.0, 612.0, 614.0, 615.0, 616.0, 617.0, 619.0, 620.0, 621.0, 623.0, 624.0, 625.0, 626.0, 627.0, 629.0, 630.0, 631.0, 633.0, 634.0, 635.0, 636.0, 637.0, 639.0, 640.0, 641.0, 643.0, 644.0, 645.0, 646.0, 648.0, 649.0, 650.0, 652.0, 653.0, 654.0, 655.0, 657.0, 658.0, 659.0, 661.0, 662.0, 663.0, 664.0, 665.0, 666.0, 668.0, 669.0, 670.0, 672.0, 673.0, 675.0, 676.0, 677.0, 679.0, 680.0, 681.0, 682.0, 683.0, 685.0, 686.0, 687.0, 689.0, 690.0, 691.0, 692.0, 693.0, 694.0, 695.0, 697.0, 699.0, 700.0, 701.0, 702.0, 704.0, 705.0, 706.0, 708.0, 709.0, 710.0, 711.0, 712.0, 714.0, 715.0, 716.0, 718.0, 719.0, 720.0, 721.0, 722.0, 724.0, 725.0, 726.0, 728.0, 729.0, 730.0, 731.0, 732.0, 733.0, 735.0, 736.0, 737.0, 739.0, 740.0, 741.0, 742.0, 744.0, 745.0, 746.0, 748.0, 749.0, 750.0, 751.0, 753.0, 754.0, 755.0, 757.0, 758.0, 759.0, 760.0, 761.0, 763.0, 764.0, 765.0, 767.0, 768.0, 769.0, 770.0, 772.0, 773.0, 774.0, 776.0, 777.0, 778.0, 779.0, 781.0, 782.0, 783.0, 785.0, 786.0, 787.0, 788.0, 789.0, 790.0, 792.0, 793.0, 794.0, 796.0, 797.0, 799.0, 800.0, 801.0, 803.0, 804.0, 805.0, 806.0, 807.0, 808.0, 809.0, 811.0, 812.0, 813.0, 815.0, 816.0, 817.0, 818.0, 819.0, 821.0, 822.0, 823.0, 825.0, 826.0, 827.0, 828.0, 830.0, 831.0, 832.0, 834.0, 835.0, 836.0, 837.0, 839.0, 840.0, 841.0, 843.0, 844.0, 845.0, 846.0, 847.0, 849.0, 850.0, 851.0, 853.0, 854.0, 855.0, 856.0, 858.0, 859.0, 860.0, 862.0, 863.0, 864.0, 865.0, 867.0, 868.0, 869.0, 871.0, 872.0, 873.0, 874.0, 875.0, 877.0, 878.0, 879.0, 881.0, 882.0, 883.0, 884.0, 885.0, 886.0, 888.0, 889.0, 890.0, 892.0, 893.0, 895.0, 896.0, 897.0, 899.0, 900.0, 901.0, 902.0, 903.0, 905.0, 906.0, 907.0, 909.0, 910.0, 911.0, 912.0, 913.0, 914.0, 915.0, 917.0, 919.0, 920.0, 921.0, 922.0, 924.0, 925.0, 926.0, 928.0, 929.0, 930.0, 931.0, 932.0, 934.0, 935.0, 936.0, 938.0, 939.0, 940.0, 941.0, 942.0, 944.0, 945.0, 946.0, 948.0, 949.0, 950.0, 951.0, 952.0, 953.0, 955.0, 956.0, 957.0, 959.0, 960.0, 961.0, 962.0, 964.0, 965.0, 966.0, 968.0, 969.0, 970.0, 971.0, 973.0, 974.0, 975.0, 977.0, 978.0, 979.0, 980.0, 981.0, 983.0, 984.0, 985.0, 987.0, 988.0, 989.0, 990.0, 991.0, 993.0, 994.0, 995.0, 997.0, 998.0, 999.0, 1000.0, 1002.0, 1003.0, 1004.0, 1006.0, 1007.0, 1008.0, 1009.0, 1011.0, 1012.0, 1013.0, 1015.0, 1016.0, 1017.0, 1018.0, 1019.0, 1021.0, 1022.0, 1023.0, 1025.0, 1026.0, 1027.0, 1028.0, 1030.0, 1031.0, 1032.0, 1034.0, 1035.0, 1036.0, 1037.0, 1039.0, 1040.0, 1041.0, 1043.0, 1044.0, 1045.0, 1046.0, 1047.0, 1049.0, 1050.0, 1051.0, 1053.0, 1054.0, 1055.0, 1056.0, 1057.0, 1058.0, 1060.0, 1061.0, 1062.0, 1064.0, 1065.0, 1067.0, 1068.0, 1069.0, 1071.0, 1072.0, 1073.0, 1074.0, 1075.0, 1077.0, 1078.0, 1079.0, 1081.0, 1082.0, 1083.0, 1084.0, 1085.0, 1087.0, 1088.0, 1089.0, 1091.0, 1092.0, 1093.0, 1094.0, 1095.0, 1096.0, 1097.0, 1099.0, 1101.0, 1102.0, 1103.0, 1104.0, 1106.0, 1107.0, 1108.0, 1110.0, 1111.0, 1112.0, 1113.0, 1114.0, 1116.0, 1117.0, 1118.0, 1120.0, 1121.0, 1122.0, 1123.0, 1124.0, 1126.0, 1127.0, 1128.0, 1130.0, 1131.0, 1132.0, 1133.0, 1134.0, 1135.0, 1137.0, 1139.0, 1140.0, 1141.0, 1142.0, 1144.0, 1145.0, 1146.0, 1148.0, 1149.0, 1150.0, 1151.0, 1152.0, 1154.0, 1155.0, 1156.0, 1158.0, 1159.0, 1160.0, 1161.0, 1162.0, 1164.0, 1165.0, 1166.0, 1168.0, 1169.0, 1170.0, 1171.0, 1172.0, 1173.0, 1175.0, 1176.0, 1177.0, 1179.0, 1180.0, 1181.0, 1182.0, 1184.0, 1185.0, 1186.0, 1188.0, 1189.0, 1190.0, 1191.0, 1193.0, 1194.0, 1195.0, 1197.0, 1198.0, 1199.0, 1200.0, 1201.0, 1203.0, 1204.0, 1205.0, 1207.0, 1208.0, 1209.0, 1210.0, 1211.0, 1213.0, 1214.0, 1215.0, 1217.0, 1218.0, 1219.0, 1220.0, 1222.0, 1223.0, 1224.0, 1226.0, 1227.0, 1228.0, 1229.0, 1231.0, 1232.0, 1233.0, 1235.0, 1236.0, 1237.0, 1238.0, 1239.0, 1241.0, 1242.0, 1243.0, 1245.0, 1246.0, 1247.0, 1248.0, 1249.0, 1251.0, 1252.0, 1253.0, 1255.0, 1256.0, 1257.0, 1258.0, 1260.0, 1261.0, 1262.0, 1264.0, 1265.0, 1266.0, 1267.0, 1269.0, 1270.0, 1271.0, 1273.0, 1274.0, 1275.0, 1276.0, 1277.0, 1279.0, 1280.0, 1281.0, 1283.0, 1284.0, 1285.0, 1286.0, 1287.0, 1288.0, 1290.0, 1291.0, 1292.0, 1294.0, 1295.0, 1297.0, 1298.0, 1299.0, 1301.0, 1302.0, 1303.0, 1304.0, 1305.0, 1307.0, 1308.0, 1309.0, 1311.0, 1312.0, 1313.0, 1314.0, 1315.0, 1317.0, 1318.0, 1319.0, 1321.0, 1322.0, 1323.0, 1324.0, 1325.0, 1326.0, 1328.0, 1329.0, 1330.0, 1332.0, 1333.0, 1335.0, 1336.0, 1337.0, 1339.0, 1340.0, 1341.0, 1342.0, 1343.0, 1345.0, 1346.0, 1347.0, 1349.0, 1350.0, 1351.0, 1352.0, 1353.0, 1355.0, 1356.0, 1357.0, 1359.0, 1360.0, 1361.0, 1362.0, 1363.0, 1365.0, 1366.0, 1367.0, 1369.0, 1370.0, 1371.0, 1372.0, 1373.0, 1375.0, 1376.0, 1377.0, 1379.0, 1380.0, 1381.0, 1382.0, 1383.0, 1384.0, 1386.0, 1387.0, 1388.0, 1390.0, 1391.0, 1393.0, 1394.0, 1395.0, 1397.0, 1398.0, 1399.0, 1400.0, 1401.0, 1403.0, 1404.0, 1405.0, 1407.0, 1408.0, 1409.0, 1410.0, 1411.0, 1413.0, 1414.0, 1415.0, 1417.0, 1418.0, 1419.0, 1420.0, 1421.0, 1423.0, 1424.0, 1425.0, 1427.0, 1428.0, 1429.0, 1430.0, 1431.0, 1432.0, 1434.0, 1436.0, 1437.0, 1438.0, 1439.0, 1441.0, 1442.0, 1443.0, 1445.0, 1446.0, 1447.0, 1449.0, 1450.0, 1451.0, 1452.0, 1453.0, 1454.0, 1455.0, 1457.0, 1458.0, 1459.0, 1461.0, 1462.0, 1463.0, 1464.0, 1466.0, 1467.0, 1468.0, 1470.0, 1471.0, 1472.0, 1473.0, 1474.0, 1476.0, 1477.0, 1478.0, 1480.0, 1481.0, 1482.0, 1483.0, 1485.0, 1486.0, 1487.0, 1489.0, 1490.0, 1491.0, 1492.0, 1494.0, 1495.0, 1496.0, 1498.0, 1499.0, 1500.0, 1501.0, 1502.0, 1504.0, 1505.0, 1506.0, 1508.0, 1509.0, 1510.0, 1511.0, 1512.0, 1513.0, 1515.0, 1516.0, 1517.0, 1519.0, 1520.0, 1522.0, 1523.0, 1524.0, 1526.0, 1527.0, 1528.0, 1529.0, 1530.0, 1532.0, 1533.0, 1534.0, 1536.0, 1537.0, 1538.0, 1539.0, 1540.0, 1542.0, 1543.0, 1544.0, 1546.0, 1547.0, 1548.0, 1549.0, 1550.0, 1552.0, 1553.0, 1554.0, 1556.0, 1557.0, 1558.0, 1559.0, 1560.0, 1561.0, 1563.0, 1564.0, 1565.0, 1567.0, 1568.0, 1570.0, 1571.0, 1572.0, 1574.0, 1575.0, 1576.0, 1577.0, 1578.0, 1580.0, 1581.0, 1582.0, 1584.0, 1585.0, 1586.0, 1587.0, 1588.0, 1590.0, 1591.0, 1592.0, 1594.0, 1595.0, 1596.0, 1597.0, 1598.0, 1600.0, 1601.0, 1602.0, 1604.0, 1605.0, 1606.0, 1607.0, 1608.0, 1609.0, 1611.0, 1612.0, 1613.0, 1615.0, 1616.0, 1618.0, 1619.0, 1620.0, 1622.0, 1623.0, 1624.0, 1625.0, 1626.0, 1628.0, 1629.0, 1630.0, 1632.0, 1633.0, 1634.0, 1635.0, 1636.0, 1638.0, 1639.0, 1640.0, 1642.0, 1643.0, 1644.0, 1645.0, 1646.0, 1648.0, 1649.0, 1650.0, 1652.0, 1653.0, 1654.0, 1655.0, 1656.0, 1657.0, 1659.0, 1660.0, 1661.0, 1663.0, 1664.0, 1666.0, 1667.0, 1668.0, 1670.0, 1671.0, 1672.0, 1673.0, 1674.0, 1676.0, 1677.0, 1678.0, 1680.0, 1681.0, 1682.0, 1683.0, 1684.0, 1686.0, 1687.0, 1688.0, 1690.0, 1691.0, 1692.0, 1693.0, 1694.0, 1696.0, 1697.0, 1698.0, 1700.0, 1701.0, 1702.0, 1703.0, 1704.0, 1705.0, 1707.0, 1708.0, 1709.0, 1711.0, 1712.0, 1714.0, 1715.0, 1716.0, 1718.0, 1719.0, 1720.0, 1721.0, 1722.0, 1724.0, 1725.0, 1726.0, 1728.0, 1729.0, 1730.0, 1731.0, 1732.0, 1734.0, 1735.0, 1736.0, 1738.0, 1739.0, 1740.0, 1741.0, 1742.0, 1743.0, 1745.0, 1746.0, 1747.0, 1749.0, 1750.0, 1752.0, 1753.0, 1754.0, 1756.0, 1757.0, 1758.0, 1759.0, 1760.0, 1762.0, 1763.0, 1764.0, 1766.0, 1767.0, 1768.0, 1769.0, 1770.0, 1772.0, 1773.0, 1774.0, 1776.0, 1777.0, 1778.0, 1779.0, 1780.0, 1782.0, 1783.0, 1784.0, 1786.0, 1787.0, 1788.0, 1789.0, 1790.0, 1791.0, 1793.0, 1794.0, 1795.0, 1797.0, 1798.0, 1800.0, 1801.0, 1802.0, 1804.0, 1805.0, 1806.0, 1807.0, 1808.0, 1810.0, 1811.0, 1812.0, 1814.0, 1815.0, 1816.0, 1817.0, 1818.0, 1820.0, 1821.0, 1822.0, 1824.0, 1825.0, 1826.0, 1827.0, 1828.0, 1829.0, 1831.0, 1832.0, 1833.0, 1835.0, 1836.0, 1837.0, 1838.0, 1840.0, 1841.0, 1842.0, 1844.0, 1845.0, 1846.0, 1847.0, 1848.0, 1850.0, 1851.0, 1852.0, 1854.0, 1855.0, 1856.0, 1857.0, 1858.0, 1860.0, 1861.0, 1862.0, 1864.0, 1865.0, 1866.0, 1867.0, 1869.0, 1870.0, 1871.0, 1873.0, 1874.0, 1875.0, 1876.0, 1878.0, 1879.0, 1880.0, 1882.0, 1883.0, 1884.0, 1885.0, 1886.0, 1888.0, 1889.0, 1890.0, 1892.0, 1893.0, 1894.0, 1895.0, 1897.0, 1898.0, 1899.0, 1901.0, 1902.0, 1903.0, 1904.0, 1906.0, 1907.0, 1908.0, 1910.0, 1911.0, 1912.0, 1913.0, 1914.0, 1915.0, 1916.0, 1918.0, 1920.0, 1921.0, 1922.0, 1923.0, 1925.0, 1926.0, 1927.0, 1929.0, 1930.0, 1931.0, 1932.0, 1933.0, 1935.0, 1936.0, 1937.0, 1939.0, 1940.0, 1941.0, 1942.0, 1943.0, 1945.0, 1946.0, 1947.0, 1949.0, 1950.0, 1951.0, 1952.0, 1953.0, 1954.0, 1956.0, 1957.0, 1958.0, 1960.0, 1961.0, 1962.0, 1963.0, 1965.0, 1966.0, 1967.0, 1969.0, 1970.0, 1971.0, 1972.0, 1974.0, 1975.0, 1976.0, 1978.0, 1979.0, 1980.0, 1981.0, 1982.0, 1984.0, 1985.0, 1986.0, 1988.0, 1989.0, 1990.0, 1991.0, 1993.0, 1994.0, 1995.0, 1997.0, 1998.0, 1999.0, 2000.0, 2002.0, 2003.0, 2004.0, 2006.0, 2007.0, 2008.0, 2009.0, 2010.0, 2011.0, 2013.0, 2014.0, 2015.0, 2017.0, 2018.0, 2019.0, 2020.0, 2022.0, 2023.0, 2024.0, 2026.0, 2027.0, 2028.0, 2029.0, 2030.0, 2032.0, 2033.0, 2034.0, 2036.0, 2037.0, 2038.0, 2039.0, 2040.0, 2042.0, 2043.0, 2044.0, 2046.0, 2047.0, 2048.0, 2049.0, 2051.0, 2052.0, 2053.0, 2055.0, 2056.0, 2057.0, 2058.0, 2060.0, 2061.0, 2062.0, 2064.0, 2065.0, 2066.0, 2067.0, 2068.0, 2069.0, 2071.0, 2072.0, 2073.0, 2075.0, 2076.0, 2078.0, 2079.0, 2080.0, 2082.0, 2083.0, 2084.0, 2085.0, 2086.0, 2088.0, 2089.0, 2090.0, 2092.0, 2093.0, 2094.0, 2095.0, 2096.0, 2097.0, 2098.0, 2100.0, 2101.0, 2102.0, 2104.0, 2105.0, 2106.0, 2107.0, 2109.0, 2110.0, 2111.0, 2113.0, 2114.0, 2115.0, 2116.0, 2118.0, 2119.0, 2120.0, 2122.0, 2123.0, 2124.0, 2125.0, 2126.0, 2128.0, 2129.0, 2130.0, 2132.0, 2133.0, 2134.0, 2135.0, 2137.0, 2138.0, 2139.0, 2141.0, 2142.0, 2143.0, 2144.0, 2145.0, 2146.0, 2148.0, 2150.0, 2151.0, 2152.0, 2153.0, 2155.0, 2156.0, 2157.0, 2159.0, 2160.0, 2161.0, 2162.0, 2163.0, 2165.0, 2166.0, 2167.0, 2169.0, 2170.0, 2171.0, 2172.0, 2173.0, 2175.0, 2176.0, 2177.0, 2179.0, 2180.0, 2181.0, 2182.0, 2183.0, 2185.0, 2186.0, 2187.0, 2189.0, 2190.0, 2191.0, 2192.0, 2194.0, 2195.0, 2196.0, 2198.0, 2199.0, 2200.0, 2201.0, 2202.0, 2204.0, 2205.0, 2206.0, 2208.0, 2209.0, 2210.0, 2211.0, 2212.0, 2213.0, 2215.0, 2216.0, 2217.0, 2219.0, 2220.0, 2222.0, 2223.0, 2224.0, 2226.0, 2227.0, 2228.0, 2229.0, 2230.0, 2231.0, 2232.0, 2234.0, 2236.0, 2237.0, 2238.0, 2239.0, 2241.0, 2242.0, 2243.0, 2245.0, 2246.0, 2247.0, 2248.0, 2249.0, 2251.0, 2252.0, 2253.0, 2255.0, 2256.0, 2257.0, 2258.0, 2259.0, 2261.0, 2262.0, 2263.0, 2265.0, 2266.0, 2267.0, 2268.0, 2269.0, 2270.0, 2272.0, 2273.0, 2274.0, 2276.0, 2277.0, 2278.0, 2279.0, 2281.0, 2282.0, 2283.0, 2285.0, 2286.0, 2287.0, 2288.0, 2290.0, 2291.0, 2292.0, 2294.0, 2295.0, 2296.0, 2297.0, 2298.0, 2299.0, 2301.0, 2302.0, 2303.0, 2305.0, 2306.0, 2308.0, 2309.0, 2310.0, 2312.0, 2313.0, 2314.0, 2315.0, 2316.0, 2318.0, 2319.0, 2320.0, 2322.0, 2323.0, 2324.0, 2325.0, 2326.0, 2327.0, 2328.0, 2330.0, 2331.0, 2332.0, 2334.0, 2335.0, 2336.0, 2337.0, 2339.0, 2340.0, 2341.0, 2343.0, 2344.0, 2345.0, 2346.0, 2348.0, 2349.0, 2350.0, 2352.0, 2353.0, 2354.0, 2355.0, 2356.0, 2357.0, 2359.0, 2361.0, 2362.0, 2363.0, 2364.0, 2366.0, 2367.0, 2368.0, 2370.0, 2371.0, 2372.0, 2374.0, 2375.0, 2376.0, 2377.0, 2378.0, 2380.0, 2381.0, 2382.0, 2384.0, 2385.0, 2386.0, 2387.0, 2388.0, 2389.0, 2390.0, 2392.0, 2393.0, 2394.0, 2396.0, 2397.0, 2398.0, 2399.0, 2401.0, 2402.0, 2403.0, 2405.0, 2406.0, 2407.0, 2408.0, 2409.0, 2411.0, 2412.0, 2413.0, 2415.0, 2416.0, 2417.0, 2418.0, 2420.0, 2421.0, 2422.0, 2424.0, 2425.0, 2426.0, 2427.0, 2429.0, 2430.0, 2431.0, 2433.0, 2434.0, 2435.0, 2436.0, 2437.0, 2438.0, 2440.0, 2441.0, 2442.0, 2444.0, 2445.0, 2447.0, 2448.0, 2449.0, 2451.0, 2452.0, 2453.0, 2454.0, 2455.0, 2456.0, 2457.0, 2459.0, 2460.0, 2461.0, 2463.0, 2464.0, 2465.0, 2466.0, 2468.0, 2469.0, 2470.0, 2472.0, 2473.0, 2474.0, 2475.0, 2477.0, 2478.0, 2479.0, 2481.0, 2482.0, 2483.0, 2484.0, 2485.0, 2487.0, 2488.0, 2489.0, 2491.0, 2492.0, 2493.0, 2494.0, 2496.0, 2497.0, 2498.0, 2500.0, 2501.0, 2502.0, 2503.0, 2504.0, 2505.0, 2507.0, 2508.0, 2509.0, 2511.0, 2512.0, 2513.0, 2514.0, 2516.0, 2517.0, 2518.0, 2520.0, 2521.0, 2522.0, 2523.0, 2525.0, 2526.0, 2527.0, 2529.0, 2530.0, 2531.0, 2532.0, 2533.0, 2535.0], \"y\": [-327612.125, -347306.34375, -371487.59375, -400072.09375, -427773.65625, -452044.59375, -457291.25, -461901.0, -463964.4375, -467419.9375, -472346.71875, -473178.34375, -479740.1875, -482194.40625, -483604.21875, -485770.25, -486202.78125, -487950.9375, -491239.84375, -491569.46875, -496080.1875, -497212.75, -497915.40625, -498762.84375, -498798.6875, -499044.90625, -503261.65625, -504590.9375, -505914.15625, -506153.65625, -507574.59375, -508784.03125, -509316.5625, -510723.84375, -511569.28125, -512162.21875, -513047.625, -513197.0625, -514057.46875, -515345.15625, -515769.03125, -517365.9375, -517970.6875, -518392.84375, -518940.03125, -519113.28125, -519502.34375, -520976.75, -521471.3125, -523378.40625, -523770.0625, -524162.46875, -524394.1875, -524644.375, -525843.8125, -526626.25, -528134.25, -528466.4375, -528804.25, -529018.75, -529233.5, -529242.1875, -530580.5625, -531357.75, -533035.25, -533255.9375, -533527.1875, -533613.4375, -533751.3125, -534757.25, -534980.4375, -536369.375, -536553.75, -536811.625, -536875.3125, -537043.375, -537864.25, -538097.9375, -539174.0625, -539362.0625, -539596.0625, -539682.375, -539869.0625, -540481.125, -540768.5, -541524.0625, -541727.6875, -541907.875, -542068.9375, -542175.8125, -542255.4375, -542921.75, -543343.9375, -544164.1875, -544322.8125, -544501.6875, -544595.625, -544720.8125, -545209.375, -545589.0625, -546230.375, -546383.4375, -546559.8125, -546649.9375, -546800.875, -547169.875, -547469.5, -547932.9375, -548090.5, -548234.0625, -548365.25, -548465.875, -548545.4375, -548559.375, -549138.3125, -549493.125, -550261.0625, -550352.5, -550512.5, -550522.1875, -550658.1875, -551056.25, -551098.25, -551614.3125, -551740.25, -551838.3125, -551936.0, -551976.125, -552011.25, -552502.6875, -552620.125, -553262.25, -553348.875, -553464.9375, -553493.5625, -553570.4375, -553954.125, -554042.6875, -554555.3125, -554648.4375, -554752.5, -554801.4375, -554869.9375, -555197.9375, -555379.4375, -555811.25, -555903.4375, -556006.125, -556060.0, -556136.375, -556407.9375, -556606.5, -556965.3125, -557057.6875, -557154.25, -557216.875, -557289.1875, -557297.375, -557314.1875, -557747.5, -557915.4375, -558078.25, -558094.125, -558289.875, -558423.375, -558476.6875, -558631.375, -558755.125, -558839.375, -558985.8125, -559091.3125, -559186.3125, -559305.25, -559339.5625, -559465.75, -559617.25, -559699.5625, -559890.25, -559986.0, -560059.75, -560159.1875, -560190.125, -560289.1875, -560469.3125, -560559.3125, -560777.5625, -560867.8125, -560933.6875, -561024.625, -561049.0, -561134.5, -561331.1875, -561410.1875, -561651.6875, -561735.3125, -561795.625, -561875.25, -561896.875, -561964.8125, -562183.5625, -562252.8125, -562522.75, -562598.9375, -562656.125, -562722.9375, -562743.4375, -562790.6875, -563035.0625, -563099.6875, -563402.875, -563469.6875, -563525.8125, -563578.0625, -563600.5625, -563623.625, -563897.375, -563962.75, -564303.25, -564359.75, -564417.1875, -564452.1875, -564477.625, -564702.5, -564890.125, -565192.5, -565243.8125, -565324.9375, -565338.5, -565419.625, -565567.9375, -565615.875, -565799.0625, -565869.25, -565916.8125, -565986.6875, -566001.1875, -566063.4375, -566233.1875, -566282.375, -566494.5625, -566557.5, -566604.6875, -566661.125, -566679.0, -566719.125, -566914.25, -566973.8125, -567219.25, -567273.9375, -567322.75, -567364.1875, -567387.875, -567402.5, -567626.0625, -567711.625, -567992.875, -568037.8125, -568090.5, -568114.5, -568145.5, -568322.0625, -568431.5625, -568667.875, -568713.3125, -568774.0, -568793.5625, -568849.25, -568979.5, -569043.5, -569206.875, -569262.1875, -569306.625, -569356.25, -569380.125, -569415.9375, -569567.375, -569654.6875, -569846.1875, -569894.5625, -569940.8125, -569977.0625, -570006.9375, -570020.1875, -570196.1875, -570334.1875, -570557.1875, -570597.5625, -570647.3125, -570668.6875, -570705.6875, -570839.1875, -570923.375, -571100.3125, -571144.1875, -571192.6875, -571220.875, -571260.4375, -571370.5625, -571472.5625, -571611.875, -571658.5625, -571703.0625, -571741.125, -571774.5, -571795.875, -571804.5, -571978.1875, -572079.5, -572309.6875, -572341.0625, -572392.4375, -572399.0625, -572443.8125, -572567.6875, -572594.6875, -572754.6875, -572797.9375, -572832.625, -572867.4375, -572884.625, -572901.3125, -573054.75, -573123.875, -573323.4375, -573356.75, -573399.6875, -573414.9375, -573447.125, -573566.875, -573623.75, -573780.625, -573818.6875, -573857.625, -573883.25, -573911.5, -573915.375, -573918.25, -574109.5625, -574184.75, -574255.75, -574262.5625, -574348.75, -574405.625, -574429.5, -574494.1875, -574547.875, -574587.625, -574651.9375, -574696.8125, -574739.9375, -574789.8125, -574809.125, -574861.8125, -574927.0625, -574974.25, -575056.0625, -575097.75, -575133.5, -575175.25, -575197.6875, -575234.0625, -575234.4375, -575255.375, -575402.0625, -575403.5, -575599.6875, -575627.0625, -575662.4375, -575671.6875, -575696.4375, -575816.9375, -575847.1875, -576002.875, -576035.6875, -576066.4375, -576089.3125, -576106.0, -576109.375, -576254.8125, -576315.9375, -576502.8125, -576528.375, -576563.0, -576572.875, -576595.1875, -576708.0625, -576750.4375, -576904.0625, -576931.8125, -576968.4375, -576980.0625, -577012.1875, -577101.4375, -577138.9375, -577251.25, -577285.75, -577312.9375, -577343.4375, -577355.875, -577377.0625, -577481.5, -577522.75, -577655.125, -577685.75, -577713.3125, -577736.875, -577750.4375, -577759.9375, -577882.0625, -577926.5, -578081.125, -578107.125, -578135.3125, -578151.5, -578165.625, -578267.375, -578348.5, -578488.9375, -578514.0625, -578552.625, -578558.75, -578598.125, -578668.875, -578689.625, -578777.8125, -578811.875, -578834.0, -578869.25, -578873.375, -578905.875, -578988.9375, -579004.375, -579108.1875, -579139.875, -579160.75, -579190.4375, -579194.5, -579217.9375, -579315.375, -579326.0625, -579449.0625, -579477.5625, -579498.4375, -579521.25, -579526.125, -579538.625, -579652.8125, -579660.5625, -579806.5625, -579830.625, -579852.9375, -579867.5, -579874.625, -579975.8125, -580056.0, -580195.375, -580215.0625, -580251.5625, -580252.1875, -580289.25, -580356.9375, -580366.5, -580451.75, -580482.5625, -580500.4375, -580531.6875, -580532.625, -580560.25, -580641.25, -580648.375, -580752.0, -580779.125, -580797.75, -580821.4375, -580825.1875, -580840.375, -580938.1875, -580947.1875, -581073.3125, -581095.8125, -581116.625, -581130.8125, -581139.875, -581227.125, -581301.5, -581419.75, -581439.5, -581470.5625, -581475.375, -581505.6875, -581567.125, -581584.9375, -581662.8125, -581689.5625, -581708.8125, -581733.9375, -581740.6875, -581760.4375, -581834.9375, -581858.8125, -581954.125, -581977.5, -581998.25, -582015.8125, -582026.9375, -582033.375, -582123.8125, -582167.625, -582284.6875, -582303.25, -582327.3125, -582335.8125, -582352.5, -582423.75, -582456.8125, -582551.5, -582572.3125, -582596.375, -582608.0, -582627.4375, -582686.125, -582728.0, -582803.3125, -582826.5, -582847.75, -582865.4375, -582880.5, -582889.875, -582890.3125, -582987.0625, -583028.875, -583159.0625, -583171.9375, -583199.8125, -583237.8125, -583270.1875, -583317.5, -583341.3125, -583362.6875, -583386.8125, -583399.5, -583421.75, -583466.5625, -583507.3125, -583564.8125, -583587.6875, -583607.875, -583628.4375, -583642.3125, -583657.4375, -583659.75, -583663.3125, -583761.125, -583798.6875, -583835.1875, -583839.9375, -583882.625, -583913.625, -583927.25, -583963.8125, -583990.875, -584011.25, -584042.1875, -584045.0625, -584078.375, -584117.8125, -584131.0, -584181.0, -584205.0625, -584221.5, -584245.5625, -584252.125, -584273.5625, -584324.25, -584346.3125, -584413.5625, -584433.5625, -584452.3125, -584467.625, -584480.8125, -584487.0625, -584488.9375, -584575.8125, -584595.5, -584709.0, -584722.3125, -584742.0, -584745.25, -584758.75, -584826.125, -584838.625, -584928.875, -584945.125, -584964.375, -584971.8125, -584986.5, -585042.75, -585069.875, -585142.625, -585160.5, -585177.625, -585191.375, -585202.25, -585206.875, -585275.1875, -585325.75, -585413.9375, -585428.75, -585448.625, -585455.3125, -585470.0625, -585522.4375, -585549.375, -585619.1875, -585636.3125, -585654.6875, -585665.4375, -585680.5, -585724.9375, -585765.375, -585822.375, -585840.5625, -585857.875, -585872.75, -585885.5, -585893.625, -585895.9375, -585967.5625, -586006.6875, -586104.0625, -586115.375, -586137.5625, -586166.125, -586193.9375, -586229.375, -586248.25, -586265.6875, -586285.3125, -586296.25, -586314.8125, -586315.0, -586329.875, -586389.1875, -586391.0, -586468.1875, -586484.1875, -586497.125, -586509.1875, -586513.6875, -586516.75, -586590.25, -586602.125, -586697.6875, -586709.625, -586725.6875, -586729.75, -586739.6875, -586798.0, -586813.625, -586892.5625, -586905.875, -586923.125, -586928.75, -586943.0, -586989.8125, -587008.8125, -587069.625, -587085.4375, -587099.625, -587112.3125, -587120.3125, -587126.25, -587183.625, -587215.5625, -587289.375, -587302.8125, -587319.25, -587326.6875, -587337.75, -587383.4375, -587414.8125, -587476.6875, -587490.625, -587507.8125, -587515.9375, -587530.8125, -587568.125, -587595.625, -587642.5, -587658.8125, -587673.375, -587687.3125, -587696.75, -587706.4375, -587750.625, -587789.8125, -587846.3125, -587861.125, -587876.125, -587886.75, -587897.9375, -587901.1875, -587903.375, -587970.75, -587981.1875, -588073.1875, -588081.75, -588100.0, -588127.75, -588150.875, -588185.375, -588201.75, -588215.5625, -588232.0625, -588240.5, -588255.25, -588287.5, -588316.0625, -588357.1875, -588372.9375, -588386.875, -588400.6875, -588409.9375, -588420.375, -588420.625, -588423.1875, -588493.1875, -588517.9375, -588543.5, -588545.875, -588576.0625, -588598.25, -588606.9375, -588633.625, -588652.5625, -588665.75, -588687.25, -588689.0625, -588711.8125, -588740.4375, -588749.6875, -588786.6875, -588803.125, -588814.5625, -588830.4375, -588835.3125, -588848.75, -588886.5, -588905.25, -588955.5625, -588969.25, -588982.8125, -588993.0625, -589003.75, -589005.0625, -589009.625, -589070.3125, -589071.5625, -589150.5, -589161.25, -589173.3125, -589177.5625, -589183.875, -589234.4375, -589253.125, -589321.6875, -589332.25, -589347.6875, -589350.5, -589364.375, -589402.8125, -589412.75, -589461.9375, -589476.0, -589487.0, -589499.1875, -589503.9375, -589511.1875, -589557.875, -589574.0625, -589634.1875, -589646.0, -589658.6875, -589666.0, -589673.25, -589673.3125, -589729.875, -589761.9375, -589834.4375, -589843.9375, -589858.0625, -589860.8125, -589871.125, -589913.6875, -589924.625, -589981.25, -589992.8125, -590006.0625, -590012.375, -590022.6875, -590058.1875, -590081.1875, -590127.0625, -590140.0, -590151.9375, -590162.25, -590169.9375, -590175.25, -590217.75, -590252.5625, -590307.0625, -590318.5625, -590331.5625, -590338.1875, -590348.25, -590382.3125, -590411.0, -590457.4375, -590469.25, -590482.875, -590490.375, -590502.875, -590530.5, -590554.6875, -590589.875, -590603.0, -590615.0625, -590627.1875, -590635.125, -590644.4375, -590676.625, -590708.8125, -590749.6875, -590762.375, -590774.5625, -590784.25, -590793.4375, -590798.5, -590800.125, -590851.1875, -590873.75, -590943.1875, -590950.9375, -590966.875, -590987.125, -591005.5, -591030.875, -591044.3125, -591056.5, -591070.4375, -591077.9375, -591091.25, -591114.9375, -591136.5, -591165.6875, -591178.9375, -591190.5625, -591202.9375, -591210.6875, -591221.375, -591248.875, -591274.9375, -591309.75, -591322.625, -591333.8125, -591344.625, -591352.4375, -591359.9375, -591361.0, -591361.0625, -591420.9375, -591442.0625, -591463.625, -591464.75, -591490.1875, -591508.6875, -591515.0, -591536.5, -591552.75, -591563.375, -591581.4375, -591582.125, -591601.3125, -591625.375, -591631.1875, -591661.875, -591675.5, -591684.625, -591698.4375, -591701.8125, -591713.3125, -591744.25, -591758.125, -591800.125, -591811.375, -591822.8125, -591830.5, -591839.125, -591840.3125, -591843.4375, -591894.75, -591914.5625, -591933.6875, -591937.4375, -591959.3125, -591976.375, -591984.8125, -592005.5625, -592019.6875, -592031.25, -592046.6875, -592050.1875, -592066.875, -592088.6875, -592098.75, -592127.3125, -592139.75, -592149.75, -592161.6875, -592167.4375, -592176.9375, -592206.0, -592227.375, -592265.9375, -592276.875, -592288.5, -592295.8125, -592306.375, -592307.125, -592313.3125, -592356.8125, -592358.0, -592414.25, -592423.625, -592432.6875, -592438.3125, -592442.25, -592480.75, -592510.0, -592562.625, -592571.25, -592584.8125, -592586.3125, -592599.9375, -592626.9375, -592634.25, -592669.125, -592680.8125, -592688.8125, -592700.1875, -592703.125, -592712.0, -592745.0625, -592754.5, -592796.625, -592807.0, -592815.8125, -592824.375, -592828.5625, -592832.5625, -592872.1875, -592888.0625, -592939.375, -592948.3125, -592958.375, -592963.375, -592969.625, -593002.375, -593023.0, -593067.625, -593076.3125, -593088.0625, -593092.6875, -593103.5625, -593128.625, -593142.4375, -593174.25, -593185.3125, -593194.5, -593204.0625, -593209.375, -593216.5625, -593246.625, -593264.9375, -593303.375, -593313.5, -593323.25, -593330.3125, -593336.6875, -593339.625, -593375.375, -593403.3125, -593449.4375, -593458.0, -593468.5, -593473.1875, -593480.75, -593509.0, -593528.9375, -593566.8125, -593576.0625, -593586.75, -593592.25, -593602.25, -593625.0625, -593643.375, -593672.0625, -593682.75, -593691.9375, -593701.4375, -593707.3125, -593714.125, -593740.9375, -593765.125, -593799.4375, -593809.1875, -593818.75, -593826.0625, -593832.875, -593836.25, -593837.25, -593879.8125, -593894.25, -593952.375, -593958.0625, -593970.5625, -593987.5625, -594000.8125, -594021.5625, -594031.9375, -594041.5, -594052.625, -594057.8125, -594069.0, -594088.125, -594103.1875, -594127.625, -594138.125, -594146.8125, -594157.0625, -594162.1875, -594170.5625, -594193.75, -594212.0, -594240.5625, -594250.75, -594259.4375, -594268.0, -594273.6875, -594279.375, -594279.4375, -594317.625, -594353.375, -594406.625, -594412.25, -594425.5, -594439.875, -594451.25, -594468.625, -594479.0625, -594488.875, -594500.5, -594505.375, -594517.0625, -594533.6875, -594546.125, -594566.1875, -594576.375, -594585.5625, -594596.1875, -594600.5, -594610.875, -594629.875, -594644.375, -594668.25, -594678.125, -594686.625, -594695.8125, -594700.9375, -594708.8125, -594731.4375, -594748.5625, -594777.375, -594786.5, -594794.875, -594803.0, -594808.4375, -594813.625, -594840.125, -594864.0, -594898.125, -594906.3125, -594915.1875, -594921.125, -594927.625, -594929.0625, -594930.375, -594970.875, -594975.5625, -595031.25, -595036.0, -595047.0625, -595063.4375, -595075.875, -595096.0, -595105.875, -595113.8125, -595123.9375, -595128.5625, -595137.75, -595156.6875, -595170.6875, -595195.3125, -595204.5625, -595212.375, -595221.125, -595225.8125, -595232.6875, -595255.125, -595273.25, -595301.9375, -595310.625, -595318.875, -595325.875, -595331.5625, -595335.4375, -595362.125, -595387.4375, -595421.625, -595429.6875, -595438.125, -595443.1875, -595449.8125, -595450.4375, -595451.75, -595491.5625, -595507.25, -595522.6875, -595524.9375, -595543.625, -595555.5625, -595561.1875, -595574.125, -595586.0, -595596.0, -595611.3125, -595620.5, -595629.5625, -595639.375, -595645.0, -595654.1875, -595655.3125, -595662.25, -595689.5625, -595693.9375, -595730.25, -595737.5, -595745.9375, -595749.9375, -595756.3125, -595779.25, -595794.875, -595824.8125, -595833.0, -595840.625, -595846.8125, -595851.9375, -595854.875, -595882.625, -595906.25, -595942.0625, -595949.125, -595957.625, -595961.5, -595967.8125, -595989.6875, -596006.75, -596036.25, -596043.875, -596052.9375, -596057.4375, -596065.3125, -596083.1875, -596098.5, -596120.9375, -596129.3125, -596137.0, -596144.625, -596149.375, -596155.625, -596176.5, -596196.25, -596223.0, -596230.6875, -596238.625, -596244.5625, -596250.625, -596253.625, -596254.0625, -596287.75, -596301.75, -596347.4375, -596352.625, -596363.0625, -596375.4375, -596386.625, -596402.5, -596411.3125, -596419.0, -596428.125, -596432.4375, -596441.5625, -596456.4375, -596468.875, -596487.125, -596495.875, -596503.375, -596511.3125, -596515.5625, -596523.1875, -596540.8125, -596555.25, -596577.625, -596585.5, -596592.6875, -596599.9375, -596604.375, -596609.875, -596630.5625, -596649.1875, -596675.5, -596683.0, -596690.4375, -596696.1875, -596701.875, -596704.625, -596704.8125, -596737.75, -596749.125, -596794.375, -596798.375, -596808.625, -596821.25, -596831.375, -596846.875, -596855.5, -596863.1875, -596871.6875, -596875.625, -596884.0, -596898.9375, -596910.4375, -596929.0, -596936.9375, -596943.5625, -596951.5625, -596955.8125, -596962.5625, -596979.9375, -596993.8125, -597015.8125, -597023.1875, -597030.3125, -597037.0625, -597041.4375, -597046.1875, -597066.9375, -597084.5, -597110.8125, -597117.6875, -597124.875, -597130.4375, -597135.25, -597137.625, -597138.1875, -597170.4375, -597178.5625, -597223.0, -597227.0625, -597236.5625, -597249.1875, -597258.9375, -597274.375, -597282.5625, -597289.375, -597297.9375, -597301.25, -597309.125, -597324.1875, -597335.0625, -597353.25, -597361.25, -597367.75, -597375.0625, -597379.0625, -597385.3125, -597402.6875, -597415.9375, -597437.9375, -597445.25, -597451.75, -597458.0625, -597462.3125, -597466.875, -597487.25, -597504.875, -597531.375, -597537.9375, -597545.25, -597549.5625, -597554.875, -597556.5, -597556.9375, -597588.5625, -597593.5, -597637.375, -597641.1875, -597650.3125, -597662.9375, -597671.75, -597687.3125, -597695.25, -597701.75, -597710.0625, -597713.1875, -597720.8125, -597735.375, -597746.125, -597764.875, -597772.375, -597778.4375, -597785.25, -597789.3125, -597794.9375, -597812.25, -597825.75, -597847.9375, -597854.875, -597861.5, -597866.875, -597871.125, -597874.9375, -597895.5, -597914.5625, -597940.875, -597947.25, -597954.1875, -597958.25, -597963.5625, -597964.25, -597965.1875, -597996.4375, -597998.25, -598040.75, -598044.1875, -598052.9375, -598065.0625, -598074.5625, -598090.5625, -598097.6875, -598103.8125, -598111.25, -598114.625, -598122.0625, -598136.5625, -598147.8125, -598166.4375, -598173.5, -598179.8125, -598186.375, -598190.4375, -598195.1875, -598212.375, -598227.6875, -598250.125, -598257.0, -598263.125, -598267.9375, -598272.8125, -598275.375, -598276.1875, -598304.125, -598316.6875, -598354.8125, -598358.75, -598367.5625, -598378.125, -598387.1875, -598400.75, -598407.8125, -598414.5, -598422.1875, -598425.5625, -598433.3125, -598445.9375, -598455.875, -598471.75, -598478.9375, -598484.75, -598491.6875, -598495.5625, -598501.75, -598516.5, -598529.1875, -598547.4375, -598554.5625, -598560.8125, -598566.75, -598570.9375, -598574.875, -598592.4375, -598609.8125, -598632.5625, -598639.0, -598645.375, -598650.4375, -598654.5, -598656.5, -598658.0, -598685.125, -598692.4375, -598729.5, -598733.6875, -598741.5, -598752.4375, -598762.1875, -598775.9375, -598782.6875, -598789.125, -598796.375, -598800.0625, -598806.8125, -598819.4375, -598831.25, -598847.625, -598854.3125, -598860.0, -598866.4375, -598870.375, -598875.9375, -598891.125, -598906.0625, -598925.375, -598931.875, -598938.3125, -598943.3125, -598948.125, -598950.875, -598952.125, -598976.125, -598993.1875, -599026.1875, -599030.5, -599038.75, -599039.0625, -599046.625, -599063.625, -599065.375, -599086.75, -599093.5625, -599097.6875, -599104.5625, -599104.9375, -599110.0625, -599130.5, -599133.625, -599159.875, -599165.75, -599170.8125, -599175.5, -599177.6875, -599178.9375, -599204.125, -599211.8125, -599244.5, -599248.9375, -599254.875, -599256.9375, -599261.375, -599280.9375, -599288.1875, -599315.3125, -599320.125, -599326.625, -599329.4375, -599334.6875, -599350.9375, -599359.9375, -599380.5, -599386.6875, -599391.75, -599397.3125, -599400.125, -599402.9375, -599422.875, -599437.125, -599462.4375, -599468.125, -599474.25, -599477.4375, -599482.0, -599497.6875, -599511.25, -599532.4375, -599538.25, -599544.4375, -599548.4375, -599554.1875, -599566.9375, -599579.125, -599595.5, -599601.6875, -599607.5, -599613.0, -599617.125, -599620.9375, -599621.5625, -599622.375, -599650.375, -599661.0625, -599671.4375, -599672.8125, -599685.1875, -599693.75, -599697.375, -599707.625, -599715.4375, -599721.25, -599730.0625, -599730.8125, -599740.5, -599751.1875, -599755.375, -599769.75, -599776.4375, -599780.9375, -599788.0625, -599790.0625, -599795.875, -599810.5, -599816.75, -599836.3125, -599842.25, -599847.4375, -599851.875, -599855.9375, -599857.6875, -599858.5, -599883.5, -599888.5, -599920.75, -599924.9375, -599931.0625, -599931.875, -599935.6875, -599955.0, -599959.625, -599985.8125, -599990.5, -599996.1875, -599998.5, -600003.0625, -600019.0625, -600027.375, -600047.8125, -600053.0625, -600058.5625, -600062.9375, -600066.25, -600067.8125, -600087.25, -600102.6875, -600128.0625, -600132.8125, -600138.5, -600141.1875, -600145.75, -600160.5, -600169.75, -600189.4375, -600195.0625, -600200.9375, -600204.25, -600209.3125, -600221.75, -600235.0, -600251.625, -600257.5, -600262.8125, -600267.375, -600271.4375, -600274.125, -600275.625, -600295.875, -600309.9375, -600337.8125, -600341.625, -600348.6875, -600349.0625, -600355.625, -600370.125, -600372.6875, -600391.1875, -600397.0625, -600401.0625, -600406.625, -600407.9375, -600411.5625, -600429.4375, -600434.125, -600456.9375, -600462.0625, -600466.625, -600469.875, -600472.8125, -600473.1875, -600495.0625, -600507.125, -600536.125, -600539.6875, -600545.8125, -600546.875, -600551.375, -600567.75, -600571.4375, -600593.25, -600598.1875, -600603.375, -600605.9375, -600609.875, -600624.25, -600636.625, -600655.625, -600660.4375, -600666.125, -600669.6875, -600673.5625, -600674.75, -600675.9375, -600698.1875, -600702.375, -600732.75, -600736.0625, -600742.375, -600751.4375, -600760.0625, -600771.875, -600777.1875, -600782.375, -600787.875, -600791.3125, -600796.4375, -600807.0625, -600818.4375, -600832.8125, -600838.4375, -600843.0625, -600847.875, -600851.75, -600854.875, -600856.0, -600856.3125, -600880.25, -600882.25, -600914.0625, -600916.9375, -600922.3125, -600922.5625, -600926.3125, -600944.6875, -600945.9375, -600970.625, -600974.6875, -600979.4375, -600981.3125, -600985.1875, -601000.6875, -601007.625, -601027.75, -601032.625, -601037.375, -601040.75, -601043.75, -601044.625, -601063.625, -601079.3125, -601104.5625, -601108.125, -601113.875, -601115.125, -601119.9375, -601133.875, -601138.875, -601157.125, -601161.875, -601166.5625, -601169.9375, -601173.125, -601173.75, -601174.3125, -601197.8125, -601206.625, -601215.5625, -601216.625, -601227.0, -601234.25, -601237.4375, -601245.8125, -601252.25, -601257.25, -601264.875, -601265.1875, -601273.75, -601282.9375, -601285.75, -601297.0, -601302.8125, -601306.9375, -601313.0625, -601314.25, -601320.0, -601331.5, -601336.0, -601351.6875, -601356.625, -601360.875, -601365.625, -601367.8125, -601370.4375, -601385.375, -601399.4375, -601420.1875, -601424.375, -601430.125, -601431.625, -601437.1875, -601448.625, -601453.6875, -601468.375, -601473.3125, -601477.375, -601481.9375, -601484.625, -601487.875, -601501.5, -601510.625, -601528.4375, -601532.4375, -601537.375, -601540.5625, -601543.9375, -601545.0625, -601545.125, -601566.75, -601569.125, -601598.875, -601601.1875, -601606.75, -601615.8125, -601622.8125, -601634.125, -601638.9375, -601643.8125, -601648.6875, -601651.5, -601655.625, -601655.75, -601658.0, -601677.4375, -601684.75, -601691.9375, -601693.9375, -601702.125, -601709.3125, -601712.75, -601721.4375, -601727.0, -601731.6875, -601738.0, -601739.5, -601746.5, -601754.9375, -601759.375, -601770.1875, -601775.5625, -601779.5625, -601785.0625, -601787.375, -601791.375, -601802.25, -601810.5, -601824.875, -601829.5, -601834.125, -601837.9375, -601841.5625, -601842.8125, -601844.3125, -601862.1875, -601866.9375, -601890.0, -601893.4375, -601898.375, -601899.8125, -601902.6875, -601917.0625, -601923.5, -601942.4375, -601946.5625, -601951.625, -601953.625, -601957.375, -601969.0, -601976.5625, -601991.6875, -601996.6875, -602000.625, -602004.25, -602007.5625, -602009.0, -602009.4375, -602028.9375, -602035.6875, -602061.8125, -602064.5, -602070.3125, -602077.9375, -602084.625, -602094.0625, -602099.0625, -602103.0, -602108.0, -602110.75, -602115.5625, -602124.3125, -602133.5, -602145.0, -602149.6875, -602153.625, -602157.6875, -602161.125, -602164.0625, -602164.75, -602165.4375, -602185.4375, -602186.9375, -602213.0, -602215.5625, -602220.125, -602220.6875, -602223.75, -602239.125, -602241.3125, -602262.125, -602265.625, -602269.8125, -602271.4375, -602274.625, -602287.6875, -602293.875, -602311.0625, -602315.0625, -602319.125, -602321.875, -602324.5, -602324.875, -602325.0, -602346.25, -602354.875, -602362.75, -602363.375, -602373.5, -602379.5, -602382.0, -602388.625, -602394.5625, -602399.4375, -602407.125, -602412.125, -602416.375, -602421.6875, -602424.0, -602429.0625, -602436.8125, -602443.75, -602453.125, -602457.75, -602462.1875, -602466.5, -602469.125, -602472.6875, -602473.875, -602474.6875, -602491.8125, -602495.875, -602519.3125, -602522.375, -602526.9375, -602527.25, -602531.25, -602544.0625, -602545.9375, -602562.625, -602566.8125, -602570.125, -602573.375, -602574.4375, -602575.75, -602592.0625, -602597.4375, -602618.9375, -602621.5, -602626.25, -602627.5, -602630.75, -602643.375, -602648.125, -602665.0, -602668.75, -602672.6875, -602674.8125, -602677.875, -602689.0625, -602697.375, -602711.5625, -602715.375, -602719.625, -602722.6875, -602725.125, -602726.375, -602727.0, -602744.1875, -602748.6875, -602772.25, -602774.8125, -602779.6875, -602786.75, -602793.375, -602802.375, -602806.6875, -602810.6875, -602815.0625, -602817.75, -602821.25, -602821.875, -602824.0, -602839.5, -602840.5, -602860.5625, -602863.875, -602867.6875, -602869.4375, -602870.9375, -602884.25, -602891.6875, -602909.8125, -602912.8125, -602917.3125, -602919.0625, -602922.625, -602932.75, -602937.875, -602951.25, -602954.8125, -602958.75, -602961.875, -602963.9375, -602966.1875, -602978.375, -602988.0625, -603004.1875, -603007.875, -603012.1875, -603013.875, -603017.375, -603027.375, -603035.125, -603048.125, -603051.75, -603056.3125, -603058.5, -603062.1875, -603062.5625, -603064.5, -603079.3125, -603080.75, -603101.8125, -603104.25, -603107.9375, -603109.5625, -603111.6875, -603124.6875, -603129.9375, -603146.625, -603150.5625, -603154.125, -603156.0625, -603158.9375, -603169.5625, -603175.0, -603188.3125, -603192.3125, -603195.5625, -603198.6875, -603201.0, -603202.0625, -603214.9375]}],\n",
       "                        {\"template\": {\"data\": {\"bar\": [{\"error_x\": {\"color\": \"#2a3f5f\"}, \"error_y\": {\"color\": \"#2a3f5f\"}, \"marker\": {\"line\": {\"color\": \"#E5ECF6\", \"width\": 0.5}}, \"type\": \"bar\"}], \"barpolar\": [{\"marker\": {\"line\": {\"color\": \"#E5ECF6\", \"width\": 0.5}}, \"type\": \"barpolar\"}], \"carpet\": [{\"aaxis\": {\"endlinecolor\": \"#2a3f5f\", \"gridcolor\": \"white\", \"linecolor\": \"white\", \"minorgridcolor\": \"white\", \"startlinecolor\": \"#2a3f5f\"}, \"baxis\": {\"endlinecolor\": \"#2a3f5f\", \"gridcolor\": \"white\", \"linecolor\": \"white\", \"minorgridcolor\": \"white\", \"startlinecolor\": \"#2a3f5f\"}, \"type\": \"carpet\"}], \"choropleth\": [{\"colorbar\": {\"outlinewidth\": 0, \"ticks\": \"\"}, \"type\": \"choropleth\"}], \"contour\": [{\"colorbar\": {\"outlinewidth\": 0, \"ticks\": \"\"}, \"colorscale\": [[0.0, \"#0d0887\"], [0.1111111111111111, \"#46039f\"], [0.2222222222222222, \"#7201a8\"], [0.3333333333333333, \"#9c179e\"], [0.4444444444444444, \"#bd3786\"], [0.5555555555555556, \"#d8576b\"], [0.6666666666666666, \"#ed7953\"], [0.7777777777777778, \"#fb9f3a\"], [0.8888888888888888, \"#fdca26\"], [1.0, \"#f0f921\"]], \"type\": \"contour\"}], \"contourcarpet\": [{\"colorbar\": {\"outlinewidth\": 0, \"ticks\": \"\"}, \"type\": \"contourcarpet\"}], \"heatmap\": [{\"colorbar\": {\"outlinewidth\": 0, \"ticks\": \"\"}, \"colorscale\": [[0.0, \"#0d0887\"], [0.1111111111111111, \"#46039f\"], [0.2222222222222222, \"#7201a8\"], [0.3333333333333333, \"#9c179e\"], [0.4444444444444444, \"#bd3786\"], [0.5555555555555556, \"#d8576b\"], [0.6666666666666666, \"#ed7953\"], [0.7777777777777778, \"#fb9f3a\"], [0.8888888888888888, \"#fdca26\"], [1.0, \"#f0f921\"]], \"type\": \"heatmap\"}], \"heatmapgl\": [{\"colorbar\": {\"outlinewidth\": 0, \"ticks\": \"\"}, \"colorscale\": [[0.0, \"#0d0887\"], [0.1111111111111111, \"#46039f\"], [0.2222222222222222, \"#7201a8\"], [0.3333333333333333, \"#9c179e\"], [0.4444444444444444, \"#bd3786\"], [0.5555555555555556, \"#d8576b\"], [0.6666666666666666, \"#ed7953\"], [0.7777777777777778, \"#fb9f3a\"], [0.8888888888888888, \"#fdca26\"], [1.0, \"#f0f921\"]], \"type\": \"heatmapgl\"}], \"histogram\": [{\"marker\": {\"colorbar\": {\"outlinewidth\": 0, \"ticks\": \"\"}}, \"type\": \"histogram\"}], \"histogram2d\": [{\"colorbar\": {\"outlinewidth\": 0, \"ticks\": \"\"}, \"colorscale\": [[0.0, \"#0d0887\"], [0.1111111111111111, \"#46039f\"], [0.2222222222222222, \"#7201a8\"], [0.3333333333333333, \"#9c179e\"], [0.4444444444444444, \"#bd3786\"], [0.5555555555555556, \"#d8576b\"], [0.6666666666666666, \"#ed7953\"], [0.7777777777777778, \"#fb9f3a\"], [0.8888888888888888, \"#fdca26\"], [1.0, \"#f0f921\"]], \"type\": \"histogram2d\"}], \"histogram2dcontour\": [{\"colorbar\": {\"outlinewidth\": 0, \"ticks\": \"\"}, \"colorscale\": [[0.0, \"#0d0887\"], [0.1111111111111111, \"#46039f\"], [0.2222222222222222, \"#7201a8\"], [0.3333333333333333, \"#9c179e\"], [0.4444444444444444, \"#bd3786\"], [0.5555555555555556, \"#d8576b\"], [0.6666666666666666, \"#ed7953\"], [0.7777777777777778, \"#fb9f3a\"], [0.8888888888888888, \"#fdca26\"], [1.0, \"#f0f921\"]], \"type\": \"histogram2dcontour\"}], \"mesh3d\": [{\"colorbar\": {\"outlinewidth\": 0, \"ticks\": \"\"}, \"type\": \"mesh3d\"}], \"parcoords\": [{\"line\": {\"colorbar\": {\"outlinewidth\": 0, \"ticks\": \"\"}}, \"type\": \"parcoords\"}], \"pie\": [{\"automargin\": true, \"type\": \"pie\"}], \"scatter\": [{\"marker\": {\"colorbar\": {\"outlinewidth\": 0, \"ticks\": \"\"}}, \"type\": \"scatter\"}], \"scatter3d\": [{\"line\": {\"colorbar\": {\"outlinewidth\": 0, \"ticks\": \"\"}}, \"marker\": {\"colorbar\": {\"outlinewidth\": 0, \"ticks\": \"\"}}, \"type\": \"scatter3d\"}], \"scattercarpet\": [{\"marker\": {\"colorbar\": {\"outlinewidth\": 0, \"ticks\": \"\"}}, \"type\": \"scattercarpet\"}], \"scattergeo\": [{\"marker\": {\"colorbar\": {\"outlinewidth\": 0, \"ticks\": \"\"}}, \"type\": \"scattergeo\"}], \"scattergl\": [{\"marker\": {\"colorbar\": {\"outlinewidth\": 0, \"ticks\": \"\"}}, \"type\": \"scattergl\"}], \"scattermapbox\": [{\"marker\": {\"colorbar\": {\"outlinewidth\": 0, \"ticks\": \"\"}}, \"type\": \"scattermapbox\"}], \"scatterpolar\": [{\"marker\": {\"colorbar\": {\"outlinewidth\": 0, \"ticks\": \"\"}}, \"type\": \"scatterpolar\"}], \"scatterpolargl\": [{\"marker\": {\"colorbar\": {\"outlinewidth\": 0, \"ticks\": \"\"}}, \"type\": \"scatterpolargl\"}], \"scatterternary\": [{\"marker\": {\"colorbar\": {\"outlinewidth\": 0, \"ticks\": \"\"}}, \"type\": \"scatterternary\"}], \"surface\": [{\"colorbar\": {\"outlinewidth\": 0, \"ticks\": \"\"}, \"colorscale\": [[0.0, \"#0d0887\"], [0.1111111111111111, \"#46039f\"], [0.2222222222222222, \"#7201a8\"], [0.3333333333333333, \"#9c179e\"], [0.4444444444444444, \"#bd3786\"], [0.5555555555555556, \"#d8576b\"], [0.6666666666666666, \"#ed7953\"], [0.7777777777777778, \"#fb9f3a\"], [0.8888888888888888, \"#fdca26\"], [1.0, \"#f0f921\"]], \"type\": \"surface\"}], \"table\": [{\"cells\": {\"fill\": {\"color\": \"#EBF0F8\"}, \"line\": {\"color\": \"white\"}}, \"header\": {\"fill\": {\"color\": \"#C8D4E3\"}, \"line\": {\"color\": \"white\"}}, \"type\": \"table\"}]}, \"layout\": {\"annotationdefaults\": {\"arrowcolor\": \"#2a3f5f\", \"arrowhead\": 0, \"arrowwidth\": 1}, \"coloraxis\": {\"colorbar\": {\"outlinewidth\": 0, \"ticks\": \"\"}}, \"colorscale\": {\"diverging\": [[0, \"#8e0152\"], [0.1, \"#c51b7d\"], [0.2, \"#de77ae\"], [0.3, \"#f1b6da\"], [0.4, \"#fde0ef\"], [0.5, \"#f7f7f7\"], [0.6, \"#e6f5d0\"], [0.7, \"#b8e186\"], [0.8, \"#7fbc41\"], [0.9, \"#4d9221\"], [1, \"#276419\"]], \"sequential\": [[0.0, \"#0d0887\"], [0.1111111111111111, \"#46039f\"], [0.2222222222222222, \"#7201a8\"], [0.3333333333333333, \"#9c179e\"], [0.4444444444444444, \"#bd3786\"], [0.5555555555555556, \"#d8576b\"], [0.6666666666666666, \"#ed7953\"], [0.7777777777777778, \"#fb9f3a\"], [0.8888888888888888, \"#fdca26\"], [1.0, \"#f0f921\"]], \"sequentialminus\": [[0.0, \"#0d0887\"], [0.1111111111111111, \"#46039f\"], [0.2222222222222222, \"#7201a8\"], [0.3333333333333333, \"#9c179e\"], [0.4444444444444444, \"#bd3786\"], [0.5555555555555556, \"#d8576b\"], [0.6666666666666666, \"#ed7953\"], [0.7777777777777778, \"#fb9f3a\"], [0.8888888888888888, \"#fdca26\"], [1.0, \"#f0f921\"]]}, \"colorway\": [\"#636efa\", \"#EF553B\", \"#00cc96\", \"#ab63fa\", \"#FFA15A\", \"#19d3f3\", \"#FF6692\", \"#B6E880\", \"#FF97FF\", \"#FECB52\"], \"font\": {\"color\": \"#2a3f5f\"}, \"geo\": {\"bgcolor\": \"white\", \"lakecolor\": \"white\", \"landcolor\": \"#E5ECF6\", \"showlakes\": true, \"showland\": true, \"subunitcolor\": \"white\"}, \"hoverlabel\": {\"align\": \"left\"}, \"hovermode\": \"closest\", \"mapbox\": {\"style\": \"light\"}, \"paper_bgcolor\": \"white\", \"plot_bgcolor\": \"#E5ECF6\", \"polar\": {\"angularaxis\": {\"gridcolor\": \"white\", \"linecolor\": \"white\", \"ticks\": \"\"}, \"bgcolor\": \"#E5ECF6\", \"radialaxis\": {\"gridcolor\": \"white\", \"linecolor\": \"white\", \"ticks\": \"\"}}, \"scene\": {\"xaxis\": {\"backgroundcolor\": \"#E5ECF6\", \"gridcolor\": \"white\", \"gridwidth\": 2, \"linecolor\": \"white\", \"showbackground\": true, \"ticks\": \"\", \"zerolinecolor\": \"white\"}, \"yaxis\": {\"backgroundcolor\": \"#E5ECF6\", \"gridcolor\": \"white\", \"gridwidth\": 2, \"linecolor\": \"white\", \"showbackground\": true, \"ticks\": \"\", \"zerolinecolor\": \"white\"}, \"zaxis\": {\"backgroundcolor\": \"#E5ECF6\", \"gridcolor\": \"white\", \"gridwidth\": 2, \"linecolor\": \"white\", \"showbackground\": true, \"ticks\": \"\", \"zerolinecolor\": \"white\"}}, \"shapedefaults\": {\"line\": {\"color\": \"#2a3f5f\"}}, \"ternary\": {\"aaxis\": {\"gridcolor\": \"white\", \"linecolor\": \"white\", \"ticks\": \"\"}, \"baxis\": {\"gridcolor\": \"white\", \"linecolor\": \"white\", \"ticks\": \"\"}, \"bgcolor\": \"#E5ECF6\", \"caxis\": {\"gridcolor\": \"white\", \"linecolor\": \"white\", \"ticks\": \"\"}}, \"title\": {\"x\": 0.05}, \"xaxis\": {\"automargin\": true, \"gridcolor\": \"white\", \"linecolor\": \"white\", \"ticks\": \"\", \"title\": {\"standoff\": 15}, \"zerolinecolor\": \"white\", \"zerolinewidth\": 2}, \"yaxis\": {\"automargin\": true, \"gridcolor\": \"white\", \"linecolor\": \"white\", \"ticks\": \"\", \"title\": {\"standoff\": 15}, \"zerolinecolor\": \"white\", \"zerolinewidth\": 2}}}, \"title\": {\"text\": \"Energy Minimization\"}, \"xaxis\": {\"title\": {\"text\": \"Energy Minimization Step\"}}, \"yaxis\": {\"title\": {\"text\": \"Potential Energy KJ/mol-1\"}}},\n",
       "                        {\"responsive\": true}\n",
       "                    ).then(function(){\n",
       "                            \n",
       "var gd = document.getElementById('eb6cc187-3ef9-4279-b7a2-ceaf7a11215f');\n",
       "var x = new MutationObserver(function (mutations, observer) {{\n",
       "        var display = window.getComputedStyle(gd).display;\n",
       "        if (!display || display === 'none') {{\n",
       "            console.log([gd, 'removed!']);\n",
       "            Plotly.purge(gd);\n",
       "            observer.disconnect();\n",
       "        }}\n",
       "}});\n",
       "\n",
       "// Listen for the removal of the full notebook cells\n",
       "var notebookContainer = gd.closest('#notebook-container');\n",
       "if (notebookContainer) {{\n",
       "    x.observe(notebookContainer, {childList: true});\n",
       "}}\n",
       "\n",
       "// Listen for the clearing of the current output cell\n",
       "var outputEl = gd.closest('.output');\n",
       "if (outputEl) {{\n",
       "    x.observe(outputEl, {childList: true});\n",
       "}}\n",
       "\n",
       "                        })\n",
       "                };\n",
       "                });\n",
       "            </script>\n",
       "        </div>"
      ]
     },
     "metadata": {},
     "output_type": "display_data"
    }
   ],
   "source": [
    "import plotly\n",
    "import plotly.graph_objs as go\n",
    "\n",
    "#Read data from file and filter energy values higher than 1000 Kj/mol^-1\n",
    "with open(output_min_ene_xvg,'r') as energy_file:\n",
    "    x,y = map(\n",
    "        list,\n",
    "        zip(*[\n",
    "            (float(line.split()[0]),float(line.split()[1]))\n",
    "            for line in energy_file \n",
    "            if not line.startswith((\"#\",\"@\")) \n",
    "            if float(line.split()[1]) < 1000 \n",
    "        ])\n",
    "    )\n",
    "\n",
    "plotly.offline.init_notebook_mode(connected=True)\n",
    "\n",
    "fig = {\n",
    "    \"data\": [go.Scatter(x=x, y=y)],\n",
    "    \"layout\": go.Layout(title=\"Energy Minimization\",\n",
    "                        xaxis=dict(title = \"Energy Minimization Step\"),\n",
    "                        yaxis=dict(title = \"Potential Energy KJ/mol-1\")\n",
    "                       )\n",
    "}\n",
    "\n",
    "plotly.offline.iplot(fig)"
   ]
  },
  {
   "cell_type": "markdown",
   "metadata": {},
   "source": [
    "<a id=\"nvt\"></a>\n",
    "***\n",
    "## Equilibrate the system (NVT)\n",
    "Equilibrate the **protein system** in **NVT ensemble** (constant Number of particles, Volume and Temperature). Protein **heavy atoms** will be restrained using position restraining forces: movement is permitted, but only after overcoming a substantial energy penalty. The utility of position restraints is that they allow us to equilibrate our solvent around our protein, without the added variable of structural changes in the protein.\n",
    "\n",
    "- [Step 1](#eqNVTStep1): Creating portable binary run file for system equilibration\n",
    "- [Step 2](#eqNVTStep2): Equilibrate the **protein system** with **NVT** ensemble.\n",
    "- [Step 3](#eqNVTStep3): Checking **NVT Equilibration** results. Plotting **system temperature** by time during the **NVT equilibration** process. \n",
    "\n",
    "***\n",
    "**BioBB REST API** end points used:\n",
    " - [Grompp](https://mmb.irbbarcelona.org/biobb-api/rest/v1/launch/biobb_md/grompp) from **biobb_md.gromacs.grompp**\n",
    " - [Mdrun](https://mmb.irbbarcelona.org/biobb-api/rest/v1/launch/biobb_md/mdrun) from **biobb_md.gromacs.mdrun**\n",
    " - [GMXEnergy](https://mmb.irbbarcelona.org/biobb-api/rest/v1/launch/biobb_analysis/gmx_energy) from **biobb_analysis.gromacs.gmx_energy**\n",
    "***"
   ]
  },
  {
   "cell_type": "markdown",
   "metadata": {},
   "source": [
    "<a id=\"eqNVTStep1\"></a>\n",
    "### Step 1: Creating portable binary run file for system equilibration (NVT)\n",
    "The **nvt** type of the **molecular dynamics parameters (mdp) property** contains the main default parameters to run an **NVT equilibration** with **protein restraints** (see [GROMACS mdp options](http://manual.gromacs.org/documentation/2018/user-guide/mdp-options.html)):\n",
    "\n",
    "-  Define                   = -DPOSRES\n",
    "-  integrator               = md\n",
    "-  dt                       = 0.002\n",
    "-  nsteps                   = 5000\n",
    "-  pcoupl                   = no\n",
    "-  gen_vel                  = yes\n",
    "-  gen_temp                 = 300\n",
    "-  gen_seed                 = -1\n",
    "\n",
    "In this particular example, the default parameters will be used: **md** integrator algorithm, a **step size** of **2fs**, **5,000 equilibration steps** with the protein **heavy atoms restrained**, and a temperature of **300K**.\n",
    "\n",
    "*Please note that for the sake of time this tutorial is only running 10ps of NVT equilibration, whereas in the [original example](http://www.mdtutorials.com/gmx/lysozyme/06_equil.html) the simulated time was 100ps.*"
   ]
  },
  {
   "cell_type": "code",
   "execution_count": 39,
   "metadata": {},
   "outputs": [
    {
     "name": "stdout",
     "output_type": "stream",
     "text": [
      "{\n",
      "  \"code\": 303,\n",
      "  \"state\": \"RUNNING\",\n",
      "  \"message\": \"The requested job has has been successfully launched, please go to /retrieve/status/{token} for checking job status.\",\n",
      "  \"token\": \"bdee772b7e06fc121619eeaa4344531ca7ebc763fb51b86fbc5bc2e16f5127ee8e3f3e123797bdccb4a8d179a70e5e6fb8220a3536431e611037faf166f15f40\"\n",
      "}\n"
     ]
    }
   ],
   "source": [
    "# Grompp: Creating portable binary run file for NVT Equilibration\n",
    "\n",
    "# Create prop dict and inputs/outputs\n",
    "output_gppnvt_tpr = pdbCode + '_gppnvt.tpr'\n",
    "prop = {\n",
    "    'mdp':{\n",
    "        'type': 'nvt',\n",
    "        'nsteps': 5000,\n",
    "        'dt': 0.002,\n",
    "        'define': '-DPOSRES',\n",
    "        #'tc_grps': \"DNA Water_and_ions\" # NOTE: uncomment this line if working with DNA\n",
    "    }\n",
    "}\n",
    "\n",
    "# Launch bb on REST API\n",
    "token = launch_job(url = apiURL + 'launch/biobb_md/grompp',\n",
    "                   config = prop,\n",
    "                   input_gro_path = output_min_gro,\n",
    "                   input_top_zip_path = output_genion_top_zip,\n",
    "                   output_tpr_path = output_gppnvt_tpr)"
   ]
  },
  {
   "cell_type": "code",
   "execution_count": 40,
   "metadata": {},
   "outputs": [
    {
     "name": "stdout",
     "output_type": "stream",
     "text": [
      "Total elapsed time: 0:00:20\n",
      "REST API JSON response:\n",
      "{\n",
      "  \"code\": 200,\n",
      "  \"state\": \"FINISHED\",\n",
      "  \"message\": \"The requested job has finished successfully, please go to /retrieve/data/{id} for each output_files.\",\n",
      "  \"output_files\": [\n",
      "    {\n",
      "      \"id\": \"5ec24ffd83ce53.75174163\",\n",
      "      \"name\": \"1AKI_gppnvt.tpr\",\n",
      "      \"size\": 1533904,\n",
      "      \"mimetype\": \"application/octet-stream\"\n",
      "    }\n",
      "  ],\n",
      "  \"expiration\": \"May 20, 2020 00:00 GMT+0000\"\n",
      "}\n"
     ]
    }
   ],
   "source": [
    "# Check job status\n",
    "out_files = check_job(token, apiURL)"
   ]
  },
  {
   "cell_type": "code",
   "execution_count": 41,
   "metadata": {},
   "outputs": [],
   "source": [
    "# Save generated file to disk\n",
    "retrieve_data(out_files, apiURL)"
   ]
  },
  {
   "cell_type": "markdown",
   "metadata": {},
   "source": [
    "<a id=\"eqNVTStep2\"></a>\n",
    "### Step 2: Running NVT equilibration\n",
    "\n",
    "Running **energy minimization** using the **tpr file** generated in the previous step."
   ]
  },
  {
   "cell_type": "code",
   "execution_count": 42,
   "metadata": {},
   "outputs": [
    {
     "name": "stdout",
     "output_type": "stream",
     "text": [
      "{\n",
      "  \"code\": 303,\n",
      "  \"state\": \"RUNNING\",\n",
      "  \"message\": \"The requested job has has been successfully launched, please go to /retrieve/status/{token} for checking job status.\",\n",
      "  \"token\": \"2a0c48da8fb4e0bdec3536049dbbb1f309d74166263bfb646c832abdbed1b272d4fa7d60e84657bdfc5d584de2b5561b6e17107bd7d45782bc04e39e623b0a92\"\n",
      "}\n"
     ]
    }
   ],
   "source": [
    "# Mdrun: Running Equilibration NVT\n",
    "\n",
    "# Create inputs/outputs\n",
    "output_nvt_trr = pdbCode + '_nvt.trr'\n",
    "output_nvt_gro = pdbCode + '_nvt.gro'\n",
    "output_nvt_edr = pdbCode + '_nvt.edr'\n",
    "output_nvt_log = pdbCode + '_nvt.log'\n",
    "output_nvt_cpt = pdbCode + '_nvt.cpt'\n",
    "\n",
    "# Launch bb on REST API\n",
    "token = launch_job(url = apiURL + 'launch/biobb_md/mdrun',\n",
    "                   input_tpr_path = output_gppnvt_tpr,\n",
    "                   output_trr_path = output_nvt_trr,\n",
    "                   output_gro_path = output_nvt_gro,\n",
    "                   output_edr_path = output_nvt_edr,\n",
    "                   output_log_path = output_nvt_log,\n",
    "                   output_cpt_path = output_nvt_cpt)"
   ]
  },
  {
   "cell_type": "code",
   "execution_count": 43,
   "metadata": {},
   "outputs": [
    {
     "name": "stdout",
     "output_type": "stream",
     "text": [
      "Total elapsed time: 0:01:00\n",
      "REST API JSON response:\n",
      "{\n",
      "  \"code\": 200,\n",
      "  \"state\": \"FINISHED\",\n",
      "  \"message\": \"The requested job has finished successfully, please go to /retrieve/data/{id} for each output_files.\",\n",
      "  \"output_files\": [\n",
      "    {\n",
      "      \"id\": \"5ec250501233a5.64986437\",\n",
      "      \"name\": \"1AKI_nvt.trr\",\n",
      "      \"size\": 8934024,\n",
      "      \"mimetype\": \"application/octet-stream\"\n",
      "    },\n",
      "    {\n",
      "      \"id\": \"5ec25050648fe7.07083267\",\n",
      "      \"name\": \"1AKI_nvt.gro\",\n",
      "      \"size\": 2334738,\n",
      "      \"mimetype\": \"application/octet-stream\"\n",
      "    },\n",
      "    {\n",
      "      \"id\": \"5ec25050832d32.01509768\",\n",
      "      \"name\": \"1AKI_nvt.edr\",\n",
      "      \"size\": 6892,\n",
      "      \"mimetype\": \"application/octet-stream\"\n",
      "    },\n",
      "    {\n",
      "      \"id\": \"5ec2505084a3a2.83080474\",\n",
      "      \"name\": \"1AKI_nvt.log\",\n",
      "      \"size\": 28690,\n",
      "      \"mimetype\": \"text/plain\"\n",
      "    },\n",
      "    {\n",
      "      \"id\": \"5ec25050860a14.53543224\",\n",
      "      \"name\": \"1AKI_nvt.cpt\",\n",
      "      \"size\": 813804,\n",
      "      \"mimetype\": \"application/octet-stream\"\n",
      "    }\n",
      "  ],\n",
      "  \"expiration\": \"May 20, 2020 00:00 GMT+0000\"\n",
      "}\n"
     ]
    }
   ],
   "source": [
    "# Check job status\n",
    "out_files = check_job(token, apiURL)"
   ]
  },
  {
   "cell_type": "code",
   "execution_count": 44,
   "metadata": {},
   "outputs": [],
   "source": [
    "# Save generated file to disk\n",
    "retrieve_data(out_files, apiURL)"
   ]
  },
  {
   "cell_type": "markdown",
   "metadata": {},
   "source": [
    "<a id=\"eqNVTStep3\"></a>\n",
    "### Step 3: Checking NVT Equilibration results\n",
    "Checking **NVT Equilibration** results. Plotting **system temperature** by time during the NVT equilibration process. "
   ]
  },
  {
   "cell_type": "code",
   "execution_count": 45,
   "metadata": {
    "scrolled": true
   },
   "outputs": [
    {
     "name": "stdout",
     "output_type": "stream",
     "text": [
      "{\n",
      "  \"code\": 303,\n",
      "  \"state\": \"RUNNING\",\n",
      "  \"message\": \"The requested job has has been successfully launched, please go to /retrieve/status/{token} for checking job status.\",\n",
      "  \"token\": \"b30ab2bb6e29e9d5c86c81a3e2eb83cad577e4c9b15d3e774e11952e5292739845f61d2d5b9a9748864a54640ac56c3645ba032e527c3257cb6c5b1369bad294\"\n",
      "}\n"
     ]
    }
   ],
   "source": [
    "# GMXEnergy: Getting system temperature by time during NVT Equilibration \n",
    "\n",
    "# Create prop dict and inputs/outputs\n",
    "output_nvt_temp_xvg = pdbCode + '_nvt_temp.xvg'\n",
    "prop = {\n",
    "    'terms':  [\"Temperature\"]\n",
    "}\n",
    "\n",
    "# Launch bb on REST API\n",
    "token = launch_job(url = apiURL + 'launch/biobb_analysis/gmx_energy', \n",
    "                   config = prop,\n",
    "                   input_energy_path = output_nvt_edr,\n",
    "                   output_xvg_path = output_nvt_temp_xvg)"
   ]
  },
  {
   "cell_type": "code",
   "execution_count": 46,
   "metadata": {},
   "outputs": [
    {
     "name": "stdout",
     "output_type": "stream",
     "text": [
      "Total elapsed time: 0:00:01\n",
      "REST API JSON response:\n",
      "{\n",
      "  \"code\": 200,\n",
      "  \"state\": \"FINISHED\",\n",
      "  \"message\": \"The requested job has finished successfully, please go to /retrieve/data/{id} for each output_files.\",\n",
      "  \"output_files\": [\n",
      "    {\n",
      "      \"id\": \"5ec25065b3ef01.57109466\",\n",
      "      \"name\": \"1AKI_nvt_temp.xvg\",\n",
      "      \"size\": 275,\n",
      "      \"mimetype\": \"text/plain\"\n",
      "    }\n",
      "  ],\n",
      "  \"expiration\": \"May 20, 2020 00:00 GMT+0000\"\n",
      "}\n"
     ]
    }
   ],
   "source": [
    "# Check job status\n",
    "out_files = check_job(token, apiURL)"
   ]
  },
  {
   "cell_type": "code",
   "execution_count": 47,
   "metadata": {},
   "outputs": [],
   "source": [
    "# Save generated file to disk\n",
    "retrieve_data(out_files, apiURL)"
   ]
  },
  {
   "cell_type": "code",
   "execution_count": 48,
   "metadata": {},
   "outputs": [
    {
     "data": {
      "text/html": [
       "        <script type=\"text/javascript\">\n",
       "        window.PlotlyConfig = {MathJaxConfig: 'local'};\n",
       "        if (window.MathJax) {MathJax.Hub.Config({SVG: {font: \"STIX-Web\"}});}\n",
       "        if (typeof require !== 'undefined') {\n",
       "        require.undef(\"plotly\");\n",
       "        requirejs.config({\n",
       "            paths: {\n",
       "                'plotly': ['https://cdn.plot.ly/plotly-latest.min']\n",
       "            }\n",
       "        });\n",
       "        require(['plotly'], function(Plotly) {\n",
       "            window._Plotly = Plotly;\n",
       "        });\n",
       "        }\n",
       "        </script>\n",
       "        "
      ]
     },
     "metadata": {},
     "output_type": "display_data"
    },
    {
     "data": {
      "application/vnd.plotly.v1+json": {
       "config": {
        "linkText": "Export to plot.ly",
        "plotlyServerURL": "https://plot.ly",
        "showLink": false
       },
       "data": [
        {
         "type": "scatter",
         "x": [
          0,
          1,
          2,
          3,
          4,
          5,
          6,
          7,
          8,
          9,
          10
         ],
         "y": [
          300.491516,
          296.650848,
          299.714569,
          301.196869,
          300.179199,
          300.342072,
          301.620636,
          299.874512,
          300.741394,
          300.011292,
          298.332031
         ]
        }
       ],
       "layout": {
        "template": {
         "data": {
          "bar": [
           {
            "error_x": {
             "color": "#2a3f5f"
            },
            "error_y": {
             "color": "#2a3f5f"
            },
            "marker": {
             "line": {
              "color": "#E5ECF6",
              "width": 0.5
             }
            },
            "type": "bar"
           }
          ],
          "barpolar": [
           {
            "marker": {
             "line": {
              "color": "#E5ECF6",
              "width": 0.5
             }
            },
            "type": "barpolar"
           }
          ],
          "carpet": [
           {
            "aaxis": {
             "endlinecolor": "#2a3f5f",
             "gridcolor": "white",
             "linecolor": "white",
             "minorgridcolor": "white",
             "startlinecolor": "#2a3f5f"
            },
            "baxis": {
             "endlinecolor": "#2a3f5f",
             "gridcolor": "white",
             "linecolor": "white",
             "minorgridcolor": "white",
             "startlinecolor": "#2a3f5f"
            },
            "type": "carpet"
           }
          ],
          "choropleth": [
           {
            "colorbar": {
             "outlinewidth": 0,
             "ticks": ""
            },
            "type": "choropleth"
           }
          ],
          "contour": [
           {
            "colorbar": {
             "outlinewidth": 0,
             "ticks": ""
            },
            "colorscale": [
             [
              0,
              "#0d0887"
             ],
             [
              0.1111111111111111,
              "#46039f"
             ],
             [
              0.2222222222222222,
              "#7201a8"
             ],
             [
              0.3333333333333333,
              "#9c179e"
             ],
             [
              0.4444444444444444,
              "#bd3786"
             ],
             [
              0.5555555555555556,
              "#d8576b"
             ],
             [
              0.6666666666666666,
              "#ed7953"
             ],
             [
              0.7777777777777778,
              "#fb9f3a"
             ],
             [
              0.8888888888888888,
              "#fdca26"
             ],
             [
              1,
              "#f0f921"
             ]
            ],
            "type": "contour"
           }
          ],
          "contourcarpet": [
           {
            "colorbar": {
             "outlinewidth": 0,
             "ticks": ""
            },
            "type": "contourcarpet"
           }
          ],
          "heatmap": [
           {
            "colorbar": {
             "outlinewidth": 0,
             "ticks": ""
            },
            "colorscale": [
             [
              0,
              "#0d0887"
             ],
             [
              0.1111111111111111,
              "#46039f"
             ],
             [
              0.2222222222222222,
              "#7201a8"
             ],
             [
              0.3333333333333333,
              "#9c179e"
             ],
             [
              0.4444444444444444,
              "#bd3786"
             ],
             [
              0.5555555555555556,
              "#d8576b"
             ],
             [
              0.6666666666666666,
              "#ed7953"
             ],
             [
              0.7777777777777778,
              "#fb9f3a"
             ],
             [
              0.8888888888888888,
              "#fdca26"
             ],
             [
              1,
              "#f0f921"
             ]
            ],
            "type": "heatmap"
           }
          ],
          "heatmapgl": [
           {
            "colorbar": {
             "outlinewidth": 0,
             "ticks": ""
            },
            "colorscale": [
             [
              0,
              "#0d0887"
             ],
             [
              0.1111111111111111,
              "#46039f"
             ],
             [
              0.2222222222222222,
              "#7201a8"
             ],
             [
              0.3333333333333333,
              "#9c179e"
             ],
             [
              0.4444444444444444,
              "#bd3786"
             ],
             [
              0.5555555555555556,
              "#d8576b"
             ],
             [
              0.6666666666666666,
              "#ed7953"
             ],
             [
              0.7777777777777778,
              "#fb9f3a"
             ],
             [
              0.8888888888888888,
              "#fdca26"
             ],
             [
              1,
              "#f0f921"
             ]
            ],
            "type": "heatmapgl"
           }
          ],
          "histogram": [
           {
            "marker": {
             "colorbar": {
              "outlinewidth": 0,
              "ticks": ""
             }
            },
            "type": "histogram"
           }
          ],
          "histogram2d": [
           {
            "colorbar": {
             "outlinewidth": 0,
             "ticks": ""
            },
            "colorscale": [
             [
              0,
              "#0d0887"
             ],
             [
              0.1111111111111111,
              "#46039f"
             ],
             [
              0.2222222222222222,
              "#7201a8"
             ],
             [
              0.3333333333333333,
              "#9c179e"
             ],
             [
              0.4444444444444444,
              "#bd3786"
             ],
             [
              0.5555555555555556,
              "#d8576b"
             ],
             [
              0.6666666666666666,
              "#ed7953"
             ],
             [
              0.7777777777777778,
              "#fb9f3a"
             ],
             [
              0.8888888888888888,
              "#fdca26"
             ],
             [
              1,
              "#f0f921"
             ]
            ],
            "type": "histogram2d"
           }
          ],
          "histogram2dcontour": [
           {
            "colorbar": {
             "outlinewidth": 0,
             "ticks": ""
            },
            "colorscale": [
             [
              0,
              "#0d0887"
             ],
             [
              0.1111111111111111,
              "#46039f"
             ],
             [
              0.2222222222222222,
              "#7201a8"
             ],
             [
              0.3333333333333333,
              "#9c179e"
             ],
             [
              0.4444444444444444,
              "#bd3786"
             ],
             [
              0.5555555555555556,
              "#d8576b"
             ],
             [
              0.6666666666666666,
              "#ed7953"
             ],
             [
              0.7777777777777778,
              "#fb9f3a"
             ],
             [
              0.8888888888888888,
              "#fdca26"
             ],
             [
              1,
              "#f0f921"
             ]
            ],
            "type": "histogram2dcontour"
           }
          ],
          "mesh3d": [
           {
            "colorbar": {
             "outlinewidth": 0,
             "ticks": ""
            },
            "type": "mesh3d"
           }
          ],
          "parcoords": [
           {
            "line": {
             "colorbar": {
              "outlinewidth": 0,
              "ticks": ""
             }
            },
            "type": "parcoords"
           }
          ],
          "pie": [
           {
            "automargin": true,
            "type": "pie"
           }
          ],
          "scatter": [
           {
            "marker": {
             "colorbar": {
              "outlinewidth": 0,
              "ticks": ""
             }
            },
            "type": "scatter"
           }
          ],
          "scatter3d": [
           {
            "line": {
             "colorbar": {
              "outlinewidth": 0,
              "ticks": ""
             }
            },
            "marker": {
             "colorbar": {
              "outlinewidth": 0,
              "ticks": ""
             }
            },
            "type": "scatter3d"
           }
          ],
          "scattercarpet": [
           {
            "marker": {
             "colorbar": {
              "outlinewidth": 0,
              "ticks": ""
             }
            },
            "type": "scattercarpet"
           }
          ],
          "scattergeo": [
           {
            "marker": {
             "colorbar": {
              "outlinewidth": 0,
              "ticks": ""
             }
            },
            "type": "scattergeo"
           }
          ],
          "scattergl": [
           {
            "marker": {
             "colorbar": {
              "outlinewidth": 0,
              "ticks": ""
             }
            },
            "type": "scattergl"
           }
          ],
          "scattermapbox": [
           {
            "marker": {
             "colorbar": {
              "outlinewidth": 0,
              "ticks": ""
             }
            },
            "type": "scattermapbox"
           }
          ],
          "scatterpolar": [
           {
            "marker": {
             "colorbar": {
              "outlinewidth": 0,
              "ticks": ""
             }
            },
            "type": "scatterpolar"
           }
          ],
          "scatterpolargl": [
           {
            "marker": {
             "colorbar": {
              "outlinewidth": 0,
              "ticks": ""
             }
            },
            "type": "scatterpolargl"
           }
          ],
          "scatterternary": [
           {
            "marker": {
             "colorbar": {
              "outlinewidth": 0,
              "ticks": ""
             }
            },
            "type": "scatterternary"
           }
          ],
          "surface": [
           {
            "colorbar": {
             "outlinewidth": 0,
             "ticks": ""
            },
            "colorscale": [
             [
              0,
              "#0d0887"
             ],
             [
              0.1111111111111111,
              "#46039f"
             ],
             [
              0.2222222222222222,
              "#7201a8"
             ],
             [
              0.3333333333333333,
              "#9c179e"
             ],
             [
              0.4444444444444444,
              "#bd3786"
             ],
             [
              0.5555555555555556,
              "#d8576b"
             ],
             [
              0.6666666666666666,
              "#ed7953"
             ],
             [
              0.7777777777777778,
              "#fb9f3a"
             ],
             [
              0.8888888888888888,
              "#fdca26"
             ],
             [
              1,
              "#f0f921"
             ]
            ],
            "type": "surface"
           }
          ],
          "table": [
           {
            "cells": {
             "fill": {
              "color": "#EBF0F8"
             },
             "line": {
              "color": "white"
             }
            },
            "header": {
             "fill": {
              "color": "#C8D4E3"
             },
             "line": {
              "color": "white"
             }
            },
            "type": "table"
           }
          ]
         },
         "layout": {
          "annotationdefaults": {
           "arrowcolor": "#2a3f5f",
           "arrowhead": 0,
           "arrowwidth": 1
          },
          "coloraxis": {
           "colorbar": {
            "outlinewidth": 0,
            "ticks": ""
           }
          },
          "colorscale": {
           "diverging": [
            [
             0,
             "#8e0152"
            ],
            [
             0.1,
             "#c51b7d"
            ],
            [
             0.2,
             "#de77ae"
            ],
            [
             0.3,
             "#f1b6da"
            ],
            [
             0.4,
             "#fde0ef"
            ],
            [
             0.5,
             "#f7f7f7"
            ],
            [
             0.6,
             "#e6f5d0"
            ],
            [
             0.7,
             "#b8e186"
            ],
            [
             0.8,
             "#7fbc41"
            ],
            [
             0.9,
             "#4d9221"
            ],
            [
             1,
             "#276419"
            ]
           ],
           "sequential": [
            [
             0,
             "#0d0887"
            ],
            [
             0.1111111111111111,
             "#46039f"
            ],
            [
             0.2222222222222222,
             "#7201a8"
            ],
            [
             0.3333333333333333,
             "#9c179e"
            ],
            [
             0.4444444444444444,
             "#bd3786"
            ],
            [
             0.5555555555555556,
             "#d8576b"
            ],
            [
             0.6666666666666666,
             "#ed7953"
            ],
            [
             0.7777777777777778,
             "#fb9f3a"
            ],
            [
             0.8888888888888888,
             "#fdca26"
            ],
            [
             1,
             "#f0f921"
            ]
           ],
           "sequentialminus": [
            [
             0,
             "#0d0887"
            ],
            [
             0.1111111111111111,
             "#46039f"
            ],
            [
             0.2222222222222222,
             "#7201a8"
            ],
            [
             0.3333333333333333,
             "#9c179e"
            ],
            [
             0.4444444444444444,
             "#bd3786"
            ],
            [
             0.5555555555555556,
             "#d8576b"
            ],
            [
             0.6666666666666666,
             "#ed7953"
            ],
            [
             0.7777777777777778,
             "#fb9f3a"
            ],
            [
             0.8888888888888888,
             "#fdca26"
            ],
            [
             1,
             "#f0f921"
            ]
           ]
          },
          "colorway": [
           "#636efa",
           "#EF553B",
           "#00cc96",
           "#ab63fa",
           "#FFA15A",
           "#19d3f3",
           "#FF6692",
           "#B6E880",
           "#FF97FF",
           "#FECB52"
          ],
          "font": {
           "color": "#2a3f5f"
          },
          "geo": {
           "bgcolor": "white",
           "lakecolor": "white",
           "landcolor": "#E5ECF6",
           "showlakes": true,
           "showland": true,
           "subunitcolor": "white"
          },
          "hoverlabel": {
           "align": "left"
          },
          "hovermode": "closest",
          "mapbox": {
           "style": "light"
          },
          "paper_bgcolor": "white",
          "plot_bgcolor": "#E5ECF6",
          "polar": {
           "angularaxis": {
            "gridcolor": "white",
            "linecolor": "white",
            "ticks": ""
           },
           "bgcolor": "#E5ECF6",
           "radialaxis": {
            "gridcolor": "white",
            "linecolor": "white",
            "ticks": ""
           }
          },
          "scene": {
           "xaxis": {
            "backgroundcolor": "#E5ECF6",
            "gridcolor": "white",
            "gridwidth": 2,
            "linecolor": "white",
            "showbackground": true,
            "ticks": "",
            "zerolinecolor": "white"
           },
           "yaxis": {
            "backgroundcolor": "#E5ECF6",
            "gridcolor": "white",
            "gridwidth": 2,
            "linecolor": "white",
            "showbackground": true,
            "ticks": "",
            "zerolinecolor": "white"
           },
           "zaxis": {
            "backgroundcolor": "#E5ECF6",
            "gridcolor": "white",
            "gridwidth": 2,
            "linecolor": "white",
            "showbackground": true,
            "ticks": "",
            "zerolinecolor": "white"
           }
          },
          "shapedefaults": {
           "line": {
            "color": "#2a3f5f"
           }
          },
          "ternary": {
           "aaxis": {
            "gridcolor": "white",
            "linecolor": "white",
            "ticks": ""
           },
           "baxis": {
            "gridcolor": "white",
            "linecolor": "white",
            "ticks": ""
           },
           "bgcolor": "#E5ECF6",
           "caxis": {
            "gridcolor": "white",
            "linecolor": "white",
            "ticks": ""
           }
          },
          "title": {
           "x": 0.05
          },
          "xaxis": {
           "automargin": true,
           "gridcolor": "white",
           "linecolor": "white",
           "ticks": "",
           "title": {
            "standoff": 15
           },
           "zerolinecolor": "white",
           "zerolinewidth": 2
          },
          "yaxis": {
           "automargin": true,
           "gridcolor": "white",
           "linecolor": "white",
           "ticks": "",
           "title": {
            "standoff": 15
           },
           "zerolinecolor": "white",
           "zerolinewidth": 2
          }
         }
        },
        "title": {
         "text": "Temperature during NVT Equilibration"
        },
        "xaxis": {
         "title": {
          "text": "Time (ps)"
         }
        },
        "yaxis": {
         "title": {
          "text": "Temperature (K)"
         }
        }
       }
      },
      "text/html": [
       "<div>\n",
       "        \n",
       "        \n",
       "            <div id=\"19d04f2a-d9aa-4cb0-953d-7966eced01cf\" class=\"plotly-graph-div\" style=\"height:525px; width:100%;\"></div>\n",
       "            <script type=\"text/javascript\">\n",
       "                require([\"plotly\"], function(Plotly) {\n",
       "                    window.PLOTLYENV=window.PLOTLYENV || {};\n",
       "                    \n",
       "                if (document.getElementById(\"19d04f2a-d9aa-4cb0-953d-7966eced01cf\")) {\n",
       "                    Plotly.newPlot(\n",
       "                        '19d04f2a-d9aa-4cb0-953d-7966eced01cf',\n",
       "                        [{\"type\": \"scatter\", \"x\": [0.0, 1.0, 2.0, 3.0, 4.0, 5.0, 6.0, 7.0, 8.0, 9.0, 10.0], \"y\": [300.491516, 296.650848, 299.714569, 301.196869, 300.179199, 300.342072, 301.620636, 299.874512, 300.741394, 300.011292, 298.332031]}],\n",
       "                        {\"template\": {\"data\": {\"bar\": [{\"error_x\": {\"color\": \"#2a3f5f\"}, \"error_y\": {\"color\": \"#2a3f5f\"}, \"marker\": {\"line\": {\"color\": \"#E5ECF6\", \"width\": 0.5}}, \"type\": \"bar\"}], \"barpolar\": [{\"marker\": {\"line\": {\"color\": \"#E5ECF6\", \"width\": 0.5}}, \"type\": \"barpolar\"}], \"carpet\": [{\"aaxis\": {\"endlinecolor\": \"#2a3f5f\", \"gridcolor\": \"white\", \"linecolor\": \"white\", \"minorgridcolor\": \"white\", \"startlinecolor\": \"#2a3f5f\"}, \"baxis\": {\"endlinecolor\": \"#2a3f5f\", \"gridcolor\": \"white\", \"linecolor\": \"white\", \"minorgridcolor\": \"white\", \"startlinecolor\": \"#2a3f5f\"}, \"type\": \"carpet\"}], \"choropleth\": [{\"colorbar\": {\"outlinewidth\": 0, \"ticks\": \"\"}, \"type\": \"choropleth\"}], \"contour\": [{\"colorbar\": {\"outlinewidth\": 0, \"ticks\": \"\"}, \"colorscale\": [[0.0, \"#0d0887\"], [0.1111111111111111, \"#46039f\"], [0.2222222222222222, \"#7201a8\"], [0.3333333333333333, \"#9c179e\"], [0.4444444444444444, \"#bd3786\"], [0.5555555555555556, \"#d8576b\"], [0.6666666666666666, \"#ed7953\"], [0.7777777777777778, \"#fb9f3a\"], [0.8888888888888888, \"#fdca26\"], [1.0, \"#f0f921\"]], \"type\": \"contour\"}], \"contourcarpet\": [{\"colorbar\": {\"outlinewidth\": 0, \"ticks\": \"\"}, \"type\": \"contourcarpet\"}], \"heatmap\": [{\"colorbar\": {\"outlinewidth\": 0, \"ticks\": \"\"}, \"colorscale\": [[0.0, \"#0d0887\"], [0.1111111111111111, \"#46039f\"], [0.2222222222222222, \"#7201a8\"], [0.3333333333333333, \"#9c179e\"], [0.4444444444444444, \"#bd3786\"], [0.5555555555555556, \"#d8576b\"], [0.6666666666666666, \"#ed7953\"], [0.7777777777777778, \"#fb9f3a\"], [0.8888888888888888, \"#fdca26\"], [1.0, \"#f0f921\"]], \"type\": \"heatmap\"}], \"heatmapgl\": [{\"colorbar\": {\"outlinewidth\": 0, \"ticks\": \"\"}, \"colorscale\": [[0.0, \"#0d0887\"], [0.1111111111111111, \"#46039f\"], [0.2222222222222222, \"#7201a8\"], [0.3333333333333333, \"#9c179e\"], [0.4444444444444444, \"#bd3786\"], [0.5555555555555556, \"#d8576b\"], [0.6666666666666666, \"#ed7953\"], [0.7777777777777778, \"#fb9f3a\"], [0.8888888888888888, \"#fdca26\"], [1.0, \"#f0f921\"]], \"type\": \"heatmapgl\"}], \"histogram\": [{\"marker\": {\"colorbar\": {\"outlinewidth\": 0, \"ticks\": \"\"}}, \"type\": \"histogram\"}], \"histogram2d\": [{\"colorbar\": {\"outlinewidth\": 0, \"ticks\": \"\"}, \"colorscale\": [[0.0, \"#0d0887\"], [0.1111111111111111, \"#46039f\"], [0.2222222222222222, \"#7201a8\"], [0.3333333333333333, \"#9c179e\"], [0.4444444444444444, \"#bd3786\"], [0.5555555555555556, \"#d8576b\"], [0.6666666666666666, \"#ed7953\"], [0.7777777777777778, \"#fb9f3a\"], [0.8888888888888888, \"#fdca26\"], [1.0, \"#f0f921\"]], \"type\": \"histogram2d\"}], \"histogram2dcontour\": [{\"colorbar\": {\"outlinewidth\": 0, \"ticks\": \"\"}, \"colorscale\": [[0.0, \"#0d0887\"], [0.1111111111111111, \"#46039f\"], [0.2222222222222222, \"#7201a8\"], [0.3333333333333333, \"#9c179e\"], [0.4444444444444444, \"#bd3786\"], [0.5555555555555556, \"#d8576b\"], [0.6666666666666666, \"#ed7953\"], [0.7777777777777778, \"#fb9f3a\"], [0.8888888888888888, \"#fdca26\"], [1.0, \"#f0f921\"]], \"type\": \"histogram2dcontour\"}], \"mesh3d\": [{\"colorbar\": {\"outlinewidth\": 0, \"ticks\": \"\"}, \"type\": \"mesh3d\"}], \"parcoords\": [{\"line\": {\"colorbar\": {\"outlinewidth\": 0, \"ticks\": \"\"}}, \"type\": \"parcoords\"}], \"pie\": [{\"automargin\": true, \"type\": \"pie\"}], \"scatter\": [{\"marker\": {\"colorbar\": {\"outlinewidth\": 0, \"ticks\": \"\"}}, \"type\": \"scatter\"}], \"scatter3d\": [{\"line\": {\"colorbar\": {\"outlinewidth\": 0, \"ticks\": \"\"}}, \"marker\": {\"colorbar\": {\"outlinewidth\": 0, \"ticks\": \"\"}}, \"type\": \"scatter3d\"}], \"scattercarpet\": [{\"marker\": {\"colorbar\": {\"outlinewidth\": 0, \"ticks\": \"\"}}, \"type\": \"scattercarpet\"}], \"scattergeo\": [{\"marker\": {\"colorbar\": {\"outlinewidth\": 0, \"ticks\": \"\"}}, \"type\": \"scattergeo\"}], \"scattergl\": [{\"marker\": {\"colorbar\": {\"outlinewidth\": 0, \"ticks\": \"\"}}, \"type\": \"scattergl\"}], \"scattermapbox\": [{\"marker\": {\"colorbar\": {\"outlinewidth\": 0, \"ticks\": \"\"}}, \"type\": \"scattermapbox\"}], \"scatterpolar\": [{\"marker\": {\"colorbar\": {\"outlinewidth\": 0, \"ticks\": \"\"}}, \"type\": \"scatterpolar\"}], \"scatterpolargl\": [{\"marker\": {\"colorbar\": {\"outlinewidth\": 0, \"ticks\": \"\"}}, \"type\": \"scatterpolargl\"}], \"scatterternary\": [{\"marker\": {\"colorbar\": {\"outlinewidth\": 0, \"ticks\": \"\"}}, \"type\": \"scatterternary\"}], \"surface\": [{\"colorbar\": {\"outlinewidth\": 0, \"ticks\": \"\"}, \"colorscale\": [[0.0, \"#0d0887\"], [0.1111111111111111, \"#46039f\"], [0.2222222222222222, \"#7201a8\"], [0.3333333333333333, \"#9c179e\"], [0.4444444444444444, \"#bd3786\"], [0.5555555555555556, \"#d8576b\"], [0.6666666666666666, \"#ed7953\"], [0.7777777777777778, \"#fb9f3a\"], [0.8888888888888888, \"#fdca26\"], [1.0, \"#f0f921\"]], \"type\": \"surface\"}], \"table\": [{\"cells\": {\"fill\": {\"color\": \"#EBF0F8\"}, \"line\": {\"color\": \"white\"}}, \"header\": {\"fill\": {\"color\": \"#C8D4E3\"}, \"line\": {\"color\": \"white\"}}, \"type\": \"table\"}]}, \"layout\": {\"annotationdefaults\": {\"arrowcolor\": \"#2a3f5f\", \"arrowhead\": 0, \"arrowwidth\": 1}, \"coloraxis\": {\"colorbar\": {\"outlinewidth\": 0, \"ticks\": \"\"}}, \"colorscale\": {\"diverging\": [[0, \"#8e0152\"], [0.1, \"#c51b7d\"], [0.2, \"#de77ae\"], [0.3, \"#f1b6da\"], [0.4, \"#fde0ef\"], [0.5, \"#f7f7f7\"], [0.6, \"#e6f5d0\"], [0.7, \"#b8e186\"], [0.8, \"#7fbc41\"], [0.9, \"#4d9221\"], [1, \"#276419\"]], \"sequential\": [[0.0, \"#0d0887\"], [0.1111111111111111, \"#46039f\"], [0.2222222222222222, \"#7201a8\"], [0.3333333333333333, \"#9c179e\"], [0.4444444444444444, \"#bd3786\"], [0.5555555555555556, \"#d8576b\"], [0.6666666666666666, \"#ed7953\"], [0.7777777777777778, \"#fb9f3a\"], [0.8888888888888888, \"#fdca26\"], [1.0, \"#f0f921\"]], \"sequentialminus\": [[0.0, \"#0d0887\"], [0.1111111111111111, \"#46039f\"], [0.2222222222222222, \"#7201a8\"], [0.3333333333333333, \"#9c179e\"], [0.4444444444444444, \"#bd3786\"], [0.5555555555555556, \"#d8576b\"], [0.6666666666666666, \"#ed7953\"], [0.7777777777777778, \"#fb9f3a\"], [0.8888888888888888, \"#fdca26\"], [1.0, \"#f0f921\"]]}, \"colorway\": [\"#636efa\", \"#EF553B\", \"#00cc96\", \"#ab63fa\", \"#FFA15A\", \"#19d3f3\", \"#FF6692\", \"#B6E880\", \"#FF97FF\", \"#FECB52\"], \"font\": {\"color\": \"#2a3f5f\"}, \"geo\": {\"bgcolor\": \"white\", \"lakecolor\": \"white\", \"landcolor\": \"#E5ECF6\", \"showlakes\": true, \"showland\": true, \"subunitcolor\": \"white\"}, \"hoverlabel\": {\"align\": \"left\"}, \"hovermode\": \"closest\", \"mapbox\": {\"style\": \"light\"}, \"paper_bgcolor\": \"white\", \"plot_bgcolor\": \"#E5ECF6\", \"polar\": {\"angularaxis\": {\"gridcolor\": \"white\", \"linecolor\": \"white\", \"ticks\": \"\"}, \"bgcolor\": \"#E5ECF6\", \"radialaxis\": {\"gridcolor\": \"white\", \"linecolor\": \"white\", \"ticks\": \"\"}}, \"scene\": {\"xaxis\": {\"backgroundcolor\": \"#E5ECF6\", \"gridcolor\": \"white\", \"gridwidth\": 2, \"linecolor\": \"white\", \"showbackground\": true, \"ticks\": \"\", \"zerolinecolor\": \"white\"}, \"yaxis\": {\"backgroundcolor\": \"#E5ECF6\", \"gridcolor\": \"white\", \"gridwidth\": 2, \"linecolor\": \"white\", \"showbackground\": true, \"ticks\": \"\", \"zerolinecolor\": \"white\"}, \"zaxis\": {\"backgroundcolor\": \"#E5ECF6\", \"gridcolor\": \"white\", \"gridwidth\": 2, \"linecolor\": \"white\", \"showbackground\": true, \"ticks\": \"\", \"zerolinecolor\": \"white\"}}, \"shapedefaults\": {\"line\": {\"color\": \"#2a3f5f\"}}, \"ternary\": {\"aaxis\": {\"gridcolor\": \"white\", \"linecolor\": \"white\", \"ticks\": \"\"}, \"baxis\": {\"gridcolor\": \"white\", \"linecolor\": \"white\", \"ticks\": \"\"}, \"bgcolor\": \"#E5ECF6\", \"caxis\": {\"gridcolor\": \"white\", \"linecolor\": \"white\", \"ticks\": \"\"}}, \"title\": {\"x\": 0.05}, \"xaxis\": {\"automargin\": true, \"gridcolor\": \"white\", \"linecolor\": \"white\", \"ticks\": \"\", \"title\": {\"standoff\": 15}, \"zerolinecolor\": \"white\", \"zerolinewidth\": 2}, \"yaxis\": {\"automargin\": true, \"gridcolor\": \"white\", \"linecolor\": \"white\", \"ticks\": \"\", \"title\": {\"standoff\": 15}, \"zerolinecolor\": \"white\", \"zerolinewidth\": 2}}}, \"title\": {\"text\": \"Temperature during NVT Equilibration\"}, \"xaxis\": {\"title\": {\"text\": \"Time (ps)\"}}, \"yaxis\": {\"title\": {\"text\": \"Temperature (K)\"}}},\n",
       "                        {\"responsive\": true}\n",
       "                    ).then(function(){\n",
       "                            \n",
       "var gd = document.getElementById('19d04f2a-d9aa-4cb0-953d-7966eced01cf');\n",
       "var x = new MutationObserver(function (mutations, observer) {{\n",
       "        var display = window.getComputedStyle(gd).display;\n",
       "        if (!display || display === 'none') {{\n",
       "            console.log([gd, 'removed!']);\n",
       "            Plotly.purge(gd);\n",
       "            observer.disconnect();\n",
       "        }}\n",
       "}});\n",
       "\n",
       "// Listen for the removal of the full notebook cells\n",
       "var notebookContainer = gd.closest('#notebook-container');\n",
       "if (notebookContainer) {{\n",
       "    x.observe(notebookContainer, {childList: true});\n",
       "}}\n",
       "\n",
       "// Listen for the clearing of the current output cell\n",
       "var outputEl = gd.closest('.output');\n",
       "if (outputEl) {{\n",
       "    x.observe(outputEl, {childList: true});\n",
       "}}\n",
       "\n",
       "                        })\n",
       "                };\n",
       "                });\n",
       "            </script>\n",
       "        </div>"
      ]
     },
     "metadata": {},
     "output_type": "display_data"
    }
   ],
   "source": [
    "import plotly\n",
    "import plotly.graph_objs as go\n",
    "\n",
    "# Read temperature data from file \n",
    "with open(output_nvt_temp_xvg,'r') as temperature_file:\n",
    "    x,y = map(\n",
    "        list,\n",
    "        zip(*[\n",
    "            (float(line.split()[0]),float(line.split()[1]))\n",
    "            for line in temperature_file \n",
    "            if not line.startswith((\"#\",\"@\")) \n",
    "        ])\n",
    "    )\n",
    "\n",
    "plotly.offline.init_notebook_mode(connected=True)\n",
    "\n",
    "fig = {\n",
    "    \"data\": [go.Scatter(x=x, y=y)],\n",
    "    \"layout\": go.Layout(title=\"Temperature during NVT Equilibration\",\n",
    "                        xaxis=dict(title = \"Time (ps)\"),\n",
    "                        yaxis=dict(title = \"Temperature (K)\")\n",
    "                       )\n",
    "}\n",
    "\n",
    "plotly.offline.iplot(fig)"
   ]
  },
  {
   "cell_type": "markdown",
   "metadata": {},
   "source": [
    "<a id=\"npt\"></a>\n",
    "***\n",
    "## Equilibrate the system (NPT)\n",
    "Equilibrate the **protein system** in **NPT** ensemble (constant Number of particles, Pressure and Temperature).\n",
    "- [Step 1](#eqNPTStep1): Creating portable binary run file for system equilibration\n",
    "- [Step 2](#eqNPTStep2): Equilibrate the **protein system** with **NPT** ensemble.\n",
    "- [Step 3](#eqNPTStep3): Checking **NPT Equilibration** results. Plotting **system pressure and density** by time during the **NPT equilibration** process.\n",
    "***\n",
    "**BioBB REST API** end points used:\n",
    " - [Grompp](https://mmb.irbbarcelona.org/biobb-api/rest/v1/launch/biobb_md/grompp) from **biobb_md.gromacs.grompp**\n",
    " - [Mdrun](https://mmb.irbbarcelona.org/biobb-api/rest/v1/launch/biobb_md/mdrun) from **biobb_md.gromacs.mdrun**\n",
    " - [GMXEnergy](https://mmb.irbbarcelona.org/biobb-api/rest/v1/launch/biobb_analysis/gmx_energy) from **biobb_analysis.gromacs.gmx_energy**\n",
    "***"
   ]
  },
  {
   "cell_type": "markdown",
   "metadata": {},
   "source": [
    "<a id=\"eqNPTStep1\"></a>\n",
    "### Step 1: Creating portable binary run file for system equilibration (NPT)\n",
    "\n",
    "The **npt** type of the **molecular dynamics parameters (mdp) property** contains the main default parameters to run an **NPT equilibration** with **protein restraints** (see [GROMACS mdp options](http://manual.gromacs.org/documentation/2018/user-guide/mdp-options.html)):\n",
    "\n",
    "-  Define                   = -DPOSRES\n",
    "-  integrator               = md\n",
    "-  dt                       = 0.002\n",
    "-  nsteps                   = 5000\n",
    "-  pcoupl = Parrinello-Rahman\n",
    "-  pcoupltype = isotropic\n",
    "-  tau_p = 1.0\n",
    "-  ref_p = 1.0\n",
    "-  compressibility = 4.5e-5\n",
    "-  refcoord_scaling = com\n",
    "-  gen_vel = no\n",
    "\n",
    "In this particular example, the default parameters will be used: **md** integrator algorithm, a **time step** of **2fs**, **5,000 equilibration steps** with the protein **heavy atoms restrained**, and a Parrinello-Rahman **pressure coupling** algorithm.\n",
    "\n",
    "*Please note that for the sake of time this tutorial is only running 10ps of NPT equilibration, whereas in the [original example](http://www.mdtutorials.com/gmx/lysozyme/07_equil2.html) the simulated time was 100ps.*"
   ]
  },
  {
   "cell_type": "code",
   "execution_count": 49,
   "metadata": {},
   "outputs": [
    {
     "name": "stdout",
     "output_type": "stream",
     "text": [
      "{\n",
      "  \"code\": 303,\n",
      "  \"state\": \"RUNNING\",\n",
      "  \"message\": \"The requested job has has been successfully launched, please go to /retrieve/status/{token} for checking job status.\",\n",
      "  \"token\": \"2b06993edf8e37c6e604c98ab01d72654a32b8d05ee7241df7f80c34b1eb56a341b6424fd7ffcb602bb840eaac8abb95ad9dacb87eaffeec31dc1f9f5667bcc0\"\n",
      "}\n"
     ]
    }
   ],
   "source": [
    "# Grompp: Creating portable binary run file for NPT System Equilibration\n",
    "\n",
    "# Create prop dict and inputs/outputs\n",
    "output_gppnpt_tpr = pdbCode + '_gppnpt.tpr'\n",
    "prop = {\n",
    "    'mdp':{\n",
    "        'type': 'npt',\n",
    "        'nsteps':'5000',\n",
    "        #'tc_grps': \"DNA Water_and_ions\" # NOTE: uncomment this line if working with DNA\n",
    "    }\n",
    "}\n",
    "\n",
    "# Launch bb on REST API\n",
    "token = launch_job(url = apiURL + 'launch/biobb_md/grompp', \n",
    "                   config = prop,\n",
    "                   input_gro_path = output_nvt_gro,\n",
    "                   input_top_zip_path = output_genion_top_zip,\n",
    "                   output_tpr_path = output_gppnpt_tpr)"
   ]
  },
  {
   "cell_type": "code",
   "execution_count": 50,
   "metadata": {},
   "outputs": [
    {
     "name": "stdout",
     "output_type": "stream",
     "text": [
      "Total elapsed time: 0:00:03\n",
      "REST API JSON response:\n",
      "{\n",
      "  \"code\": 200,\n",
      "  \"state\": \"FINISHED\",\n",
      "  \"message\": \"The requested job has finished successfully, please go to /retrieve/data/{id} for each output_files.\",\n",
      "  \"output_files\": [\n",
      "    {\n",
      "      \"id\": \"5ec250759e39c3.92157988\",\n",
      "      \"name\": \"1AKI_gppnpt.tpr\",\n",
      "      \"size\": 1533904,\n",
      "      \"mimetype\": \"application/octet-stream\"\n",
      "    }\n",
      "  ],\n",
      "  \"expiration\": \"May 20, 2020 00:00 GMT+0000\"\n",
      "}\n"
     ]
    }
   ],
   "source": [
    "# Check job status\n",
    "out_files = check_job(token, apiURL)"
   ]
  },
  {
   "cell_type": "code",
   "execution_count": 51,
   "metadata": {},
   "outputs": [],
   "source": [
    "# Save generated file to disk\n",
    "retrieve_data(out_files, apiURL)"
   ]
  },
  {
   "cell_type": "markdown",
   "metadata": {},
   "source": [
    "<a id=\"eqNPTStep2\"></a>\n",
    "### Step 2: Running NPT equilibration"
   ]
  },
  {
   "cell_type": "code",
   "execution_count": 52,
   "metadata": {},
   "outputs": [
    {
     "name": "stdout",
     "output_type": "stream",
     "text": [
      "{\n",
      "  \"code\": 303,\n",
      "  \"state\": \"RUNNING\",\n",
      "  \"message\": \"The requested job has has been successfully launched, please go to /retrieve/status/{token} for checking job status.\",\n",
      "  \"token\": \"9c5724eb39443514c3ab00898b934561ba602908c1d6d42f657bfcc558cee463062542bc4a01b93aa598b1896b63059b1af5e19d00186bbf5c9801d3d388a0ad\"\n",
      "}\n"
     ]
    }
   ],
   "source": [
    "# Mdrun: Running NPT System Equilibration\n",
    "\n",
    "# Create inputs/outputs\n",
    "output_npt_trr = pdbCode + '_npt.trr'\n",
    "output_npt_gro = pdbCode + '_npt.gro'\n",
    "output_npt_edr = pdbCode + '_npt.edr'\n",
    "output_npt_log = pdbCode + '_npt.log'\n",
    "output_npt_cpt = pdbCode + '_npt.cpt'\n",
    "\n",
    "# Launch bb on REST API\n",
    "token = launch_job(url = apiURL + 'launch/biobb_md/mdrun',\n",
    "                   input_tpr_path = output_gppnpt_tpr,\n",
    "                   output_trr_path = output_npt_trr,\n",
    "                   output_gro_path = output_npt_gro,\n",
    "                   output_edr_path = output_npt_edr,\n",
    "                   output_log_path = output_npt_log,\n",
    "                   output_cpt_path = output_npt_cpt)"
   ]
  },
  {
   "cell_type": "code",
   "execution_count": 53,
   "metadata": {},
   "outputs": [
    {
     "name": "stdout",
     "output_type": "stream",
     "text": [
      "Total elapsed time: 0:01:00\n",
      "REST API JSON response:\n",
      "{\n",
      "  \"code\": 200,\n",
      "  \"state\": \"FINISHED\",\n",
      "  \"message\": \"The requested job has finished successfully, please go to /retrieve/data/{id} for each output_files.\",\n",
      "  \"output_files\": [\n",
      "    {\n",
      "      \"id\": \"5ec250bb5027b6.46035306\",\n",
      "      \"name\": \"1AKI_npt.trr\",\n",
      "      \"size\": 8934024,\n",
      "      \"mimetype\": \"application/octet-stream\"\n",
      "    },\n",
      "    {\n",
      "      \"id\": \"5ec250bba21691.68026412\",\n",
      "      \"name\": \"1AKI_npt.gro\",\n",
      "      \"size\": 2334738,\n",
      "      \"mimetype\": \"application/octet-stream\"\n",
      "    },\n",
      "    {\n",
      "      \"id\": \"5ec250bbc38ad2.34036729\",\n",
      "      \"name\": \"1AKI_npt.edr\",\n",
      "      \"size\": 8364,\n",
      "      \"mimetype\": \"application/octet-stream\"\n",
      "    },\n",
      "    {\n",
      "      \"id\": \"5ec250bbc4e942.64066383\",\n",
      "      \"name\": \"1AKI_npt.log\",\n",
      "      \"size\": 28584,\n",
      "      \"mimetype\": \"text/plain\"\n",
      "    },\n",
      "    {\n",
      "      \"id\": \"5ec250bbc64b73.80218693\",\n",
      "      \"name\": \"1AKI_npt.cpt\",\n",
      "      \"size\": 814176,\n",
      "      \"mimetype\": \"application/octet-stream\"\n",
      "    }\n",
      "  ],\n",
      "  \"expiration\": \"May 20, 2020 00:00 GMT+0000\"\n",
      "}\n"
     ]
    }
   ],
   "source": [
    "# Check job status\n",
    "out_files = check_job(token, apiURL)"
   ]
  },
  {
   "cell_type": "code",
   "execution_count": 54,
   "metadata": {},
   "outputs": [],
   "source": [
    "# Save generated file to disk\n",
    "retrieve_data(out_files, apiURL)"
   ]
  },
  {
   "cell_type": "markdown",
   "metadata": {},
   "source": [
    "<a id=\"eqNPTStep3\"></a>\n",
    "### Step 3: Checking NPT Equilibration results\n",
    "Checking **NPT Equilibration** results. Plotting **system pressure and density** by time during the **NPT equilibration** process. "
   ]
  },
  {
   "cell_type": "code",
   "execution_count": 55,
   "metadata": {
    "scrolled": true
   },
   "outputs": [
    {
     "name": "stdout",
     "output_type": "stream",
     "text": [
      "{\n",
      "  \"code\": 303,\n",
      "  \"state\": \"RUNNING\",\n",
      "  \"message\": \"The requested job has has been successfully launched, please go to /retrieve/status/{token} for checking job status.\",\n",
      "  \"token\": \"9309e382ca3e1e3142aa4ff8a855a487910cddeaf9d738a05031bc026b552d42c9852f24d9f1d15499fe3adc3274ce45f754dafd10873ecb99535f3535ee8c76\"\n",
      "}\n"
     ]
    }
   ],
   "source": [
    "# GMXEnergy: Getting system pressure and density by time during NPT Equilibration \n",
    "\n",
    "# Create prop dict and inputs/outputs\n",
    "output_npt_pd_xvg = pdbCode + '_npt_PD.xvg'\n",
    "prop = {\n",
    "    'terms':  [\"Pressure\",\"Density\"]\n",
    "}\n",
    "\n",
    "# Launch bb on REST API\n",
    "token = launch_job(url = apiURL + 'launch/biobb_analysis/gmx_energy',\n",
    "                   config = prop,\n",
    "                   input_energy_path = output_npt_edr,\n",
    "                   output_xvg_path = output_npt_pd_xvg)"
   ]
  },
  {
   "cell_type": "code",
   "execution_count": 56,
   "metadata": {},
   "outputs": [
    {
     "name": "stdout",
     "output_type": "stream",
     "text": [
      "Total elapsed time: 0:00:03\n",
      "REST API JSON response:\n",
      "{\n",
      "  \"code\": 200,\n",
      "  \"state\": \"FINISHED\",\n",
      "  \"message\": \"The requested job has finished successfully, please go to /retrieve/data/{id} for each output_files.\",\n",
      "  \"output_files\": [\n",
      "    {\n",
      "      \"id\": \"5ec250ecb3e924.28816123\",\n",
      "      \"name\": \"1AKI_npt_PD.xvg\",\n",
      "      \"size\": 420,\n",
      "      \"mimetype\": \"text/plain\"\n",
      "    }\n",
      "  ],\n",
      "  \"expiration\": \"May 20, 2020 00:00 GMT+0000\"\n",
      "}\n"
     ]
    }
   ],
   "source": [
    "# Check job status\n",
    "out_files = check_job(token, apiURL)"
   ]
  },
  {
   "cell_type": "code",
   "execution_count": 57,
   "metadata": {},
   "outputs": [],
   "source": [
    "# Save generated file to disk\n",
    "retrieve_data(out_files, apiURL)"
   ]
  },
  {
   "cell_type": "code",
   "execution_count": 59,
   "metadata": {},
   "outputs": [
    {
     "data": {
      "text/html": [
       "        <script type=\"text/javascript\">\n",
       "        window.PlotlyConfig = {MathJaxConfig: 'local'};\n",
       "        if (window.MathJax) {MathJax.Hub.Config({SVG: {font: \"STIX-Web\"}});}\n",
       "        if (typeof require !== 'undefined') {\n",
       "        require.undef(\"plotly\");\n",
       "        requirejs.config({\n",
       "            paths: {\n",
       "                'plotly': ['https://cdn.plot.ly/plotly-latest.min']\n",
       "            }\n",
       "        });\n",
       "        require(['plotly'], function(Plotly) {\n",
       "            window._Plotly = Plotly;\n",
       "        });\n",
       "        }\n",
       "        </script>\n",
       "        "
      ]
     },
     "metadata": {},
     "output_type": "display_data"
    },
    {
     "data": {
      "application/vnd.plotly.v1+json": {
       "config": {
        "linkText": "Export to plot.ly",
        "plotlyServerURL": "https://plot.ly",
        "showLink": false
       },
       "data": [
        {
         "type": "scatter",
         "x": [
          0,
          1,
          2,
          3,
          4,
          5,
          6,
          7,
          8,
          9,
          10
         ],
         "xaxis": "x",
         "y": [
          -648.805298,
          275.411438,
          -96.604141,
          -55.282394,
          -5.328125,
          -134.240646,
          -1.634262,
          44.083817,
          -52.924744,
          -37.364838,
          -416.55838
         ],
         "yaxis": "y"
        },
        {
         "type": "scatter",
         "x": [
          0,
          1,
          2,
          3,
          4,
          5,
          6,
          7,
          8,
          9,
          10
         ],
         "xaxis": "x2",
         "y": [
          995.082031,
          1021.681152,
          1020.482239,
          1020.520874,
          1017.468384,
          1020.027283,
          1023.267883,
          1022.379272,
          1023.282471,
          1019.955811,
          1021.380554
         ],
         "yaxis": "y2"
        }
       ],
       "layout": {
        "showlegend": false,
        "template": {
         "data": {
          "bar": [
           {
            "error_x": {
             "color": "#2a3f5f"
            },
            "error_y": {
             "color": "#2a3f5f"
            },
            "marker": {
             "line": {
              "color": "#E5ECF6",
              "width": 0.5
             }
            },
            "type": "bar"
           }
          ],
          "barpolar": [
           {
            "marker": {
             "line": {
              "color": "#E5ECF6",
              "width": 0.5
             }
            },
            "type": "barpolar"
           }
          ],
          "carpet": [
           {
            "aaxis": {
             "endlinecolor": "#2a3f5f",
             "gridcolor": "white",
             "linecolor": "white",
             "minorgridcolor": "white",
             "startlinecolor": "#2a3f5f"
            },
            "baxis": {
             "endlinecolor": "#2a3f5f",
             "gridcolor": "white",
             "linecolor": "white",
             "minorgridcolor": "white",
             "startlinecolor": "#2a3f5f"
            },
            "type": "carpet"
           }
          ],
          "choropleth": [
           {
            "colorbar": {
             "outlinewidth": 0,
             "ticks": ""
            },
            "type": "choropleth"
           }
          ],
          "contour": [
           {
            "colorbar": {
             "outlinewidth": 0,
             "ticks": ""
            },
            "colorscale": [
             [
              0,
              "#0d0887"
             ],
             [
              0.1111111111111111,
              "#46039f"
             ],
             [
              0.2222222222222222,
              "#7201a8"
             ],
             [
              0.3333333333333333,
              "#9c179e"
             ],
             [
              0.4444444444444444,
              "#bd3786"
             ],
             [
              0.5555555555555556,
              "#d8576b"
             ],
             [
              0.6666666666666666,
              "#ed7953"
             ],
             [
              0.7777777777777778,
              "#fb9f3a"
             ],
             [
              0.8888888888888888,
              "#fdca26"
             ],
             [
              1,
              "#f0f921"
             ]
            ],
            "type": "contour"
           }
          ],
          "contourcarpet": [
           {
            "colorbar": {
             "outlinewidth": 0,
             "ticks": ""
            },
            "type": "contourcarpet"
           }
          ],
          "heatmap": [
           {
            "colorbar": {
             "outlinewidth": 0,
             "ticks": ""
            },
            "colorscale": [
             [
              0,
              "#0d0887"
             ],
             [
              0.1111111111111111,
              "#46039f"
             ],
             [
              0.2222222222222222,
              "#7201a8"
             ],
             [
              0.3333333333333333,
              "#9c179e"
             ],
             [
              0.4444444444444444,
              "#bd3786"
             ],
             [
              0.5555555555555556,
              "#d8576b"
             ],
             [
              0.6666666666666666,
              "#ed7953"
             ],
             [
              0.7777777777777778,
              "#fb9f3a"
             ],
             [
              0.8888888888888888,
              "#fdca26"
             ],
             [
              1,
              "#f0f921"
             ]
            ],
            "type": "heatmap"
           }
          ],
          "heatmapgl": [
           {
            "colorbar": {
             "outlinewidth": 0,
             "ticks": ""
            },
            "colorscale": [
             [
              0,
              "#0d0887"
             ],
             [
              0.1111111111111111,
              "#46039f"
             ],
             [
              0.2222222222222222,
              "#7201a8"
             ],
             [
              0.3333333333333333,
              "#9c179e"
             ],
             [
              0.4444444444444444,
              "#bd3786"
             ],
             [
              0.5555555555555556,
              "#d8576b"
             ],
             [
              0.6666666666666666,
              "#ed7953"
             ],
             [
              0.7777777777777778,
              "#fb9f3a"
             ],
             [
              0.8888888888888888,
              "#fdca26"
             ],
             [
              1,
              "#f0f921"
             ]
            ],
            "type": "heatmapgl"
           }
          ],
          "histogram": [
           {
            "marker": {
             "colorbar": {
              "outlinewidth": 0,
              "ticks": ""
             }
            },
            "type": "histogram"
           }
          ],
          "histogram2d": [
           {
            "colorbar": {
             "outlinewidth": 0,
             "ticks": ""
            },
            "colorscale": [
             [
              0,
              "#0d0887"
             ],
             [
              0.1111111111111111,
              "#46039f"
             ],
             [
              0.2222222222222222,
              "#7201a8"
             ],
             [
              0.3333333333333333,
              "#9c179e"
             ],
             [
              0.4444444444444444,
              "#bd3786"
             ],
             [
              0.5555555555555556,
              "#d8576b"
             ],
             [
              0.6666666666666666,
              "#ed7953"
             ],
             [
              0.7777777777777778,
              "#fb9f3a"
             ],
             [
              0.8888888888888888,
              "#fdca26"
             ],
             [
              1,
              "#f0f921"
             ]
            ],
            "type": "histogram2d"
           }
          ],
          "histogram2dcontour": [
           {
            "colorbar": {
             "outlinewidth": 0,
             "ticks": ""
            },
            "colorscale": [
             [
              0,
              "#0d0887"
             ],
             [
              0.1111111111111111,
              "#46039f"
             ],
             [
              0.2222222222222222,
              "#7201a8"
             ],
             [
              0.3333333333333333,
              "#9c179e"
             ],
             [
              0.4444444444444444,
              "#bd3786"
             ],
             [
              0.5555555555555556,
              "#d8576b"
             ],
             [
              0.6666666666666666,
              "#ed7953"
             ],
             [
              0.7777777777777778,
              "#fb9f3a"
             ],
             [
              0.8888888888888888,
              "#fdca26"
             ],
             [
              1,
              "#f0f921"
             ]
            ],
            "type": "histogram2dcontour"
           }
          ],
          "mesh3d": [
           {
            "colorbar": {
             "outlinewidth": 0,
             "ticks": ""
            },
            "type": "mesh3d"
           }
          ],
          "parcoords": [
           {
            "line": {
             "colorbar": {
              "outlinewidth": 0,
              "ticks": ""
             }
            },
            "type": "parcoords"
           }
          ],
          "pie": [
           {
            "automargin": true,
            "type": "pie"
           }
          ],
          "scatter": [
           {
            "marker": {
             "colorbar": {
              "outlinewidth": 0,
              "ticks": ""
             }
            },
            "type": "scatter"
           }
          ],
          "scatter3d": [
           {
            "line": {
             "colorbar": {
              "outlinewidth": 0,
              "ticks": ""
             }
            },
            "marker": {
             "colorbar": {
              "outlinewidth": 0,
              "ticks": ""
             }
            },
            "type": "scatter3d"
           }
          ],
          "scattercarpet": [
           {
            "marker": {
             "colorbar": {
              "outlinewidth": 0,
              "ticks": ""
             }
            },
            "type": "scattercarpet"
           }
          ],
          "scattergeo": [
           {
            "marker": {
             "colorbar": {
              "outlinewidth": 0,
              "ticks": ""
             }
            },
            "type": "scattergeo"
           }
          ],
          "scattergl": [
           {
            "marker": {
             "colorbar": {
              "outlinewidth": 0,
              "ticks": ""
             }
            },
            "type": "scattergl"
           }
          ],
          "scattermapbox": [
           {
            "marker": {
             "colorbar": {
              "outlinewidth": 0,
              "ticks": ""
             }
            },
            "type": "scattermapbox"
           }
          ],
          "scatterpolar": [
           {
            "marker": {
             "colorbar": {
              "outlinewidth": 0,
              "ticks": ""
             }
            },
            "type": "scatterpolar"
           }
          ],
          "scatterpolargl": [
           {
            "marker": {
             "colorbar": {
              "outlinewidth": 0,
              "ticks": ""
             }
            },
            "type": "scatterpolargl"
           }
          ],
          "scatterternary": [
           {
            "marker": {
             "colorbar": {
              "outlinewidth": 0,
              "ticks": ""
             }
            },
            "type": "scatterternary"
           }
          ],
          "surface": [
           {
            "colorbar": {
             "outlinewidth": 0,
             "ticks": ""
            },
            "colorscale": [
             [
              0,
              "#0d0887"
             ],
             [
              0.1111111111111111,
              "#46039f"
             ],
             [
              0.2222222222222222,
              "#7201a8"
             ],
             [
              0.3333333333333333,
              "#9c179e"
             ],
             [
              0.4444444444444444,
              "#bd3786"
             ],
             [
              0.5555555555555556,
              "#d8576b"
             ],
             [
              0.6666666666666666,
              "#ed7953"
             ],
             [
              0.7777777777777778,
              "#fb9f3a"
             ],
             [
              0.8888888888888888,
              "#fdca26"
             ],
             [
              1,
              "#f0f921"
             ]
            ],
            "type": "surface"
           }
          ],
          "table": [
           {
            "cells": {
             "fill": {
              "color": "#EBF0F8"
             },
             "line": {
              "color": "white"
             }
            },
            "header": {
             "fill": {
              "color": "#C8D4E3"
             },
             "line": {
              "color": "white"
             }
            },
            "type": "table"
           }
          ]
         },
         "layout": {
          "annotationdefaults": {
           "arrowcolor": "#2a3f5f",
           "arrowhead": 0,
           "arrowwidth": 1
          },
          "coloraxis": {
           "colorbar": {
            "outlinewidth": 0,
            "ticks": ""
           }
          },
          "colorscale": {
           "diverging": [
            [
             0,
             "#8e0152"
            ],
            [
             0.1,
             "#c51b7d"
            ],
            [
             0.2,
             "#de77ae"
            ],
            [
             0.3,
             "#f1b6da"
            ],
            [
             0.4,
             "#fde0ef"
            ],
            [
             0.5,
             "#f7f7f7"
            ],
            [
             0.6,
             "#e6f5d0"
            ],
            [
             0.7,
             "#b8e186"
            ],
            [
             0.8,
             "#7fbc41"
            ],
            [
             0.9,
             "#4d9221"
            ],
            [
             1,
             "#276419"
            ]
           ],
           "sequential": [
            [
             0,
             "#0d0887"
            ],
            [
             0.1111111111111111,
             "#46039f"
            ],
            [
             0.2222222222222222,
             "#7201a8"
            ],
            [
             0.3333333333333333,
             "#9c179e"
            ],
            [
             0.4444444444444444,
             "#bd3786"
            ],
            [
             0.5555555555555556,
             "#d8576b"
            ],
            [
             0.6666666666666666,
             "#ed7953"
            ],
            [
             0.7777777777777778,
             "#fb9f3a"
            ],
            [
             0.8888888888888888,
             "#fdca26"
            ],
            [
             1,
             "#f0f921"
            ]
           ],
           "sequentialminus": [
            [
             0,
             "#0d0887"
            ],
            [
             0.1111111111111111,
             "#46039f"
            ],
            [
             0.2222222222222222,
             "#7201a8"
            ],
            [
             0.3333333333333333,
             "#9c179e"
            ],
            [
             0.4444444444444444,
             "#bd3786"
            ],
            [
             0.5555555555555556,
             "#d8576b"
            ],
            [
             0.6666666666666666,
             "#ed7953"
            ],
            [
             0.7777777777777778,
             "#fb9f3a"
            ],
            [
             0.8888888888888888,
             "#fdca26"
            ],
            [
             1,
             "#f0f921"
            ]
           ]
          },
          "colorway": [
           "#636efa",
           "#EF553B",
           "#00cc96",
           "#ab63fa",
           "#FFA15A",
           "#19d3f3",
           "#FF6692",
           "#B6E880",
           "#FF97FF",
           "#FECB52"
          ],
          "font": {
           "color": "#2a3f5f"
          },
          "geo": {
           "bgcolor": "white",
           "lakecolor": "white",
           "landcolor": "#E5ECF6",
           "showlakes": true,
           "showland": true,
           "subunitcolor": "white"
          },
          "hoverlabel": {
           "align": "left"
          },
          "hovermode": "closest",
          "mapbox": {
           "style": "light"
          },
          "paper_bgcolor": "white",
          "plot_bgcolor": "#E5ECF6",
          "polar": {
           "angularaxis": {
            "gridcolor": "white",
            "linecolor": "white",
            "ticks": ""
           },
           "bgcolor": "#E5ECF6",
           "radialaxis": {
            "gridcolor": "white",
            "linecolor": "white",
            "ticks": ""
           }
          },
          "scene": {
           "xaxis": {
            "backgroundcolor": "#E5ECF6",
            "gridcolor": "white",
            "gridwidth": 2,
            "linecolor": "white",
            "showbackground": true,
            "ticks": "",
            "zerolinecolor": "white"
           },
           "yaxis": {
            "backgroundcolor": "#E5ECF6",
            "gridcolor": "white",
            "gridwidth": 2,
            "linecolor": "white",
            "showbackground": true,
            "ticks": "",
            "zerolinecolor": "white"
           },
           "zaxis": {
            "backgroundcolor": "#E5ECF6",
            "gridcolor": "white",
            "gridwidth": 2,
            "linecolor": "white",
            "showbackground": true,
            "ticks": "",
            "zerolinecolor": "white"
           }
          },
          "shapedefaults": {
           "line": {
            "color": "#2a3f5f"
           }
          },
          "ternary": {
           "aaxis": {
            "gridcolor": "white",
            "linecolor": "white",
            "ticks": ""
           },
           "baxis": {
            "gridcolor": "white",
            "linecolor": "white",
            "ticks": ""
           },
           "bgcolor": "#E5ECF6",
           "caxis": {
            "gridcolor": "white",
            "linecolor": "white",
            "ticks": ""
           }
          },
          "title": {
           "x": 0.05
          },
          "xaxis": {
           "automargin": true,
           "gridcolor": "white",
           "linecolor": "white",
           "ticks": "",
           "title": {
            "standoff": 15
           },
           "zerolinecolor": "white",
           "zerolinewidth": 2
          },
          "yaxis": {
           "automargin": true,
           "gridcolor": "white",
           "linecolor": "white",
           "ticks": "",
           "title": {
            "standoff": 15
           },
           "zerolinecolor": "white",
           "zerolinewidth": 2
          }
         }
        },
        "title": {
         "text": "Pressure and Density during NPT Equilibration"
        },
        "xaxis": {
         "anchor": "y",
         "domain": [
          0,
          0.45
         ],
         "title": {
          "text": "Time (ps)"
         }
        },
        "xaxis2": {
         "anchor": "y2",
         "domain": [
          0.55,
          1
         ],
         "title": {
          "text": "Time (ps)"
         }
        },
        "yaxis": {
         "anchor": "x",
         "domain": [
          0,
          1
         ],
         "title": {
          "text": "Pressure (bar)"
         }
        },
        "yaxis2": {
         "anchor": "x2",
         "domain": [
          0,
          1
         ],
         "title": {
          "text": "Density (Kg*m^-3)"
         }
        }
       }
      },
      "text/html": [
       "<div>\n",
       "        \n",
       "        \n",
       "            <div id=\"2e59b4ce-3246-4ff1-b438-3b8db82f2ae6\" class=\"plotly-graph-div\" style=\"height:525px; width:100%;\"></div>\n",
       "            <script type=\"text/javascript\">\n",
       "                require([\"plotly\"], function(Plotly) {\n",
       "                    window.PLOTLYENV=window.PLOTLYENV || {};\n",
       "                    \n",
       "                if (document.getElementById(\"2e59b4ce-3246-4ff1-b438-3b8db82f2ae6\")) {\n",
       "                    Plotly.newPlot(\n",
       "                        '2e59b4ce-3246-4ff1-b438-3b8db82f2ae6',\n",
       "                        [{\"type\": \"scatter\", \"x\": [0.0, 1.0, 2.0, 3.0, 4.0, 5.0, 6.0, 7.0, 8.0, 9.0, 10.0], \"xaxis\": \"x\", \"y\": [-648.805298, 275.411438, -96.604141, -55.282394, -5.328125, -134.240646, -1.634262, 44.083817, -52.924744, -37.364838, -416.55838], \"yaxis\": \"y\"}, {\"type\": \"scatter\", \"x\": [0.0, 1.0, 2.0, 3.0, 4.0, 5.0, 6.0, 7.0, 8.0, 9.0, 10.0], \"xaxis\": \"x2\", \"y\": [995.082031, 1021.681152, 1020.482239, 1020.520874, 1017.468384, 1020.027283, 1023.267883, 1022.379272, 1023.282471, 1019.955811, 1021.380554], \"yaxis\": \"y2\"}],\n",
       "                        {\"showlegend\": false, \"template\": {\"data\": {\"bar\": [{\"error_x\": {\"color\": \"#2a3f5f\"}, \"error_y\": {\"color\": \"#2a3f5f\"}, \"marker\": {\"line\": {\"color\": \"#E5ECF6\", \"width\": 0.5}}, \"type\": \"bar\"}], \"barpolar\": [{\"marker\": {\"line\": {\"color\": \"#E5ECF6\", \"width\": 0.5}}, \"type\": \"barpolar\"}], \"carpet\": [{\"aaxis\": {\"endlinecolor\": \"#2a3f5f\", \"gridcolor\": \"white\", \"linecolor\": \"white\", \"minorgridcolor\": \"white\", \"startlinecolor\": \"#2a3f5f\"}, \"baxis\": {\"endlinecolor\": \"#2a3f5f\", \"gridcolor\": \"white\", \"linecolor\": \"white\", \"minorgridcolor\": \"white\", \"startlinecolor\": \"#2a3f5f\"}, \"type\": \"carpet\"}], \"choropleth\": [{\"colorbar\": {\"outlinewidth\": 0, \"ticks\": \"\"}, \"type\": \"choropleth\"}], \"contour\": [{\"colorbar\": {\"outlinewidth\": 0, \"ticks\": \"\"}, \"colorscale\": [[0.0, \"#0d0887\"], [0.1111111111111111, \"#46039f\"], [0.2222222222222222, \"#7201a8\"], [0.3333333333333333, \"#9c179e\"], [0.4444444444444444, \"#bd3786\"], [0.5555555555555556, \"#d8576b\"], [0.6666666666666666, \"#ed7953\"], [0.7777777777777778, \"#fb9f3a\"], [0.8888888888888888, \"#fdca26\"], [1.0, \"#f0f921\"]], \"type\": \"contour\"}], \"contourcarpet\": [{\"colorbar\": {\"outlinewidth\": 0, \"ticks\": \"\"}, \"type\": \"contourcarpet\"}], \"heatmap\": [{\"colorbar\": {\"outlinewidth\": 0, \"ticks\": \"\"}, \"colorscale\": [[0.0, \"#0d0887\"], [0.1111111111111111, \"#46039f\"], [0.2222222222222222, \"#7201a8\"], [0.3333333333333333, \"#9c179e\"], [0.4444444444444444, \"#bd3786\"], [0.5555555555555556, \"#d8576b\"], [0.6666666666666666, \"#ed7953\"], [0.7777777777777778, \"#fb9f3a\"], [0.8888888888888888, \"#fdca26\"], [1.0, \"#f0f921\"]], \"type\": \"heatmap\"}], \"heatmapgl\": [{\"colorbar\": {\"outlinewidth\": 0, \"ticks\": \"\"}, \"colorscale\": [[0.0, \"#0d0887\"], [0.1111111111111111, \"#46039f\"], [0.2222222222222222, \"#7201a8\"], [0.3333333333333333, \"#9c179e\"], [0.4444444444444444, \"#bd3786\"], [0.5555555555555556, \"#d8576b\"], [0.6666666666666666, \"#ed7953\"], [0.7777777777777778, \"#fb9f3a\"], [0.8888888888888888, \"#fdca26\"], [1.0, \"#f0f921\"]], \"type\": \"heatmapgl\"}], \"histogram\": [{\"marker\": {\"colorbar\": {\"outlinewidth\": 0, \"ticks\": \"\"}}, \"type\": \"histogram\"}], \"histogram2d\": [{\"colorbar\": {\"outlinewidth\": 0, \"ticks\": \"\"}, \"colorscale\": [[0.0, \"#0d0887\"], [0.1111111111111111, \"#46039f\"], [0.2222222222222222, \"#7201a8\"], [0.3333333333333333, \"#9c179e\"], [0.4444444444444444, \"#bd3786\"], [0.5555555555555556, \"#d8576b\"], [0.6666666666666666, \"#ed7953\"], [0.7777777777777778, \"#fb9f3a\"], [0.8888888888888888, \"#fdca26\"], [1.0, \"#f0f921\"]], \"type\": \"histogram2d\"}], \"histogram2dcontour\": [{\"colorbar\": {\"outlinewidth\": 0, \"ticks\": \"\"}, \"colorscale\": [[0.0, \"#0d0887\"], [0.1111111111111111, \"#46039f\"], [0.2222222222222222, \"#7201a8\"], [0.3333333333333333, \"#9c179e\"], [0.4444444444444444, \"#bd3786\"], [0.5555555555555556, \"#d8576b\"], [0.6666666666666666, \"#ed7953\"], [0.7777777777777778, \"#fb9f3a\"], [0.8888888888888888, \"#fdca26\"], [1.0, \"#f0f921\"]], \"type\": \"histogram2dcontour\"}], \"mesh3d\": [{\"colorbar\": {\"outlinewidth\": 0, \"ticks\": \"\"}, \"type\": \"mesh3d\"}], \"parcoords\": [{\"line\": {\"colorbar\": {\"outlinewidth\": 0, \"ticks\": \"\"}}, \"type\": \"parcoords\"}], \"pie\": [{\"automargin\": true, \"type\": \"pie\"}], \"scatter\": [{\"marker\": {\"colorbar\": {\"outlinewidth\": 0, \"ticks\": \"\"}}, \"type\": \"scatter\"}], \"scatter3d\": [{\"line\": {\"colorbar\": {\"outlinewidth\": 0, \"ticks\": \"\"}}, \"marker\": {\"colorbar\": {\"outlinewidth\": 0, \"ticks\": \"\"}}, \"type\": \"scatter3d\"}], \"scattercarpet\": [{\"marker\": {\"colorbar\": {\"outlinewidth\": 0, \"ticks\": \"\"}}, \"type\": \"scattercarpet\"}], \"scattergeo\": [{\"marker\": {\"colorbar\": {\"outlinewidth\": 0, \"ticks\": \"\"}}, \"type\": \"scattergeo\"}], \"scattergl\": [{\"marker\": {\"colorbar\": {\"outlinewidth\": 0, \"ticks\": \"\"}}, \"type\": \"scattergl\"}], \"scattermapbox\": [{\"marker\": {\"colorbar\": {\"outlinewidth\": 0, \"ticks\": \"\"}}, \"type\": \"scattermapbox\"}], \"scatterpolar\": [{\"marker\": {\"colorbar\": {\"outlinewidth\": 0, \"ticks\": \"\"}}, \"type\": \"scatterpolar\"}], \"scatterpolargl\": [{\"marker\": {\"colorbar\": {\"outlinewidth\": 0, \"ticks\": \"\"}}, \"type\": \"scatterpolargl\"}], \"scatterternary\": [{\"marker\": {\"colorbar\": {\"outlinewidth\": 0, \"ticks\": \"\"}}, \"type\": \"scatterternary\"}], \"surface\": [{\"colorbar\": {\"outlinewidth\": 0, \"ticks\": \"\"}, \"colorscale\": [[0.0, \"#0d0887\"], [0.1111111111111111, \"#46039f\"], [0.2222222222222222, \"#7201a8\"], [0.3333333333333333, \"#9c179e\"], [0.4444444444444444, \"#bd3786\"], [0.5555555555555556, \"#d8576b\"], [0.6666666666666666, \"#ed7953\"], [0.7777777777777778, \"#fb9f3a\"], [0.8888888888888888, \"#fdca26\"], [1.0, \"#f0f921\"]], \"type\": \"surface\"}], \"table\": [{\"cells\": {\"fill\": {\"color\": \"#EBF0F8\"}, \"line\": {\"color\": \"white\"}}, \"header\": {\"fill\": {\"color\": \"#C8D4E3\"}, \"line\": {\"color\": \"white\"}}, \"type\": \"table\"}]}, \"layout\": {\"annotationdefaults\": {\"arrowcolor\": \"#2a3f5f\", \"arrowhead\": 0, \"arrowwidth\": 1}, \"coloraxis\": {\"colorbar\": {\"outlinewidth\": 0, \"ticks\": \"\"}}, \"colorscale\": {\"diverging\": [[0, \"#8e0152\"], [0.1, \"#c51b7d\"], [0.2, \"#de77ae\"], [0.3, \"#f1b6da\"], [0.4, \"#fde0ef\"], [0.5, \"#f7f7f7\"], [0.6, \"#e6f5d0\"], [0.7, \"#b8e186\"], [0.8, \"#7fbc41\"], [0.9, \"#4d9221\"], [1, \"#276419\"]], \"sequential\": [[0.0, \"#0d0887\"], [0.1111111111111111, \"#46039f\"], [0.2222222222222222, \"#7201a8\"], [0.3333333333333333, \"#9c179e\"], [0.4444444444444444, \"#bd3786\"], [0.5555555555555556, \"#d8576b\"], [0.6666666666666666, \"#ed7953\"], [0.7777777777777778, \"#fb9f3a\"], [0.8888888888888888, \"#fdca26\"], [1.0, \"#f0f921\"]], \"sequentialminus\": [[0.0, \"#0d0887\"], [0.1111111111111111, \"#46039f\"], [0.2222222222222222, \"#7201a8\"], [0.3333333333333333, \"#9c179e\"], [0.4444444444444444, \"#bd3786\"], [0.5555555555555556, \"#d8576b\"], [0.6666666666666666, \"#ed7953\"], [0.7777777777777778, \"#fb9f3a\"], [0.8888888888888888, \"#fdca26\"], [1.0, \"#f0f921\"]]}, \"colorway\": [\"#636efa\", \"#EF553B\", \"#00cc96\", \"#ab63fa\", \"#FFA15A\", \"#19d3f3\", \"#FF6692\", \"#B6E880\", \"#FF97FF\", \"#FECB52\"], \"font\": {\"color\": \"#2a3f5f\"}, \"geo\": {\"bgcolor\": \"white\", \"lakecolor\": \"white\", \"landcolor\": \"#E5ECF6\", \"showlakes\": true, \"showland\": true, \"subunitcolor\": \"white\"}, \"hoverlabel\": {\"align\": \"left\"}, \"hovermode\": \"closest\", \"mapbox\": {\"style\": \"light\"}, \"paper_bgcolor\": \"white\", \"plot_bgcolor\": \"#E5ECF6\", \"polar\": {\"angularaxis\": {\"gridcolor\": \"white\", \"linecolor\": \"white\", \"ticks\": \"\"}, \"bgcolor\": \"#E5ECF6\", \"radialaxis\": {\"gridcolor\": \"white\", \"linecolor\": \"white\", \"ticks\": \"\"}}, \"scene\": {\"xaxis\": {\"backgroundcolor\": \"#E5ECF6\", \"gridcolor\": \"white\", \"gridwidth\": 2, \"linecolor\": \"white\", \"showbackground\": true, \"ticks\": \"\", \"zerolinecolor\": \"white\"}, \"yaxis\": {\"backgroundcolor\": \"#E5ECF6\", \"gridcolor\": \"white\", \"gridwidth\": 2, \"linecolor\": \"white\", \"showbackground\": true, \"ticks\": \"\", \"zerolinecolor\": \"white\"}, \"zaxis\": {\"backgroundcolor\": \"#E5ECF6\", \"gridcolor\": \"white\", \"gridwidth\": 2, \"linecolor\": \"white\", \"showbackground\": true, \"ticks\": \"\", \"zerolinecolor\": \"white\"}}, \"shapedefaults\": {\"line\": {\"color\": \"#2a3f5f\"}}, \"ternary\": {\"aaxis\": {\"gridcolor\": \"white\", \"linecolor\": \"white\", \"ticks\": \"\"}, \"baxis\": {\"gridcolor\": \"white\", \"linecolor\": \"white\", \"ticks\": \"\"}, \"bgcolor\": \"#E5ECF6\", \"caxis\": {\"gridcolor\": \"white\", \"linecolor\": \"white\", \"ticks\": \"\"}}, \"title\": {\"x\": 0.05}, \"xaxis\": {\"automargin\": true, \"gridcolor\": \"white\", \"linecolor\": \"white\", \"ticks\": \"\", \"title\": {\"standoff\": 15}, \"zerolinecolor\": \"white\", \"zerolinewidth\": 2}, \"yaxis\": {\"automargin\": true, \"gridcolor\": \"white\", \"linecolor\": \"white\", \"ticks\": \"\", \"title\": {\"standoff\": 15}, \"zerolinecolor\": \"white\", \"zerolinewidth\": 2}}}, \"title\": {\"text\": \"Pressure and Density during NPT Equilibration\"}, \"xaxis\": {\"anchor\": \"y\", \"domain\": [0.0, 0.45], \"title\": {\"text\": \"Time (ps)\"}}, \"xaxis2\": {\"anchor\": \"y2\", \"domain\": [0.55, 1.0], \"title\": {\"text\": \"Time (ps)\"}}, \"yaxis\": {\"anchor\": \"x\", \"domain\": [0.0, 1.0], \"title\": {\"text\": \"Pressure (bar)\"}}, \"yaxis2\": {\"anchor\": \"x2\", \"domain\": [0.0, 1.0], \"title\": {\"text\": \"Density (Kg*m^-3)\"}}},\n",
       "                        {\"responsive\": true}\n",
       "                    ).then(function(){\n",
       "                            \n",
       "var gd = document.getElementById('2e59b4ce-3246-4ff1-b438-3b8db82f2ae6');\n",
       "var x = new MutationObserver(function (mutations, observer) {{\n",
       "        var display = window.getComputedStyle(gd).display;\n",
       "        if (!display || display === 'none') {{\n",
       "            console.log([gd, 'removed!']);\n",
       "            Plotly.purge(gd);\n",
       "            observer.disconnect();\n",
       "        }}\n",
       "}});\n",
       "\n",
       "// Listen for the removal of the full notebook cells\n",
       "var notebookContainer = gd.closest('#notebook-container');\n",
       "if (notebookContainer) {{\n",
       "    x.observe(notebookContainer, {childList: true});\n",
       "}}\n",
       "\n",
       "// Listen for the clearing of the current output cell\n",
       "var outputEl = gd.closest('.output');\n",
       "if (outputEl) {{\n",
       "    x.observe(outputEl, {childList: true});\n",
       "}}\n",
       "\n",
       "                        })\n",
       "                };\n",
       "                });\n",
       "            </script>\n",
       "        </div>"
      ]
     },
     "metadata": {},
     "output_type": "display_data"
    }
   ],
   "source": [
    "import plotly\n",
    "from plotly import subplots\n",
    "import plotly.graph_objs as go\n",
    "\n",
    "# Read pressure and density data from file \n",
    "with open(output_npt_pd_xvg,'r') as pd_file:\n",
    "    x,y,z = map(\n",
    "        list,\n",
    "        zip(*[\n",
    "            (float(line.split()[0]),float(line.split()[1]),float(line.split()[2]))\n",
    "            for line in pd_file \n",
    "            if not line.startswith((\"#\",\"@\")) \n",
    "        ])\n",
    "    )\n",
    "\n",
    "plotly.offline.init_notebook_mode(connected=True)\n",
    "\n",
    "trace1 = go.Scatter(\n",
    "    x=x,y=y\n",
    ")\n",
    "trace2 = go.Scatter(\n",
    "    x=x,y=z\n",
    ")\n",
    "\n",
    "fig = subplots.make_subplots(rows=1, cols=2, print_grid=False)\n",
    "\n",
    "fig.append_trace(trace1, 1, 1)\n",
    "fig.append_trace(trace2, 1, 2)\n",
    "\n",
    "fig['layout']['xaxis1'].update(title='Time (ps)')\n",
    "fig['layout']['xaxis2'].update(title='Time (ps)')\n",
    "fig['layout']['yaxis1'].update(title='Pressure (bar)')\n",
    "fig['layout']['yaxis2'].update(title='Density (Kg*m^-3)')\n",
    "\n",
    "fig['layout'].update(title='Pressure and Density during NPT Equilibration')\n",
    "fig['layout'].update(showlegend=False)\n",
    "\n",
    "plotly.offline.iplot(fig)"
   ]
  },
  {
   "cell_type": "markdown",
   "metadata": {},
   "source": [
    "<a id=\"free\"></a>\n",
    "***\n",
    "## Free Molecular Dynamics Simulation\n",
    "Upon completion of the **two equilibration phases (NVT and NPT)**, the system is now well-equilibrated at the desired temperature and pressure. The **position restraints** can now be released. The last step of the **protein** MD setup is a short, **free MD simulation**, to ensure the robustness of the system. \n",
    "- [Step 1](#mdStep1): Creating portable binary run file to run a **free MD simulation**.\n",
    "- [Step 2](#mdStep2): Run short MD simulation of the **protein system**.\n",
    "- [Step 3](#mdStep3): Checking results for the final step of the setup process, the **free MD run**. Plotting **Root Mean Square deviation (RMSd)** and **Radius of Gyration (Rgyr)** by time during the **free MD run** step. \n",
    "***\n",
    "**BioBB REST API** end points used:\n",
    " - [Grompp](https://mmb.irbbarcelona.org/biobb-api/rest/v1/launch/biobb_md/grompp) from **biobb_md.gromacs.grompp**\n",
    " - [Mdrun](https://mmb.irbbarcelona.org/biobb-api/rest/v1/launch/biobb_md/mdrun) from **biobb_md.gromacs.mdrun**\n",
    " - [GMXRms](https://mmb.irbbarcelona.org/biobb-api/rest/v1/launch/biobb_analysis/gmx_rms) from **biobb_analysis.gromacs.gmx_rms**\n",
    " - [GMXRgyr](https://mmb.irbbarcelona.org/biobb-api/rest/v1/launch/biobb_analysis/gmx_rgyr) from **biobb_analysis.gromacs.gmx_rgyr**\n",
    "***"
   ]
  },
  {
   "cell_type": "markdown",
   "metadata": {},
   "source": [
    "<a id=\"mdStep1\"></a>\n",
    "### Step 1: Creating portable binary run file to run a free MD simulation\n",
    "\n",
    "The **free** type of the **molecular dynamics parameters (mdp) property** contains the main default parameters to run an **free MD simulation** (see [GROMACS mdp options](http://manual.gromacs.org/documentation/2018/user-guide/mdp-options.html)):\n",
    "\n",
    "-  integrator               = md\n",
    "-  dt                       = 0.002 (ps)\n",
    "-  nsteps                   = 50000\n",
    "\n",
    "In this particular example, the default parameters will be used: **md** integrator algorithm, a **time step** of **2fs**, and a total of **50,000 md steps** (100ps).\n",
    "\n",
    "*Please note that for the sake of time this tutorial is only running 100ps of free MD, whereas in the [original example](http://www.mdtutorials.com/gmx/lysozyme/08_MD.html) the simulated time was 1ns (1000ps).*"
   ]
  },
  {
   "cell_type": "code",
   "execution_count": 60,
   "metadata": {},
   "outputs": [
    {
     "name": "stdout",
     "output_type": "stream",
     "text": [
      "{\n",
      "  \"code\": 303,\n",
      "  \"state\": \"RUNNING\",\n",
      "  \"message\": \"The requested job has has been successfully launched, please go to /retrieve/status/{token} for checking job status.\",\n",
      "  \"token\": \"14a4d323a635fe233aea43977c00cddb51c895485a8189544b2086c462cbe34a84f9fa7e5f4234999bd535948d77beda9e40b8517904cb2527087749e119917c\"\n",
      "}\n"
     ]
    }
   ],
   "source": [
    "# Grompp: Creating portable binary run file for mdrun\n",
    "\n",
    "# Create prop dict and inputs/outputs\n",
    "output_gppmd_tpr = pdbCode + '_gppmd.tpr'\n",
    "prop = {\n",
    "    'mdp':{\n",
    "        'type': 'free',\n",
    "        'nsteps':'50000',\n",
    "        #'tc_grps': \"DNA Water_and_ions\" # NOTE: uncomment this line if working with DNA\n",
    "    }\n",
    "}\n",
    "\n",
    "# Launch bb on REST API\n",
    "token = launch_job(url = apiURL + 'launch/biobb_md/grompp',\n",
    "                   config = prop,\n",
    "                   input_gro_path = output_npt_gro,\n",
    "                   input_top_zip_path = output_genion_top_zip,\n",
    "                   output_tpr_path = output_gppmd_tpr)"
   ]
  },
  {
   "cell_type": "code",
   "execution_count": 61,
   "metadata": {},
   "outputs": [
    {
     "name": "stdout",
     "output_type": "stream",
     "text": [
      "Total elapsed time: 0:00:01\n",
      "REST API JSON response:\n",
      "{\n",
      "  \"code\": 200,\n",
      "  \"state\": \"FINISHED\",\n",
      "  \"message\": \"The requested job has finished successfully, please go to /retrieve/data/{id} for each output_files.\",\n",
      "  \"output_files\": [\n",
      "    {\n",
      "      \"id\": \"5ec2511a7871d7.42131369\",\n",
      "      \"name\": \"1AKI_gppmd.tpr\",\n",
      "      \"size\": 1426804,\n",
      "      \"mimetype\": \"application/octet-stream\"\n",
      "    }\n",
      "  ],\n",
      "  \"expiration\": \"May 20, 2020 00:00 GMT+0000\"\n",
      "}\n"
     ]
    }
   ],
   "source": [
    "# Check job status\n",
    "out_files = check_job(token, apiURL)"
   ]
  },
  {
   "cell_type": "code",
   "execution_count": 62,
   "metadata": {},
   "outputs": [],
   "source": [
    "# Save generated file to disk\n",
    "retrieve_data(out_files, apiURL)"
   ]
  },
  {
   "cell_type": "markdown",
   "metadata": {},
   "source": [
    "<a id=\"mdStep2\"></a>\n",
    "### Step 2: Running short free MD simulation"
   ]
  },
  {
   "cell_type": "code",
   "execution_count": 63,
   "metadata": {},
   "outputs": [
    {
     "name": "stdout",
     "output_type": "stream",
     "text": [
      "{\n",
      "  \"code\": 303,\n",
      "  \"state\": \"RUNNING\",\n",
      "  \"message\": \"The requested job has has been successfully launched, please go to /retrieve/status/{token} for checking job status.\",\n",
      "  \"token\": \"2c78087a1f908d420427d0588c727fcb44943e2f70567cb104beef7b79899e2f6f427ad6910bc02537f6c576a6494e7480060a0146105f5ad36e352bbfdbb175\"\n",
      "}\n"
     ]
    }
   ],
   "source": [
    "# Mdrun: Running free dynamics\n",
    "\n",
    "# Create inputs/outputs\n",
    "output_md_trr = pdbCode + '_md.trr'\n",
    "output_md_gro = pdbCode + '_md.gro'\n",
    "output_md_edr = pdbCode + '_md.edr'\n",
    "output_md_log = pdbCode + '_md.log'\n",
    "output_md_cpt = pdbCode + '_md.cpt'\n",
    "\n",
    "# Launch bb on REST API\n",
    "token = launch_job(url = apiURL + 'launch/biobb_md/mdrun',\n",
    "                   input_tpr_path = output_gppmd_tpr,\n",
    "                   output_trr_path = output_md_trr,\n",
    "                   output_gro_path = output_md_gro,\n",
    "                   output_edr_path = output_md_edr,\n",
    "                   output_log_path = output_md_log,\n",
    "                   output_cpt_path = output_md_cpt)"
   ]
  },
  {
   "cell_type": "code",
   "execution_count": 64,
   "metadata": {},
   "outputs": [
    {
     "name": "stdout",
     "output_type": "stream",
     "text": [
      "Total elapsed time: 0:09:00\n",
      "REST API JSON response:\n",
      "{\n",
      "  \"code\": 200,\n",
      "  \"state\": \"FINISHED\",\n",
      "  \"message\": \"The requested job has finished successfully, please go to /retrieve/data/{id} for each output_files.\",\n",
      "  \"output_files\": [\n",
      "    {\n",
      "      \"id\": \"5ec2532db8d800.40685842\",\n",
      "      \"name\": \"1AKI_md.trr\",\n",
      "      \"size\": 8934024,\n",
      "      \"mimetype\": \"application/octet-stream\"\n",
      "    },\n",
      "    {\n",
      "      \"id\": \"5ec2532e1ea1d9.78681264\",\n",
      "      \"name\": \"1AKI_md.gro\",\n",
      "      \"size\": 2334738,\n",
      "      \"mimetype\": \"application/octet-stream\"\n",
      "    },\n",
      "    {\n",
      "      \"id\": \"5ec2532e3cd365.11863791\",\n",
      "      \"name\": \"1AKI_md.edr\",\n",
      "      \"size\": 8208,\n",
      "      \"mimetype\": \"application/octet-stream\"\n",
      "    },\n",
      "    {\n",
      "      \"id\": \"5ec2532e3e54e9.70775617\",\n",
      "      \"name\": \"1AKI_md.log\",\n",
      "      \"size\": 28151,\n",
      "      \"mimetype\": \"text/plain\"\n",
      "    },\n",
      "    {\n",
      "      \"id\": \"5ec2532e3fc326.00256327\",\n",
      "      \"name\": \"1AKI_md.cpt\",\n",
      "      \"size\": 814152,\n",
      "      \"mimetype\": \"application/octet-stream\"\n",
      "    }\n",
      "  ],\n",
      "  \"expiration\": \"May 20, 2020 00:00 GMT+0000\"\n",
      "}\n"
     ]
    }
   ],
   "source": [
    "# Check job status\n",
    "out_files = check_job(token, apiURL)"
   ]
  },
  {
   "cell_type": "code",
   "execution_count": 65,
   "metadata": {},
   "outputs": [],
   "source": [
    "# Save generated file to disk\n",
    "retrieve_data(out_files, apiURL)"
   ]
  },
  {
   "cell_type": "markdown",
   "metadata": {},
   "source": [
    "<a id=\"mdStep3\"></a>\n",
    "### Step 3: Checking free MD simulation results\n",
    "Checking results for the final step of the setup process, the **free MD run**. Plotting **Root Mean Square deviation (RMSd)** and **Radius of Gyration (Rgyr)** by time during the **free MD run** step. **RMSd** against the **experimental structure** (input structure of the pipeline) and against the **minimized and equilibrated structure** (output structure of the NPT equilibration step)."
   ]
  },
  {
   "cell_type": "code",
   "execution_count": 66,
   "metadata": {
    "scrolled": true
   },
   "outputs": [
    {
     "name": "stdout",
     "output_type": "stream",
     "text": [
      "{\n",
      "  \"code\": 303,\n",
      "  \"state\": \"RUNNING\",\n",
      "  \"message\": \"The requested job has has been successfully launched, please go to /retrieve/status/{token} for checking job status.\",\n",
      "  \"token\": \"c4ce832243fa6ed7551897d15f9a4157c822771ea159743daad24cce225b15cadbb17379650e9b7c3373918f180cb63cfb84908fee16ef5a33c4772aeccfd5d3\"\n",
      "}\n"
     ]
    }
   ],
   "source": [
    "# GMXRms: Computing Root Mean Square deviation to analyse structural stability \n",
    "#         RMSd against minimized and equilibrated snapshot (backbone atoms)  \n",
    "\n",
    "# Create prop dict and inputs/outputs\n",
    "output_rms_first = pdbCode + '_rms_first.xvg'\n",
    "prop = {\n",
    "    'selection':  'Backbone',\n",
    "    #'selection': 'non-Water'\n",
    "}\n",
    "\n",
    "# Launch bb on REST API\n",
    "token = launch_job(url = apiURL + 'launch/biobb_analysis/gmx_rms', \n",
    "                   config = prop,\n",
    "                   input_structure_path = output_gppmd_tpr,\n",
    "                   input_traj_path = output_md_trr,\n",
    "                   output_xvg_path = output_rms_first)"
   ]
  },
  {
   "cell_type": "code",
   "execution_count": 67,
   "metadata": {},
   "outputs": [
    {
     "name": "stdout",
     "output_type": "stream",
     "text": [
      "Total elapsed time: 0:00:04\n",
      "REST API JSON response:\n",
      "{\n",
      "  \"code\": 200,\n",
      "  \"state\": \"FINISHED\",\n",
      "  \"message\": \"The requested job has finished successfully, please go to /retrieve/data/{id} for each output_files.\",\n",
      "  \"output_files\": [\n",
      "    {\n",
      "      \"id\": \"5ec253f932ab23.05083090\",\n",
      "      \"name\": \"1AKI_rms_first.xvg\",\n",
      "      \"size\": 286,\n",
      "      \"mimetype\": \"text/plain\"\n",
      "    }\n",
      "  ],\n",
      "  \"expiration\": \"May 20, 2020 00:00 GMT+0000\"\n",
      "}\n"
     ]
    }
   ],
   "source": [
    "# Check job status\n",
    "out_files = check_job(token, apiURL)"
   ]
  },
  {
   "cell_type": "code",
   "execution_count": 68,
   "metadata": {},
   "outputs": [],
   "source": [
    "# Save generated file to disk\n",
    "retrieve_data(out_files, apiURL)"
   ]
  },
  {
   "cell_type": "code",
   "execution_count": 69,
   "metadata": {
    "scrolled": true
   },
   "outputs": [
    {
     "name": "stdout",
     "output_type": "stream",
     "text": [
      "{\n",
      "  \"code\": 303,\n",
      "  \"state\": \"RUNNING\",\n",
      "  \"message\": \"The requested job has has been successfully launched, please go to /retrieve/status/{token} for checking job status.\",\n",
      "  \"token\": \"0d35070f491441342f6043a1b300961304664a71448588cf552b81d12270ce2c4c382c32f1f3c75b26ac15f36d237115f829fd59b989cb1175e59fa2d33807f8\"\n",
      "}\n"
     ]
    }
   ],
   "source": [
    "# GMXRms: Computing Root Mean Square deviation to analyse structural stability \n",
    "#         RMSd against experimental structure (backbone atoms)  \n",
    "\n",
    "# Create prop dict and inputs/outputs\n",
    "output_rms_exp = pdbCode + '_rms_exp.xvg'\n",
    "prop = {\n",
    "    'selection':  'Backbone',\n",
    "    #'selection': 'non-Water'\n",
    "}\n",
    "\n",
    "# Launch bb on REST API\n",
    "token = launch_job(url = apiURL + 'launch/biobb_analysis/gmx_rms',\n",
    "                   config = prop,\n",
    "                   input_structure_path = output_gppmin_tpr,\n",
    "                   input_traj_path = output_md_trr,\n",
    "                   output_xvg_path = output_rms_exp)"
   ]
  },
  {
   "cell_type": "code",
   "execution_count": 70,
   "metadata": {},
   "outputs": [
    {
     "name": "stdout",
     "output_type": "stream",
     "text": [
      "Total elapsed time: 0:00:05\n",
      "REST API JSON response:\n",
      "{\n",
      "  \"code\": 200,\n",
      "  \"state\": \"FINISHED\",\n",
      "  \"message\": \"The requested job has finished successfully, please go to /retrieve/data/{id} for each output_files.\",\n",
      "  \"output_files\": [\n",
      "    {\n",
      "      \"id\": \"5ec25407ee4bc3.27703052\",\n",
      "      \"name\": \"1AKI_rms_exp.xvg\",\n",
      "      \"size\": 286,\n",
      "      \"mimetype\": \"text/plain\"\n",
      "    }\n",
      "  ],\n",
      "  \"expiration\": \"May 20, 2020 00:00 GMT+0000\"\n",
      "}\n"
     ]
    }
   ],
   "source": [
    "# Check job status\n",
    "out_files = check_job(token, apiURL)"
   ]
  },
  {
   "cell_type": "code",
   "execution_count": 71,
   "metadata": {},
   "outputs": [],
   "source": [
    "# Save generated file to disk\n",
    "retrieve_data(out_files, apiURL)"
   ]
  },
  {
   "cell_type": "code",
   "execution_count": 72,
   "metadata": {},
   "outputs": [
    {
     "data": {
      "text/html": [
       "        <script type=\"text/javascript\">\n",
       "        window.PlotlyConfig = {MathJaxConfig: 'local'};\n",
       "        if (window.MathJax) {MathJax.Hub.Config({SVG: {font: \"STIX-Web\"}});}\n",
       "        if (typeof require !== 'undefined') {\n",
       "        require.undef(\"plotly\");\n",
       "        requirejs.config({\n",
       "            paths: {\n",
       "                'plotly': ['https://cdn.plot.ly/plotly-latest.min']\n",
       "            }\n",
       "        });\n",
       "        require(['plotly'], function(Plotly) {\n",
       "            window._Plotly = Plotly;\n",
       "        });\n",
       "        }\n",
       "        </script>\n",
       "        "
      ]
     },
     "metadata": {},
     "output_type": "display_data"
    },
    {
     "data": {
      "application/vnd.plotly.v1+json": {
       "config": {
        "linkText": "Export to plot.ly",
        "plotlyServerURL": "https://plot.ly",
        "showLink": false
       },
       "data": [
        {
         "name": "RMSd vs first",
         "type": "scatter",
         "x": [
          0,
          10,
          20,
          30,
          40,
          50,
          60,
          70,
          80,
          90,
          100
         ],
         "y": [
          0,
          0.059215,
          0.0743335,
          0.0847423,
          0.0759021,
          0.0696137,
          0.0777717,
          0.0773437,
          0.0689246,
          0.0773713,
          0.0765892
         ]
        },
        {
         "name": "RMSd vs exp",
         "type": "scatter",
         "x": [
          0,
          10,
          20,
          30,
          40,
          50,
          60,
          70,
          80,
          90,
          100
         ],
         "y": [
          0.0328381,
          0.065619,
          0.0791885,
          0.0898143,
          0.0828592,
          0.0740967,
          0.0805486,
          0.0784207,
          0.0725693,
          0.0808129,
          0.0776989
         ]
        }
       ],
       "layout": {
        "template": {
         "data": {
          "bar": [
           {
            "error_x": {
             "color": "#2a3f5f"
            },
            "error_y": {
             "color": "#2a3f5f"
            },
            "marker": {
             "line": {
              "color": "#E5ECF6",
              "width": 0.5
             }
            },
            "type": "bar"
           }
          ],
          "barpolar": [
           {
            "marker": {
             "line": {
              "color": "#E5ECF6",
              "width": 0.5
             }
            },
            "type": "barpolar"
           }
          ],
          "carpet": [
           {
            "aaxis": {
             "endlinecolor": "#2a3f5f",
             "gridcolor": "white",
             "linecolor": "white",
             "minorgridcolor": "white",
             "startlinecolor": "#2a3f5f"
            },
            "baxis": {
             "endlinecolor": "#2a3f5f",
             "gridcolor": "white",
             "linecolor": "white",
             "minorgridcolor": "white",
             "startlinecolor": "#2a3f5f"
            },
            "type": "carpet"
           }
          ],
          "choropleth": [
           {
            "colorbar": {
             "outlinewidth": 0,
             "ticks": ""
            },
            "type": "choropleth"
           }
          ],
          "contour": [
           {
            "colorbar": {
             "outlinewidth": 0,
             "ticks": ""
            },
            "colorscale": [
             [
              0,
              "#0d0887"
             ],
             [
              0.1111111111111111,
              "#46039f"
             ],
             [
              0.2222222222222222,
              "#7201a8"
             ],
             [
              0.3333333333333333,
              "#9c179e"
             ],
             [
              0.4444444444444444,
              "#bd3786"
             ],
             [
              0.5555555555555556,
              "#d8576b"
             ],
             [
              0.6666666666666666,
              "#ed7953"
             ],
             [
              0.7777777777777778,
              "#fb9f3a"
             ],
             [
              0.8888888888888888,
              "#fdca26"
             ],
             [
              1,
              "#f0f921"
             ]
            ],
            "type": "contour"
           }
          ],
          "contourcarpet": [
           {
            "colorbar": {
             "outlinewidth": 0,
             "ticks": ""
            },
            "type": "contourcarpet"
           }
          ],
          "heatmap": [
           {
            "colorbar": {
             "outlinewidth": 0,
             "ticks": ""
            },
            "colorscale": [
             [
              0,
              "#0d0887"
             ],
             [
              0.1111111111111111,
              "#46039f"
             ],
             [
              0.2222222222222222,
              "#7201a8"
             ],
             [
              0.3333333333333333,
              "#9c179e"
             ],
             [
              0.4444444444444444,
              "#bd3786"
             ],
             [
              0.5555555555555556,
              "#d8576b"
             ],
             [
              0.6666666666666666,
              "#ed7953"
             ],
             [
              0.7777777777777778,
              "#fb9f3a"
             ],
             [
              0.8888888888888888,
              "#fdca26"
             ],
             [
              1,
              "#f0f921"
             ]
            ],
            "type": "heatmap"
           }
          ],
          "heatmapgl": [
           {
            "colorbar": {
             "outlinewidth": 0,
             "ticks": ""
            },
            "colorscale": [
             [
              0,
              "#0d0887"
             ],
             [
              0.1111111111111111,
              "#46039f"
             ],
             [
              0.2222222222222222,
              "#7201a8"
             ],
             [
              0.3333333333333333,
              "#9c179e"
             ],
             [
              0.4444444444444444,
              "#bd3786"
             ],
             [
              0.5555555555555556,
              "#d8576b"
             ],
             [
              0.6666666666666666,
              "#ed7953"
             ],
             [
              0.7777777777777778,
              "#fb9f3a"
             ],
             [
              0.8888888888888888,
              "#fdca26"
             ],
             [
              1,
              "#f0f921"
             ]
            ],
            "type": "heatmapgl"
           }
          ],
          "histogram": [
           {
            "marker": {
             "colorbar": {
              "outlinewidth": 0,
              "ticks": ""
             }
            },
            "type": "histogram"
           }
          ],
          "histogram2d": [
           {
            "colorbar": {
             "outlinewidth": 0,
             "ticks": ""
            },
            "colorscale": [
             [
              0,
              "#0d0887"
             ],
             [
              0.1111111111111111,
              "#46039f"
             ],
             [
              0.2222222222222222,
              "#7201a8"
             ],
             [
              0.3333333333333333,
              "#9c179e"
             ],
             [
              0.4444444444444444,
              "#bd3786"
             ],
             [
              0.5555555555555556,
              "#d8576b"
             ],
             [
              0.6666666666666666,
              "#ed7953"
             ],
             [
              0.7777777777777778,
              "#fb9f3a"
             ],
             [
              0.8888888888888888,
              "#fdca26"
             ],
             [
              1,
              "#f0f921"
             ]
            ],
            "type": "histogram2d"
           }
          ],
          "histogram2dcontour": [
           {
            "colorbar": {
             "outlinewidth": 0,
             "ticks": ""
            },
            "colorscale": [
             [
              0,
              "#0d0887"
             ],
             [
              0.1111111111111111,
              "#46039f"
             ],
             [
              0.2222222222222222,
              "#7201a8"
             ],
             [
              0.3333333333333333,
              "#9c179e"
             ],
             [
              0.4444444444444444,
              "#bd3786"
             ],
             [
              0.5555555555555556,
              "#d8576b"
             ],
             [
              0.6666666666666666,
              "#ed7953"
             ],
             [
              0.7777777777777778,
              "#fb9f3a"
             ],
             [
              0.8888888888888888,
              "#fdca26"
             ],
             [
              1,
              "#f0f921"
             ]
            ],
            "type": "histogram2dcontour"
           }
          ],
          "mesh3d": [
           {
            "colorbar": {
             "outlinewidth": 0,
             "ticks": ""
            },
            "type": "mesh3d"
           }
          ],
          "parcoords": [
           {
            "line": {
             "colorbar": {
              "outlinewidth": 0,
              "ticks": ""
             }
            },
            "type": "parcoords"
           }
          ],
          "pie": [
           {
            "automargin": true,
            "type": "pie"
           }
          ],
          "scatter": [
           {
            "marker": {
             "colorbar": {
              "outlinewidth": 0,
              "ticks": ""
             }
            },
            "type": "scatter"
           }
          ],
          "scatter3d": [
           {
            "line": {
             "colorbar": {
              "outlinewidth": 0,
              "ticks": ""
             }
            },
            "marker": {
             "colorbar": {
              "outlinewidth": 0,
              "ticks": ""
             }
            },
            "type": "scatter3d"
           }
          ],
          "scattercarpet": [
           {
            "marker": {
             "colorbar": {
              "outlinewidth": 0,
              "ticks": ""
             }
            },
            "type": "scattercarpet"
           }
          ],
          "scattergeo": [
           {
            "marker": {
             "colorbar": {
              "outlinewidth": 0,
              "ticks": ""
             }
            },
            "type": "scattergeo"
           }
          ],
          "scattergl": [
           {
            "marker": {
             "colorbar": {
              "outlinewidth": 0,
              "ticks": ""
             }
            },
            "type": "scattergl"
           }
          ],
          "scattermapbox": [
           {
            "marker": {
             "colorbar": {
              "outlinewidth": 0,
              "ticks": ""
             }
            },
            "type": "scattermapbox"
           }
          ],
          "scatterpolar": [
           {
            "marker": {
             "colorbar": {
              "outlinewidth": 0,
              "ticks": ""
             }
            },
            "type": "scatterpolar"
           }
          ],
          "scatterpolargl": [
           {
            "marker": {
             "colorbar": {
              "outlinewidth": 0,
              "ticks": ""
             }
            },
            "type": "scatterpolargl"
           }
          ],
          "scatterternary": [
           {
            "marker": {
             "colorbar": {
              "outlinewidth": 0,
              "ticks": ""
             }
            },
            "type": "scatterternary"
           }
          ],
          "surface": [
           {
            "colorbar": {
             "outlinewidth": 0,
             "ticks": ""
            },
            "colorscale": [
             [
              0,
              "#0d0887"
             ],
             [
              0.1111111111111111,
              "#46039f"
             ],
             [
              0.2222222222222222,
              "#7201a8"
             ],
             [
              0.3333333333333333,
              "#9c179e"
             ],
             [
              0.4444444444444444,
              "#bd3786"
             ],
             [
              0.5555555555555556,
              "#d8576b"
             ],
             [
              0.6666666666666666,
              "#ed7953"
             ],
             [
              0.7777777777777778,
              "#fb9f3a"
             ],
             [
              0.8888888888888888,
              "#fdca26"
             ],
             [
              1,
              "#f0f921"
             ]
            ],
            "type": "surface"
           }
          ],
          "table": [
           {
            "cells": {
             "fill": {
              "color": "#EBF0F8"
             },
             "line": {
              "color": "white"
             }
            },
            "header": {
             "fill": {
              "color": "#C8D4E3"
             },
             "line": {
              "color": "white"
             }
            },
            "type": "table"
           }
          ]
         },
         "layout": {
          "annotationdefaults": {
           "arrowcolor": "#2a3f5f",
           "arrowhead": 0,
           "arrowwidth": 1
          },
          "coloraxis": {
           "colorbar": {
            "outlinewidth": 0,
            "ticks": ""
           }
          },
          "colorscale": {
           "diverging": [
            [
             0,
             "#8e0152"
            ],
            [
             0.1,
             "#c51b7d"
            ],
            [
             0.2,
             "#de77ae"
            ],
            [
             0.3,
             "#f1b6da"
            ],
            [
             0.4,
             "#fde0ef"
            ],
            [
             0.5,
             "#f7f7f7"
            ],
            [
             0.6,
             "#e6f5d0"
            ],
            [
             0.7,
             "#b8e186"
            ],
            [
             0.8,
             "#7fbc41"
            ],
            [
             0.9,
             "#4d9221"
            ],
            [
             1,
             "#276419"
            ]
           ],
           "sequential": [
            [
             0,
             "#0d0887"
            ],
            [
             0.1111111111111111,
             "#46039f"
            ],
            [
             0.2222222222222222,
             "#7201a8"
            ],
            [
             0.3333333333333333,
             "#9c179e"
            ],
            [
             0.4444444444444444,
             "#bd3786"
            ],
            [
             0.5555555555555556,
             "#d8576b"
            ],
            [
             0.6666666666666666,
             "#ed7953"
            ],
            [
             0.7777777777777778,
             "#fb9f3a"
            ],
            [
             0.8888888888888888,
             "#fdca26"
            ],
            [
             1,
             "#f0f921"
            ]
           ],
           "sequentialminus": [
            [
             0,
             "#0d0887"
            ],
            [
             0.1111111111111111,
             "#46039f"
            ],
            [
             0.2222222222222222,
             "#7201a8"
            ],
            [
             0.3333333333333333,
             "#9c179e"
            ],
            [
             0.4444444444444444,
             "#bd3786"
            ],
            [
             0.5555555555555556,
             "#d8576b"
            ],
            [
             0.6666666666666666,
             "#ed7953"
            ],
            [
             0.7777777777777778,
             "#fb9f3a"
            ],
            [
             0.8888888888888888,
             "#fdca26"
            ],
            [
             1,
             "#f0f921"
            ]
           ]
          },
          "colorway": [
           "#636efa",
           "#EF553B",
           "#00cc96",
           "#ab63fa",
           "#FFA15A",
           "#19d3f3",
           "#FF6692",
           "#B6E880",
           "#FF97FF",
           "#FECB52"
          ],
          "font": {
           "color": "#2a3f5f"
          },
          "geo": {
           "bgcolor": "white",
           "lakecolor": "white",
           "landcolor": "#E5ECF6",
           "showlakes": true,
           "showland": true,
           "subunitcolor": "white"
          },
          "hoverlabel": {
           "align": "left"
          },
          "hovermode": "closest",
          "mapbox": {
           "style": "light"
          },
          "paper_bgcolor": "white",
          "plot_bgcolor": "#E5ECF6",
          "polar": {
           "angularaxis": {
            "gridcolor": "white",
            "linecolor": "white",
            "ticks": ""
           },
           "bgcolor": "#E5ECF6",
           "radialaxis": {
            "gridcolor": "white",
            "linecolor": "white",
            "ticks": ""
           }
          },
          "scene": {
           "xaxis": {
            "backgroundcolor": "#E5ECF6",
            "gridcolor": "white",
            "gridwidth": 2,
            "linecolor": "white",
            "showbackground": true,
            "ticks": "",
            "zerolinecolor": "white"
           },
           "yaxis": {
            "backgroundcolor": "#E5ECF6",
            "gridcolor": "white",
            "gridwidth": 2,
            "linecolor": "white",
            "showbackground": true,
            "ticks": "",
            "zerolinecolor": "white"
           },
           "zaxis": {
            "backgroundcolor": "#E5ECF6",
            "gridcolor": "white",
            "gridwidth": 2,
            "linecolor": "white",
            "showbackground": true,
            "ticks": "",
            "zerolinecolor": "white"
           }
          },
          "shapedefaults": {
           "line": {
            "color": "#2a3f5f"
           }
          },
          "ternary": {
           "aaxis": {
            "gridcolor": "white",
            "linecolor": "white",
            "ticks": ""
           },
           "baxis": {
            "gridcolor": "white",
            "linecolor": "white",
            "ticks": ""
           },
           "bgcolor": "#E5ECF6",
           "caxis": {
            "gridcolor": "white",
            "linecolor": "white",
            "ticks": ""
           }
          },
          "title": {
           "x": 0.05
          },
          "xaxis": {
           "automargin": true,
           "gridcolor": "white",
           "linecolor": "white",
           "ticks": "",
           "title": {
            "standoff": 15
           },
           "zerolinecolor": "white",
           "zerolinewidth": 2
          },
          "yaxis": {
           "automargin": true,
           "gridcolor": "white",
           "linecolor": "white",
           "ticks": "",
           "title": {
            "standoff": 15
           },
           "zerolinecolor": "white",
           "zerolinewidth": 2
          }
         }
        },
        "title": {
         "text": "RMSd during free MD Simulation"
        },
        "xaxis": {
         "title": {
          "text": "Time (ps)"
         }
        },
        "yaxis": {
         "title": {
          "text": "RMSd (nm)"
         }
        }
       }
      },
      "text/html": [
       "<div>\n",
       "        \n",
       "        \n",
       "            <div id=\"043a5ccb-f23c-4d44-9576-534ac6423b2a\" class=\"plotly-graph-div\" style=\"height:525px; width:100%;\"></div>\n",
       "            <script type=\"text/javascript\">\n",
       "                require([\"plotly\"], function(Plotly) {\n",
       "                    window.PLOTLYENV=window.PLOTLYENV || {};\n",
       "                    \n",
       "                if (document.getElementById(\"043a5ccb-f23c-4d44-9576-534ac6423b2a\")) {\n",
       "                    Plotly.newPlot(\n",
       "                        '043a5ccb-f23c-4d44-9576-534ac6423b2a',\n",
       "                        [{\"name\": \"RMSd vs first\", \"type\": \"scatter\", \"x\": [0.0, 10.0, 20.0, 30.0, 40.0, 50.0, 60.0, 70.0, 80.0, 90.0, 100.0], \"y\": [0.0, 0.059215, 0.0743335, 0.0847423, 0.0759021, 0.0696137, 0.0777717, 0.0773437, 0.0689246, 0.0773713, 0.0765892]}, {\"name\": \"RMSd vs exp\", \"type\": \"scatter\", \"x\": [0.0, 10.0, 20.0, 30.0, 40.0, 50.0, 60.0, 70.0, 80.0, 90.0, 100.0], \"y\": [0.0328381, 0.065619, 0.0791885, 0.0898143, 0.0828592, 0.0740967, 0.0805486, 0.0784207, 0.0725693, 0.0808129, 0.0776989]}],\n",
       "                        {\"template\": {\"data\": {\"bar\": [{\"error_x\": {\"color\": \"#2a3f5f\"}, \"error_y\": {\"color\": \"#2a3f5f\"}, \"marker\": {\"line\": {\"color\": \"#E5ECF6\", \"width\": 0.5}}, \"type\": \"bar\"}], \"barpolar\": [{\"marker\": {\"line\": {\"color\": \"#E5ECF6\", \"width\": 0.5}}, \"type\": \"barpolar\"}], \"carpet\": [{\"aaxis\": {\"endlinecolor\": \"#2a3f5f\", \"gridcolor\": \"white\", \"linecolor\": \"white\", \"minorgridcolor\": \"white\", \"startlinecolor\": \"#2a3f5f\"}, \"baxis\": {\"endlinecolor\": \"#2a3f5f\", \"gridcolor\": \"white\", \"linecolor\": \"white\", \"minorgridcolor\": \"white\", \"startlinecolor\": \"#2a3f5f\"}, \"type\": \"carpet\"}], \"choropleth\": [{\"colorbar\": {\"outlinewidth\": 0, \"ticks\": \"\"}, \"type\": \"choropleth\"}], \"contour\": [{\"colorbar\": {\"outlinewidth\": 0, \"ticks\": \"\"}, \"colorscale\": [[0.0, \"#0d0887\"], [0.1111111111111111, \"#46039f\"], [0.2222222222222222, \"#7201a8\"], [0.3333333333333333, \"#9c179e\"], [0.4444444444444444, \"#bd3786\"], [0.5555555555555556, \"#d8576b\"], [0.6666666666666666, \"#ed7953\"], [0.7777777777777778, \"#fb9f3a\"], [0.8888888888888888, \"#fdca26\"], [1.0, \"#f0f921\"]], \"type\": \"contour\"}], \"contourcarpet\": [{\"colorbar\": {\"outlinewidth\": 0, \"ticks\": \"\"}, \"type\": \"contourcarpet\"}], \"heatmap\": [{\"colorbar\": {\"outlinewidth\": 0, \"ticks\": \"\"}, \"colorscale\": [[0.0, \"#0d0887\"], [0.1111111111111111, \"#46039f\"], [0.2222222222222222, \"#7201a8\"], [0.3333333333333333, \"#9c179e\"], [0.4444444444444444, \"#bd3786\"], [0.5555555555555556, \"#d8576b\"], [0.6666666666666666, \"#ed7953\"], [0.7777777777777778, \"#fb9f3a\"], [0.8888888888888888, \"#fdca26\"], [1.0, \"#f0f921\"]], \"type\": \"heatmap\"}], \"heatmapgl\": [{\"colorbar\": {\"outlinewidth\": 0, \"ticks\": \"\"}, \"colorscale\": [[0.0, \"#0d0887\"], [0.1111111111111111, \"#46039f\"], [0.2222222222222222, \"#7201a8\"], [0.3333333333333333, \"#9c179e\"], [0.4444444444444444, \"#bd3786\"], [0.5555555555555556, \"#d8576b\"], [0.6666666666666666, \"#ed7953\"], [0.7777777777777778, \"#fb9f3a\"], [0.8888888888888888, \"#fdca26\"], [1.0, \"#f0f921\"]], \"type\": \"heatmapgl\"}], \"histogram\": [{\"marker\": {\"colorbar\": {\"outlinewidth\": 0, \"ticks\": \"\"}}, \"type\": \"histogram\"}], \"histogram2d\": [{\"colorbar\": {\"outlinewidth\": 0, \"ticks\": \"\"}, \"colorscale\": [[0.0, \"#0d0887\"], [0.1111111111111111, \"#46039f\"], [0.2222222222222222, \"#7201a8\"], [0.3333333333333333, \"#9c179e\"], [0.4444444444444444, \"#bd3786\"], [0.5555555555555556, \"#d8576b\"], [0.6666666666666666, \"#ed7953\"], [0.7777777777777778, \"#fb9f3a\"], [0.8888888888888888, \"#fdca26\"], [1.0, \"#f0f921\"]], \"type\": \"histogram2d\"}], \"histogram2dcontour\": [{\"colorbar\": {\"outlinewidth\": 0, \"ticks\": \"\"}, \"colorscale\": [[0.0, \"#0d0887\"], [0.1111111111111111, \"#46039f\"], [0.2222222222222222, \"#7201a8\"], [0.3333333333333333, \"#9c179e\"], [0.4444444444444444, \"#bd3786\"], [0.5555555555555556, \"#d8576b\"], [0.6666666666666666, \"#ed7953\"], [0.7777777777777778, \"#fb9f3a\"], [0.8888888888888888, \"#fdca26\"], [1.0, \"#f0f921\"]], \"type\": \"histogram2dcontour\"}], \"mesh3d\": [{\"colorbar\": {\"outlinewidth\": 0, \"ticks\": \"\"}, \"type\": \"mesh3d\"}], \"parcoords\": [{\"line\": {\"colorbar\": {\"outlinewidth\": 0, \"ticks\": \"\"}}, \"type\": \"parcoords\"}], \"pie\": [{\"automargin\": true, \"type\": \"pie\"}], \"scatter\": [{\"marker\": {\"colorbar\": {\"outlinewidth\": 0, \"ticks\": \"\"}}, \"type\": \"scatter\"}], \"scatter3d\": [{\"line\": {\"colorbar\": {\"outlinewidth\": 0, \"ticks\": \"\"}}, \"marker\": {\"colorbar\": {\"outlinewidth\": 0, \"ticks\": \"\"}}, \"type\": \"scatter3d\"}], \"scattercarpet\": [{\"marker\": {\"colorbar\": {\"outlinewidth\": 0, \"ticks\": \"\"}}, \"type\": \"scattercarpet\"}], \"scattergeo\": [{\"marker\": {\"colorbar\": {\"outlinewidth\": 0, \"ticks\": \"\"}}, \"type\": \"scattergeo\"}], \"scattergl\": [{\"marker\": {\"colorbar\": {\"outlinewidth\": 0, \"ticks\": \"\"}}, \"type\": \"scattergl\"}], \"scattermapbox\": [{\"marker\": {\"colorbar\": {\"outlinewidth\": 0, \"ticks\": \"\"}}, \"type\": \"scattermapbox\"}], \"scatterpolar\": [{\"marker\": {\"colorbar\": {\"outlinewidth\": 0, \"ticks\": \"\"}}, \"type\": \"scatterpolar\"}], \"scatterpolargl\": [{\"marker\": {\"colorbar\": {\"outlinewidth\": 0, \"ticks\": \"\"}}, \"type\": \"scatterpolargl\"}], \"scatterternary\": [{\"marker\": {\"colorbar\": {\"outlinewidth\": 0, \"ticks\": \"\"}}, \"type\": \"scatterternary\"}], \"surface\": [{\"colorbar\": {\"outlinewidth\": 0, \"ticks\": \"\"}, \"colorscale\": [[0.0, \"#0d0887\"], [0.1111111111111111, \"#46039f\"], [0.2222222222222222, \"#7201a8\"], [0.3333333333333333, \"#9c179e\"], [0.4444444444444444, \"#bd3786\"], [0.5555555555555556, \"#d8576b\"], [0.6666666666666666, \"#ed7953\"], [0.7777777777777778, \"#fb9f3a\"], [0.8888888888888888, \"#fdca26\"], [1.0, \"#f0f921\"]], \"type\": \"surface\"}], \"table\": [{\"cells\": {\"fill\": {\"color\": \"#EBF0F8\"}, \"line\": {\"color\": \"white\"}}, \"header\": {\"fill\": {\"color\": \"#C8D4E3\"}, \"line\": {\"color\": \"white\"}}, \"type\": \"table\"}]}, \"layout\": {\"annotationdefaults\": {\"arrowcolor\": \"#2a3f5f\", \"arrowhead\": 0, \"arrowwidth\": 1}, \"coloraxis\": {\"colorbar\": {\"outlinewidth\": 0, \"ticks\": \"\"}}, \"colorscale\": {\"diverging\": [[0, \"#8e0152\"], [0.1, \"#c51b7d\"], [0.2, \"#de77ae\"], [0.3, \"#f1b6da\"], [0.4, \"#fde0ef\"], [0.5, \"#f7f7f7\"], [0.6, \"#e6f5d0\"], [0.7, \"#b8e186\"], [0.8, \"#7fbc41\"], [0.9, \"#4d9221\"], [1, \"#276419\"]], \"sequential\": [[0.0, \"#0d0887\"], [0.1111111111111111, \"#46039f\"], [0.2222222222222222, \"#7201a8\"], [0.3333333333333333, \"#9c179e\"], [0.4444444444444444, \"#bd3786\"], [0.5555555555555556, \"#d8576b\"], [0.6666666666666666, \"#ed7953\"], [0.7777777777777778, \"#fb9f3a\"], [0.8888888888888888, \"#fdca26\"], [1.0, \"#f0f921\"]], \"sequentialminus\": [[0.0, \"#0d0887\"], [0.1111111111111111, \"#46039f\"], [0.2222222222222222, \"#7201a8\"], [0.3333333333333333, \"#9c179e\"], [0.4444444444444444, \"#bd3786\"], [0.5555555555555556, \"#d8576b\"], [0.6666666666666666, \"#ed7953\"], [0.7777777777777778, \"#fb9f3a\"], [0.8888888888888888, \"#fdca26\"], [1.0, \"#f0f921\"]]}, \"colorway\": [\"#636efa\", \"#EF553B\", \"#00cc96\", \"#ab63fa\", \"#FFA15A\", \"#19d3f3\", \"#FF6692\", \"#B6E880\", \"#FF97FF\", \"#FECB52\"], \"font\": {\"color\": \"#2a3f5f\"}, \"geo\": {\"bgcolor\": \"white\", \"lakecolor\": \"white\", \"landcolor\": \"#E5ECF6\", \"showlakes\": true, \"showland\": true, \"subunitcolor\": \"white\"}, \"hoverlabel\": {\"align\": \"left\"}, \"hovermode\": \"closest\", \"mapbox\": {\"style\": \"light\"}, \"paper_bgcolor\": \"white\", \"plot_bgcolor\": \"#E5ECF6\", \"polar\": {\"angularaxis\": {\"gridcolor\": \"white\", \"linecolor\": \"white\", \"ticks\": \"\"}, \"bgcolor\": \"#E5ECF6\", \"radialaxis\": {\"gridcolor\": \"white\", \"linecolor\": \"white\", \"ticks\": \"\"}}, \"scene\": {\"xaxis\": {\"backgroundcolor\": \"#E5ECF6\", \"gridcolor\": \"white\", \"gridwidth\": 2, \"linecolor\": \"white\", \"showbackground\": true, \"ticks\": \"\", \"zerolinecolor\": \"white\"}, \"yaxis\": {\"backgroundcolor\": \"#E5ECF6\", \"gridcolor\": \"white\", \"gridwidth\": 2, \"linecolor\": \"white\", \"showbackground\": true, \"ticks\": \"\", \"zerolinecolor\": \"white\"}, \"zaxis\": {\"backgroundcolor\": \"#E5ECF6\", \"gridcolor\": \"white\", \"gridwidth\": 2, \"linecolor\": \"white\", \"showbackground\": true, \"ticks\": \"\", \"zerolinecolor\": \"white\"}}, \"shapedefaults\": {\"line\": {\"color\": \"#2a3f5f\"}}, \"ternary\": {\"aaxis\": {\"gridcolor\": \"white\", \"linecolor\": \"white\", \"ticks\": \"\"}, \"baxis\": {\"gridcolor\": \"white\", \"linecolor\": \"white\", \"ticks\": \"\"}, \"bgcolor\": \"#E5ECF6\", \"caxis\": {\"gridcolor\": \"white\", \"linecolor\": \"white\", \"ticks\": \"\"}}, \"title\": {\"x\": 0.05}, \"xaxis\": {\"automargin\": true, \"gridcolor\": \"white\", \"linecolor\": \"white\", \"ticks\": \"\", \"title\": {\"standoff\": 15}, \"zerolinecolor\": \"white\", \"zerolinewidth\": 2}, \"yaxis\": {\"automargin\": true, \"gridcolor\": \"white\", \"linecolor\": \"white\", \"ticks\": \"\", \"title\": {\"standoff\": 15}, \"zerolinecolor\": \"white\", \"zerolinewidth\": 2}}}, \"title\": {\"text\": \"RMSd during free MD Simulation\"}, \"xaxis\": {\"title\": {\"text\": \"Time (ps)\"}}, \"yaxis\": {\"title\": {\"text\": \"RMSd (nm)\"}}},\n",
       "                        {\"responsive\": true}\n",
       "                    ).then(function(){\n",
       "                            \n",
       "var gd = document.getElementById('043a5ccb-f23c-4d44-9576-534ac6423b2a');\n",
       "var x = new MutationObserver(function (mutations, observer) {{\n",
       "        var display = window.getComputedStyle(gd).display;\n",
       "        if (!display || display === 'none') {{\n",
       "            console.log([gd, 'removed!']);\n",
       "            Plotly.purge(gd);\n",
       "            observer.disconnect();\n",
       "        }}\n",
       "}});\n",
       "\n",
       "// Listen for the removal of the full notebook cells\n",
       "var notebookContainer = gd.closest('#notebook-container');\n",
       "if (notebookContainer) {{\n",
       "    x.observe(notebookContainer, {childList: true});\n",
       "}}\n",
       "\n",
       "// Listen for the clearing of the current output cell\n",
       "var outputEl = gd.closest('.output');\n",
       "if (outputEl) {{\n",
       "    x.observe(outputEl, {childList: true});\n",
       "}}\n",
       "\n",
       "                        })\n",
       "                };\n",
       "                });\n",
       "            </script>\n",
       "        </div>"
      ]
     },
     "metadata": {},
     "output_type": "display_data"
    }
   ],
   "source": [
    "import plotly\n",
    "import plotly.graph_objs as go\n",
    "\n",
    "# Read RMS vs first snapshot data from file \n",
    "with open(output_rms_first,'r') as rms_first_file:\n",
    "    x,y = map(\n",
    "        list,\n",
    "        zip(*[\n",
    "            (float(line.split()[0]),float(line.split()[1]))\n",
    "            for line in rms_first_file \n",
    "            if not line.startswith((\"#\",\"@\")) \n",
    "        ])\n",
    "    )\n",
    "\n",
    "# Read RMS vs experimental structure data from file \n",
    "with open(output_rms_exp,'r') as rms_exp_file:\n",
    "    x2,y2 = map(\n",
    "        list,\n",
    "        zip(*[\n",
    "            (float(line.split()[0]),float(line.split()[1]))\n",
    "            for line in rms_exp_file\n",
    "            if not line.startswith((\"#\",\"@\")) \n",
    "        ])\n",
    "    )\n",
    "    \n",
    "trace1 = go.Scatter(\n",
    "    x = x,\n",
    "    y = y,\n",
    "    name = 'RMSd vs first'\n",
    ")\n",
    "\n",
    "trace2 = go.Scatter(\n",
    "    x = x,\n",
    "    y = y2,\n",
    "    name = 'RMSd vs exp'\n",
    ")\n",
    "\n",
    "data = [trace1, trace2]\n",
    "\n",
    "plotly.offline.init_notebook_mode(connected=True)\n",
    "\n",
    "fig = {\n",
    "    \"data\": data,\n",
    "    \"layout\": go.Layout(title=\"RMSd during free MD Simulation\",\n",
    "                        xaxis=dict(title = \"Time (ps)\"),\n",
    "                        yaxis=dict(title = \"RMSd (nm)\")\n",
    "                       )\n",
    "}\n",
    "\n",
    "plotly.offline.iplot(fig)\n"
   ]
  },
  {
   "cell_type": "code",
   "execution_count": 73,
   "metadata": {
    "scrolled": true
   },
   "outputs": [
    {
     "name": "stdout",
     "output_type": "stream",
     "text": [
      "{\n",
      "  \"code\": 303,\n",
      "  \"state\": \"RUNNING\",\n",
      "  \"message\": \"The requested job has has been successfully launched, please go to /retrieve/status/{token} for checking job status.\",\n",
      "  \"token\": \"63d6343001f20c25e720663c098d176d0c1ef5ab189c753b4fa9a5e413d626a519b11b35993f6a52925cff8aa95d76fc8e77e73763154ba3f86e3942dc801bcd\"\n",
      "}\n"
     ]
    }
   ],
   "source": [
    "# GMXRgyr: Computing Radius of Gyration to measure the protein compactness during the free MD simulation \n",
    "\n",
    "# Create prop dict and inputs/outputs\n",
    "output_rgyr = pdbCode + '_rgyr.xvg'\n",
    "prop = {\n",
    "    'selection':  'Backbone'\n",
    "}\n",
    "\n",
    "# Launch bb on REST API\n",
    "token = launch_job(url = apiURL + 'launch/biobb_analysis/gmx_rgyr', \n",
    "                   config = prop,\n",
    "                   input_structure_path = output_gppmin_tpr,\n",
    "                   input_traj_path = output_md_trr,\n",
    "                   output_xvg_path = output_rgyr)"
   ]
  },
  {
   "cell_type": "code",
   "execution_count": 74,
   "metadata": {},
   "outputs": [
    {
     "name": "stdout",
     "output_type": "stream",
     "text": [
      "Total elapsed time: 0:00:01\n",
      "REST API JSON response:\n",
      "{\n",
      "  \"code\": 200,\n",
      "  \"state\": \"FINISHED\",\n",
      "  \"message\": \"The requested job has finished successfully, please go to /retrieve/data/{id} for each output_files.\",\n",
      "  \"output_files\": [\n",
      "    {\n",
      "      \"id\": \"5ec25416e6ad14.33710843\",\n",
      "      \"name\": \"1AKI_rgyr.xvg\",\n",
      "      \"size\": 649,\n",
      "      \"mimetype\": \"text/plain\"\n",
      "    }\n",
      "  ],\n",
      "  \"expiration\": \"May 20, 2020 00:00 GMT+0000\"\n",
      "}\n"
     ]
    }
   ],
   "source": [
    "# Check job status\n",
    "out_files = check_job(token, apiURL)"
   ]
  },
  {
   "cell_type": "code",
   "execution_count": 75,
   "metadata": {},
   "outputs": [],
   "source": [
    "# Save generated file to disk\n",
    "retrieve_data(out_files, apiURL)"
   ]
  },
  {
   "cell_type": "code",
   "execution_count": 76,
   "metadata": {},
   "outputs": [
    {
     "data": {
      "text/html": [
       "        <script type=\"text/javascript\">\n",
       "        window.PlotlyConfig = {MathJaxConfig: 'local'};\n",
       "        if (window.MathJax) {MathJax.Hub.Config({SVG: {font: \"STIX-Web\"}});}\n",
       "        if (typeof require !== 'undefined') {\n",
       "        require.undef(\"plotly\");\n",
       "        requirejs.config({\n",
       "            paths: {\n",
       "                'plotly': ['https://cdn.plot.ly/plotly-latest.min']\n",
       "            }\n",
       "        });\n",
       "        require(['plotly'], function(Plotly) {\n",
       "            window._Plotly = Plotly;\n",
       "        });\n",
       "        }\n",
       "        </script>\n",
       "        "
      ]
     },
     "metadata": {},
     "output_type": "display_data"
    },
    {
     "data": {
      "application/vnd.plotly.v1+json": {
       "config": {
        "linkText": "Export to plot.ly",
        "plotlyServerURL": "https://plot.ly",
        "showLink": false
       },
       "data": [
        {
         "type": "scatter",
         "x": [
          0,
          10,
          20,
          30,
          40,
          50,
          60,
          70,
          80,
          90,
          100
         ],
         "y": [
          1.37516,
          1.38771,
          1.39979,
          1.39492,
          1.38804,
          1.38469,
          1.37971,
          1.38538,
          1.37974,
          1.38559,
          1.38238
         ]
        }
       ],
       "layout": {
        "template": {
         "data": {
          "bar": [
           {
            "error_x": {
             "color": "#2a3f5f"
            },
            "error_y": {
             "color": "#2a3f5f"
            },
            "marker": {
             "line": {
              "color": "#E5ECF6",
              "width": 0.5
             }
            },
            "type": "bar"
           }
          ],
          "barpolar": [
           {
            "marker": {
             "line": {
              "color": "#E5ECF6",
              "width": 0.5
             }
            },
            "type": "barpolar"
           }
          ],
          "carpet": [
           {
            "aaxis": {
             "endlinecolor": "#2a3f5f",
             "gridcolor": "white",
             "linecolor": "white",
             "minorgridcolor": "white",
             "startlinecolor": "#2a3f5f"
            },
            "baxis": {
             "endlinecolor": "#2a3f5f",
             "gridcolor": "white",
             "linecolor": "white",
             "minorgridcolor": "white",
             "startlinecolor": "#2a3f5f"
            },
            "type": "carpet"
           }
          ],
          "choropleth": [
           {
            "colorbar": {
             "outlinewidth": 0,
             "ticks": ""
            },
            "type": "choropleth"
           }
          ],
          "contour": [
           {
            "colorbar": {
             "outlinewidth": 0,
             "ticks": ""
            },
            "colorscale": [
             [
              0,
              "#0d0887"
             ],
             [
              0.1111111111111111,
              "#46039f"
             ],
             [
              0.2222222222222222,
              "#7201a8"
             ],
             [
              0.3333333333333333,
              "#9c179e"
             ],
             [
              0.4444444444444444,
              "#bd3786"
             ],
             [
              0.5555555555555556,
              "#d8576b"
             ],
             [
              0.6666666666666666,
              "#ed7953"
             ],
             [
              0.7777777777777778,
              "#fb9f3a"
             ],
             [
              0.8888888888888888,
              "#fdca26"
             ],
             [
              1,
              "#f0f921"
             ]
            ],
            "type": "contour"
           }
          ],
          "contourcarpet": [
           {
            "colorbar": {
             "outlinewidth": 0,
             "ticks": ""
            },
            "type": "contourcarpet"
           }
          ],
          "heatmap": [
           {
            "colorbar": {
             "outlinewidth": 0,
             "ticks": ""
            },
            "colorscale": [
             [
              0,
              "#0d0887"
             ],
             [
              0.1111111111111111,
              "#46039f"
             ],
             [
              0.2222222222222222,
              "#7201a8"
             ],
             [
              0.3333333333333333,
              "#9c179e"
             ],
             [
              0.4444444444444444,
              "#bd3786"
             ],
             [
              0.5555555555555556,
              "#d8576b"
             ],
             [
              0.6666666666666666,
              "#ed7953"
             ],
             [
              0.7777777777777778,
              "#fb9f3a"
             ],
             [
              0.8888888888888888,
              "#fdca26"
             ],
             [
              1,
              "#f0f921"
             ]
            ],
            "type": "heatmap"
           }
          ],
          "heatmapgl": [
           {
            "colorbar": {
             "outlinewidth": 0,
             "ticks": ""
            },
            "colorscale": [
             [
              0,
              "#0d0887"
             ],
             [
              0.1111111111111111,
              "#46039f"
             ],
             [
              0.2222222222222222,
              "#7201a8"
             ],
             [
              0.3333333333333333,
              "#9c179e"
             ],
             [
              0.4444444444444444,
              "#bd3786"
             ],
             [
              0.5555555555555556,
              "#d8576b"
             ],
             [
              0.6666666666666666,
              "#ed7953"
             ],
             [
              0.7777777777777778,
              "#fb9f3a"
             ],
             [
              0.8888888888888888,
              "#fdca26"
             ],
             [
              1,
              "#f0f921"
             ]
            ],
            "type": "heatmapgl"
           }
          ],
          "histogram": [
           {
            "marker": {
             "colorbar": {
              "outlinewidth": 0,
              "ticks": ""
             }
            },
            "type": "histogram"
           }
          ],
          "histogram2d": [
           {
            "colorbar": {
             "outlinewidth": 0,
             "ticks": ""
            },
            "colorscale": [
             [
              0,
              "#0d0887"
             ],
             [
              0.1111111111111111,
              "#46039f"
             ],
             [
              0.2222222222222222,
              "#7201a8"
             ],
             [
              0.3333333333333333,
              "#9c179e"
             ],
             [
              0.4444444444444444,
              "#bd3786"
             ],
             [
              0.5555555555555556,
              "#d8576b"
             ],
             [
              0.6666666666666666,
              "#ed7953"
             ],
             [
              0.7777777777777778,
              "#fb9f3a"
             ],
             [
              0.8888888888888888,
              "#fdca26"
             ],
             [
              1,
              "#f0f921"
             ]
            ],
            "type": "histogram2d"
           }
          ],
          "histogram2dcontour": [
           {
            "colorbar": {
             "outlinewidth": 0,
             "ticks": ""
            },
            "colorscale": [
             [
              0,
              "#0d0887"
             ],
             [
              0.1111111111111111,
              "#46039f"
             ],
             [
              0.2222222222222222,
              "#7201a8"
             ],
             [
              0.3333333333333333,
              "#9c179e"
             ],
             [
              0.4444444444444444,
              "#bd3786"
             ],
             [
              0.5555555555555556,
              "#d8576b"
             ],
             [
              0.6666666666666666,
              "#ed7953"
             ],
             [
              0.7777777777777778,
              "#fb9f3a"
             ],
             [
              0.8888888888888888,
              "#fdca26"
             ],
             [
              1,
              "#f0f921"
             ]
            ],
            "type": "histogram2dcontour"
           }
          ],
          "mesh3d": [
           {
            "colorbar": {
             "outlinewidth": 0,
             "ticks": ""
            },
            "type": "mesh3d"
           }
          ],
          "parcoords": [
           {
            "line": {
             "colorbar": {
              "outlinewidth": 0,
              "ticks": ""
             }
            },
            "type": "parcoords"
           }
          ],
          "pie": [
           {
            "automargin": true,
            "type": "pie"
           }
          ],
          "scatter": [
           {
            "marker": {
             "colorbar": {
              "outlinewidth": 0,
              "ticks": ""
             }
            },
            "type": "scatter"
           }
          ],
          "scatter3d": [
           {
            "line": {
             "colorbar": {
              "outlinewidth": 0,
              "ticks": ""
             }
            },
            "marker": {
             "colorbar": {
              "outlinewidth": 0,
              "ticks": ""
             }
            },
            "type": "scatter3d"
           }
          ],
          "scattercarpet": [
           {
            "marker": {
             "colorbar": {
              "outlinewidth": 0,
              "ticks": ""
             }
            },
            "type": "scattercarpet"
           }
          ],
          "scattergeo": [
           {
            "marker": {
             "colorbar": {
              "outlinewidth": 0,
              "ticks": ""
             }
            },
            "type": "scattergeo"
           }
          ],
          "scattergl": [
           {
            "marker": {
             "colorbar": {
              "outlinewidth": 0,
              "ticks": ""
             }
            },
            "type": "scattergl"
           }
          ],
          "scattermapbox": [
           {
            "marker": {
             "colorbar": {
              "outlinewidth": 0,
              "ticks": ""
             }
            },
            "type": "scattermapbox"
           }
          ],
          "scatterpolar": [
           {
            "marker": {
             "colorbar": {
              "outlinewidth": 0,
              "ticks": ""
             }
            },
            "type": "scatterpolar"
           }
          ],
          "scatterpolargl": [
           {
            "marker": {
             "colorbar": {
              "outlinewidth": 0,
              "ticks": ""
             }
            },
            "type": "scatterpolargl"
           }
          ],
          "scatterternary": [
           {
            "marker": {
             "colorbar": {
              "outlinewidth": 0,
              "ticks": ""
             }
            },
            "type": "scatterternary"
           }
          ],
          "surface": [
           {
            "colorbar": {
             "outlinewidth": 0,
             "ticks": ""
            },
            "colorscale": [
             [
              0,
              "#0d0887"
             ],
             [
              0.1111111111111111,
              "#46039f"
             ],
             [
              0.2222222222222222,
              "#7201a8"
             ],
             [
              0.3333333333333333,
              "#9c179e"
             ],
             [
              0.4444444444444444,
              "#bd3786"
             ],
             [
              0.5555555555555556,
              "#d8576b"
             ],
             [
              0.6666666666666666,
              "#ed7953"
             ],
             [
              0.7777777777777778,
              "#fb9f3a"
             ],
             [
              0.8888888888888888,
              "#fdca26"
             ],
             [
              1,
              "#f0f921"
             ]
            ],
            "type": "surface"
           }
          ],
          "table": [
           {
            "cells": {
             "fill": {
              "color": "#EBF0F8"
             },
             "line": {
              "color": "white"
             }
            },
            "header": {
             "fill": {
              "color": "#C8D4E3"
             },
             "line": {
              "color": "white"
             }
            },
            "type": "table"
           }
          ]
         },
         "layout": {
          "annotationdefaults": {
           "arrowcolor": "#2a3f5f",
           "arrowhead": 0,
           "arrowwidth": 1
          },
          "coloraxis": {
           "colorbar": {
            "outlinewidth": 0,
            "ticks": ""
           }
          },
          "colorscale": {
           "diverging": [
            [
             0,
             "#8e0152"
            ],
            [
             0.1,
             "#c51b7d"
            ],
            [
             0.2,
             "#de77ae"
            ],
            [
             0.3,
             "#f1b6da"
            ],
            [
             0.4,
             "#fde0ef"
            ],
            [
             0.5,
             "#f7f7f7"
            ],
            [
             0.6,
             "#e6f5d0"
            ],
            [
             0.7,
             "#b8e186"
            ],
            [
             0.8,
             "#7fbc41"
            ],
            [
             0.9,
             "#4d9221"
            ],
            [
             1,
             "#276419"
            ]
           ],
           "sequential": [
            [
             0,
             "#0d0887"
            ],
            [
             0.1111111111111111,
             "#46039f"
            ],
            [
             0.2222222222222222,
             "#7201a8"
            ],
            [
             0.3333333333333333,
             "#9c179e"
            ],
            [
             0.4444444444444444,
             "#bd3786"
            ],
            [
             0.5555555555555556,
             "#d8576b"
            ],
            [
             0.6666666666666666,
             "#ed7953"
            ],
            [
             0.7777777777777778,
             "#fb9f3a"
            ],
            [
             0.8888888888888888,
             "#fdca26"
            ],
            [
             1,
             "#f0f921"
            ]
           ],
           "sequentialminus": [
            [
             0,
             "#0d0887"
            ],
            [
             0.1111111111111111,
             "#46039f"
            ],
            [
             0.2222222222222222,
             "#7201a8"
            ],
            [
             0.3333333333333333,
             "#9c179e"
            ],
            [
             0.4444444444444444,
             "#bd3786"
            ],
            [
             0.5555555555555556,
             "#d8576b"
            ],
            [
             0.6666666666666666,
             "#ed7953"
            ],
            [
             0.7777777777777778,
             "#fb9f3a"
            ],
            [
             0.8888888888888888,
             "#fdca26"
            ],
            [
             1,
             "#f0f921"
            ]
           ]
          },
          "colorway": [
           "#636efa",
           "#EF553B",
           "#00cc96",
           "#ab63fa",
           "#FFA15A",
           "#19d3f3",
           "#FF6692",
           "#B6E880",
           "#FF97FF",
           "#FECB52"
          ],
          "font": {
           "color": "#2a3f5f"
          },
          "geo": {
           "bgcolor": "white",
           "lakecolor": "white",
           "landcolor": "#E5ECF6",
           "showlakes": true,
           "showland": true,
           "subunitcolor": "white"
          },
          "hoverlabel": {
           "align": "left"
          },
          "hovermode": "closest",
          "mapbox": {
           "style": "light"
          },
          "paper_bgcolor": "white",
          "plot_bgcolor": "#E5ECF6",
          "polar": {
           "angularaxis": {
            "gridcolor": "white",
            "linecolor": "white",
            "ticks": ""
           },
           "bgcolor": "#E5ECF6",
           "radialaxis": {
            "gridcolor": "white",
            "linecolor": "white",
            "ticks": ""
           }
          },
          "scene": {
           "xaxis": {
            "backgroundcolor": "#E5ECF6",
            "gridcolor": "white",
            "gridwidth": 2,
            "linecolor": "white",
            "showbackground": true,
            "ticks": "",
            "zerolinecolor": "white"
           },
           "yaxis": {
            "backgroundcolor": "#E5ECF6",
            "gridcolor": "white",
            "gridwidth": 2,
            "linecolor": "white",
            "showbackground": true,
            "ticks": "",
            "zerolinecolor": "white"
           },
           "zaxis": {
            "backgroundcolor": "#E5ECF6",
            "gridcolor": "white",
            "gridwidth": 2,
            "linecolor": "white",
            "showbackground": true,
            "ticks": "",
            "zerolinecolor": "white"
           }
          },
          "shapedefaults": {
           "line": {
            "color": "#2a3f5f"
           }
          },
          "ternary": {
           "aaxis": {
            "gridcolor": "white",
            "linecolor": "white",
            "ticks": ""
           },
           "baxis": {
            "gridcolor": "white",
            "linecolor": "white",
            "ticks": ""
           },
           "bgcolor": "#E5ECF6",
           "caxis": {
            "gridcolor": "white",
            "linecolor": "white",
            "ticks": ""
           }
          },
          "title": {
           "x": 0.05
          },
          "xaxis": {
           "automargin": true,
           "gridcolor": "white",
           "linecolor": "white",
           "ticks": "",
           "title": {
            "standoff": 15
           },
           "zerolinecolor": "white",
           "zerolinewidth": 2
          },
          "yaxis": {
           "automargin": true,
           "gridcolor": "white",
           "linecolor": "white",
           "ticks": "",
           "title": {
            "standoff": 15
           },
           "zerolinecolor": "white",
           "zerolinewidth": 2
          }
         }
        },
        "title": {
         "text": "Radius of Gyration"
        },
        "xaxis": {
         "title": {
          "text": "Time (ps)"
         }
        },
        "yaxis": {
         "title": {
          "text": "Rgyr (nm)"
         }
        }
       }
      },
      "text/html": [
       "<div>\n",
       "        \n",
       "        \n",
       "            <div id=\"76323bc5-9423-4b15-87b9-753d5dfbf942\" class=\"plotly-graph-div\" style=\"height:525px; width:100%;\"></div>\n",
       "            <script type=\"text/javascript\">\n",
       "                require([\"plotly\"], function(Plotly) {\n",
       "                    window.PLOTLYENV=window.PLOTLYENV || {};\n",
       "                    \n",
       "                if (document.getElementById(\"76323bc5-9423-4b15-87b9-753d5dfbf942\")) {\n",
       "                    Plotly.newPlot(\n",
       "                        '76323bc5-9423-4b15-87b9-753d5dfbf942',\n",
       "                        [{\"type\": \"scatter\", \"x\": [0.0, 10.0, 20.0, 30.0, 40.0, 50.0, 60.0, 70.0, 80.0, 90.0, 100.0], \"y\": [1.37516, 1.38771, 1.39979, 1.39492, 1.38804, 1.38469, 1.37971, 1.38538, 1.37974, 1.38559, 1.38238]}],\n",
       "                        {\"template\": {\"data\": {\"bar\": [{\"error_x\": {\"color\": \"#2a3f5f\"}, \"error_y\": {\"color\": \"#2a3f5f\"}, \"marker\": {\"line\": {\"color\": \"#E5ECF6\", \"width\": 0.5}}, \"type\": \"bar\"}], \"barpolar\": [{\"marker\": {\"line\": {\"color\": \"#E5ECF6\", \"width\": 0.5}}, \"type\": \"barpolar\"}], \"carpet\": [{\"aaxis\": {\"endlinecolor\": \"#2a3f5f\", \"gridcolor\": \"white\", \"linecolor\": \"white\", \"minorgridcolor\": \"white\", \"startlinecolor\": \"#2a3f5f\"}, \"baxis\": {\"endlinecolor\": \"#2a3f5f\", \"gridcolor\": \"white\", \"linecolor\": \"white\", \"minorgridcolor\": \"white\", \"startlinecolor\": \"#2a3f5f\"}, \"type\": \"carpet\"}], \"choropleth\": [{\"colorbar\": {\"outlinewidth\": 0, \"ticks\": \"\"}, \"type\": \"choropleth\"}], \"contour\": [{\"colorbar\": {\"outlinewidth\": 0, \"ticks\": \"\"}, \"colorscale\": [[0.0, \"#0d0887\"], [0.1111111111111111, \"#46039f\"], [0.2222222222222222, \"#7201a8\"], [0.3333333333333333, \"#9c179e\"], [0.4444444444444444, \"#bd3786\"], [0.5555555555555556, \"#d8576b\"], [0.6666666666666666, \"#ed7953\"], [0.7777777777777778, \"#fb9f3a\"], [0.8888888888888888, \"#fdca26\"], [1.0, \"#f0f921\"]], \"type\": \"contour\"}], \"contourcarpet\": [{\"colorbar\": {\"outlinewidth\": 0, \"ticks\": \"\"}, \"type\": \"contourcarpet\"}], \"heatmap\": [{\"colorbar\": {\"outlinewidth\": 0, \"ticks\": \"\"}, \"colorscale\": [[0.0, \"#0d0887\"], [0.1111111111111111, \"#46039f\"], [0.2222222222222222, \"#7201a8\"], [0.3333333333333333, \"#9c179e\"], [0.4444444444444444, \"#bd3786\"], [0.5555555555555556, \"#d8576b\"], [0.6666666666666666, \"#ed7953\"], [0.7777777777777778, \"#fb9f3a\"], [0.8888888888888888, \"#fdca26\"], [1.0, \"#f0f921\"]], \"type\": \"heatmap\"}], \"heatmapgl\": [{\"colorbar\": {\"outlinewidth\": 0, \"ticks\": \"\"}, \"colorscale\": [[0.0, \"#0d0887\"], [0.1111111111111111, \"#46039f\"], [0.2222222222222222, \"#7201a8\"], [0.3333333333333333, \"#9c179e\"], [0.4444444444444444, \"#bd3786\"], [0.5555555555555556, \"#d8576b\"], [0.6666666666666666, \"#ed7953\"], [0.7777777777777778, \"#fb9f3a\"], [0.8888888888888888, \"#fdca26\"], [1.0, \"#f0f921\"]], \"type\": \"heatmapgl\"}], \"histogram\": [{\"marker\": {\"colorbar\": {\"outlinewidth\": 0, \"ticks\": \"\"}}, \"type\": \"histogram\"}], \"histogram2d\": [{\"colorbar\": {\"outlinewidth\": 0, \"ticks\": \"\"}, \"colorscale\": [[0.0, \"#0d0887\"], [0.1111111111111111, \"#46039f\"], [0.2222222222222222, \"#7201a8\"], [0.3333333333333333, \"#9c179e\"], [0.4444444444444444, \"#bd3786\"], [0.5555555555555556, \"#d8576b\"], [0.6666666666666666, \"#ed7953\"], [0.7777777777777778, \"#fb9f3a\"], [0.8888888888888888, \"#fdca26\"], [1.0, \"#f0f921\"]], \"type\": \"histogram2d\"}], \"histogram2dcontour\": [{\"colorbar\": {\"outlinewidth\": 0, \"ticks\": \"\"}, \"colorscale\": [[0.0, \"#0d0887\"], [0.1111111111111111, \"#46039f\"], [0.2222222222222222, \"#7201a8\"], [0.3333333333333333, \"#9c179e\"], [0.4444444444444444, \"#bd3786\"], [0.5555555555555556, \"#d8576b\"], [0.6666666666666666, \"#ed7953\"], [0.7777777777777778, \"#fb9f3a\"], [0.8888888888888888, \"#fdca26\"], [1.0, \"#f0f921\"]], \"type\": \"histogram2dcontour\"}], \"mesh3d\": [{\"colorbar\": {\"outlinewidth\": 0, \"ticks\": \"\"}, \"type\": \"mesh3d\"}], \"parcoords\": [{\"line\": {\"colorbar\": {\"outlinewidth\": 0, \"ticks\": \"\"}}, \"type\": \"parcoords\"}], \"pie\": [{\"automargin\": true, \"type\": \"pie\"}], \"scatter\": [{\"marker\": {\"colorbar\": {\"outlinewidth\": 0, \"ticks\": \"\"}}, \"type\": \"scatter\"}], \"scatter3d\": [{\"line\": {\"colorbar\": {\"outlinewidth\": 0, \"ticks\": \"\"}}, \"marker\": {\"colorbar\": {\"outlinewidth\": 0, \"ticks\": \"\"}}, \"type\": \"scatter3d\"}], \"scattercarpet\": [{\"marker\": {\"colorbar\": {\"outlinewidth\": 0, \"ticks\": \"\"}}, \"type\": \"scattercarpet\"}], \"scattergeo\": [{\"marker\": {\"colorbar\": {\"outlinewidth\": 0, \"ticks\": \"\"}}, \"type\": \"scattergeo\"}], \"scattergl\": [{\"marker\": {\"colorbar\": {\"outlinewidth\": 0, \"ticks\": \"\"}}, \"type\": \"scattergl\"}], \"scattermapbox\": [{\"marker\": {\"colorbar\": {\"outlinewidth\": 0, \"ticks\": \"\"}}, \"type\": \"scattermapbox\"}], \"scatterpolar\": [{\"marker\": {\"colorbar\": {\"outlinewidth\": 0, \"ticks\": \"\"}}, \"type\": \"scatterpolar\"}], \"scatterpolargl\": [{\"marker\": {\"colorbar\": {\"outlinewidth\": 0, \"ticks\": \"\"}}, \"type\": \"scatterpolargl\"}], \"scatterternary\": [{\"marker\": {\"colorbar\": {\"outlinewidth\": 0, \"ticks\": \"\"}}, \"type\": \"scatterternary\"}], \"surface\": [{\"colorbar\": {\"outlinewidth\": 0, \"ticks\": \"\"}, \"colorscale\": [[0.0, \"#0d0887\"], [0.1111111111111111, \"#46039f\"], [0.2222222222222222, \"#7201a8\"], [0.3333333333333333, \"#9c179e\"], [0.4444444444444444, \"#bd3786\"], [0.5555555555555556, \"#d8576b\"], [0.6666666666666666, \"#ed7953\"], [0.7777777777777778, \"#fb9f3a\"], [0.8888888888888888, \"#fdca26\"], [1.0, \"#f0f921\"]], \"type\": \"surface\"}], \"table\": [{\"cells\": {\"fill\": {\"color\": \"#EBF0F8\"}, \"line\": {\"color\": \"white\"}}, \"header\": {\"fill\": {\"color\": \"#C8D4E3\"}, \"line\": {\"color\": \"white\"}}, \"type\": \"table\"}]}, \"layout\": {\"annotationdefaults\": {\"arrowcolor\": \"#2a3f5f\", \"arrowhead\": 0, \"arrowwidth\": 1}, \"coloraxis\": {\"colorbar\": {\"outlinewidth\": 0, \"ticks\": \"\"}}, \"colorscale\": {\"diverging\": [[0, \"#8e0152\"], [0.1, \"#c51b7d\"], [0.2, \"#de77ae\"], [0.3, \"#f1b6da\"], [0.4, \"#fde0ef\"], [0.5, \"#f7f7f7\"], [0.6, \"#e6f5d0\"], [0.7, \"#b8e186\"], [0.8, \"#7fbc41\"], [0.9, \"#4d9221\"], [1, \"#276419\"]], \"sequential\": [[0.0, \"#0d0887\"], [0.1111111111111111, \"#46039f\"], [0.2222222222222222, \"#7201a8\"], [0.3333333333333333, \"#9c179e\"], [0.4444444444444444, \"#bd3786\"], [0.5555555555555556, \"#d8576b\"], [0.6666666666666666, \"#ed7953\"], [0.7777777777777778, \"#fb9f3a\"], [0.8888888888888888, \"#fdca26\"], [1.0, \"#f0f921\"]], \"sequentialminus\": [[0.0, \"#0d0887\"], [0.1111111111111111, \"#46039f\"], [0.2222222222222222, \"#7201a8\"], [0.3333333333333333, \"#9c179e\"], [0.4444444444444444, \"#bd3786\"], [0.5555555555555556, \"#d8576b\"], [0.6666666666666666, \"#ed7953\"], [0.7777777777777778, \"#fb9f3a\"], [0.8888888888888888, \"#fdca26\"], [1.0, \"#f0f921\"]]}, \"colorway\": [\"#636efa\", \"#EF553B\", \"#00cc96\", \"#ab63fa\", \"#FFA15A\", \"#19d3f3\", \"#FF6692\", \"#B6E880\", \"#FF97FF\", \"#FECB52\"], \"font\": {\"color\": \"#2a3f5f\"}, \"geo\": {\"bgcolor\": \"white\", \"lakecolor\": \"white\", \"landcolor\": \"#E5ECF6\", \"showlakes\": true, \"showland\": true, \"subunitcolor\": \"white\"}, \"hoverlabel\": {\"align\": \"left\"}, \"hovermode\": \"closest\", \"mapbox\": {\"style\": \"light\"}, \"paper_bgcolor\": \"white\", \"plot_bgcolor\": \"#E5ECF6\", \"polar\": {\"angularaxis\": {\"gridcolor\": \"white\", \"linecolor\": \"white\", \"ticks\": \"\"}, \"bgcolor\": \"#E5ECF6\", \"radialaxis\": {\"gridcolor\": \"white\", \"linecolor\": \"white\", \"ticks\": \"\"}}, \"scene\": {\"xaxis\": {\"backgroundcolor\": \"#E5ECF6\", \"gridcolor\": \"white\", \"gridwidth\": 2, \"linecolor\": \"white\", \"showbackground\": true, \"ticks\": \"\", \"zerolinecolor\": \"white\"}, \"yaxis\": {\"backgroundcolor\": \"#E5ECF6\", \"gridcolor\": \"white\", \"gridwidth\": 2, \"linecolor\": \"white\", \"showbackground\": true, \"ticks\": \"\", \"zerolinecolor\": \"white\"}, \"zaxis\": {\"backgroundcolor\": \"#E5ECF6\", \"gridcolor\": \"white\", \"gridwidth\": 2, \"linecolor\": \"white\", \"showbackground\": true, \"ticks\": \"\", \"zerolinecolor\": \"white\"}}, \"shapedefaults\": {\"line\": {\"color\": \"#2a3f5f\"}}, \"ternary\": {\"aaxis\": {\"gridcolor\": \"white\", \"linecolor\": \"white\", \"ticks\": \"\"}, \"baxis\": {\"gridcolor\": \"white\", \"linecolor\": \"white\", \"ticks\": \"\"}, \"bgcolor\": \"#E5ECF6\", \"caxis\": {\"gridcolor\": \"white\", \"linecolor\": \"white\", \"ticks\": \"\"}}, \"title\": {\"x\": 0.05}, \"xaxis\": {\"automargin\": true, \"gridcolor\": \"white\", \"linecolor\": \"white\", \"ticks\": \"\", \"title\": {\"standoff\": 15}, \"zerolinecolor\": \"white\", \"zerolinewidth\": 2}, \"yaxis\": {\"automargin\": true, \"gridcolor\": \"white\", \"linecolor\": \"white\", \"ticks\": \"\", \"title\": {\"standoff\": 15}, \"zerolinecolor\": \"white\", \"zerolinewidth\": 2}}}, \"title\": {\"text\": \"Radius of Gyration\"}, \"xaxis\": {\"title\": {\"text\": \"Time (ps)\"}}, \"yaxis\": {\"title\": {\"text\": \"Rgyr (nm)\"}}},\n",
       "                        {\"responsive\": true}\n",
       "                    ).then(function(){\n",
       "                            \n",
       "var gd = document.getElementById('76323bc5-9423-4b15-87b9-753d5dfbf942');\n",
       "var x = new MutationObserver(function (mutations, observer) {{\n",
       "        var display = window.getComputedStyle(gd).display;\n",
       "        if (!display || display === 'none') {{\n",
       "            console.log([gd, 'removed!']);\n",
       "            Plotly.purge(gd);\n",
       "            observer.disconnect();\n",
       "        }}\n",
       "}});\n",
       "\n",
       "// Listen for the removal of the full notebook cells\n",
       "var notebookContainer = gd.closest('#notebook-container');\n",
       "if (notebookContainer) {{\n",
       "    x.observe(notebookContainer, {childList: true});\n",
       "}}\n",
       "\n",
       "// Listen for the clearing of the current output cell\n",
       "var outputEl = gd.closest('.output');\n",
       "if (outputEl) {{\n",
       "    x.observe(outputEl, {childList: true});\n",
       "}}\n",
       "\n",
       "                        })\n",
       "                };\n",
       "                });\n",
       "            </script>\n",
       "        </div>"
      ]
     },
     "metadata": {},
     "output_type": "display_data"
    }
   ],
   "source": [
    "import plotly\n",
    "import plotly.graph_objs as go\n",
    "\n",
    "# Read Rgyr data from file \n",
    "with open(output_rgyr,'r') as rgyr_file:\n",
    "    x,y = map(\n",
    "        list,\n",
    "        zip(*[\n",
    "            (float(line.split()[0]),float(line.split()[1]))\n",
    "            for line in rgyr_file \n",
    "            if not line.startswith((\"#\",\"@\")) \n",
    "        ])\n",
    "    )\n",
    "\n",
    "plotly.offline.init_notebook_mode(connected=True)\n",
    "\n",
    "fig = {\n",
    "    \"data\": [go.Scatter(x=x, y=y)],\n",
    "    \"layout\": go.Layout(title=\"Radius of Gyration\",\n",
    "                        xaxis=dict(title = \"Time (ps)\"),\n",
    "                        yaxis=dict(title = \"Rgyr (nm)\")\n",
    "                       )\n",
    "}\n",
    "\n",
    "plotly.offline.iplot(fig)"
   ]
  },
  {
   "cell_type": "markdown",
   "metadata": {},
   "source": [
    "<a id=\"post\"></a>\n",
    "***\n",
    "## Post-processing and Visualizing resulting 3D trajectory\n",
    "Post-processing and Visualizing the **protein system** MD setup **resulting trajectory** using **NGL**\n",
    "- [Step 1](#ppStep1): *Imaging* the resulting trajectory, **stripping out water molecules and ions** and **correcting periodicity issues**.\n",
    "- [Step 2](#ppStep2): Generating a *dry* structure, **removing water molecules and ions** from the final snapshot of the MD setup pipeline.\n",
    "- [Step 3](#ppStep3): Visualizing the *imaged* trajectory using the *dry* structure as a **topology**. \n",
    "***\n",
    "**BioBB REST API** end points used:\n",
    " - [GMXImage](https://mmb.irbbarcelona.org/biobb-api/rest/v1/launch/biobb_analysis/gmx_image) from **biobb_analysis.gromacs.gmx_image**\n",
    " - [GMXTrjConvStr](https://mmb.irbbarcelona.org/biobb-api/rest/v1/launch/biobb_analysis/gmx_trjconv_str) from **biobb_analysis.gromacs.gmx_trjconv_str**\n",
    "***"
   ]
  },
  {
   "cell_type": "markdown",
   "metadata": {},
   "source": [
    "<a id=\"ppStep1\"></a>\n",
    "### Step 1: *Imaging* the resulting trajectory.\n",
    "Stripping out **water molecules and ions** and **correcting periodicity issues**  "
   ]
  },
  {
   "cell_type": "code",
   "execution_count": 77,
   "metadata": {
    "scrolled": true
   },
   "outputs": [
    {
     "name": "stdout",
     "output_type": "stream",
     "text": [
      "{\n",
      "  \"code\": 303,\n",
      "  \"state\": \"RUNNING\",\n",
      "  \"message\": \"The requested job has has been successfully launched, please go to /retrieve/status/{token} for checking job status.\",\n",
      "  \"token\": \"3dd0dbd5177027df10be6784f2903da6317aa65c744415d85fdf870ecf5cfa95e1348a156bf2b84c48ad05829bcac0d04c4c541eec2d257476285d67c2dd2ede\"\n",
      "}\n"
     ]
    }
   ],
   "source": [
    "# GMXImage: \"Imaging\" the resulting trajectory\n",
    "#           Removing water molecules and ions from the resulting structure\n",
    "\n",
    "# Create prop dict and inputs/outputs\n",
    "output_imaged_traj = pdbCode + '_imaged_traj.trr'\n",
    "prop = {\n",
    "    'center_selection':  'Protein',\n",
    "    'output_selection': 'Protein',\n",
    "    'pbc' : 'mol',\n",
    "    'center' : True\n",
    "}\n",
    "\n",
    "# Launch bb on REST API\n",
    "token = launch_job(url = apiURL + 'launch/biobb_analysis/gmx_image',\n",
    "                   config = prop,\n",
    "                   input_traj_path = output_md_trr,\n",
    "                   input_top_path = output_gppmd_tpr,\n",
    "                   output_traj_path = output_imaged_traj)"
   ]
  },
  {
   "cell_type": "code",
   "execution_count": 78,
   "metadata": {},
   "outputs": [
    {
     "name": "stdout",
     "output_type": "stream",
     "text": [
      "Total elapsed time: 0:00:01\n",
      "REST API JSON response:\n",
      "{\n",
      "  \"code\": 200,\n",
      "  \"state\": \"FINISHED\",\n",
      "  \"message\": \"The requested job has finished successfully, please go to /retrieve/data/{id} for each output_files.\",\n",
      "  \"output_files\": [\n",
      "    {\n",
      "      \"id\": \"5ec2542607acb5.09746830\",\n",
      "      \"name\": \"1AKI_imaged_traj.trr\",\n",
      "      \"size\": 518760,\n",
      "      \"mimetype\": \"application/octet-stream\"\n",
      "    }\n",
      "  ],\n",
      "  \"expiration\": \"May 20, 2020 00:00 GMT+0000\"\n",
      "}\n"
     ]
    }
   ],
   "source": [
    "# Check job status\n",
    "out_files = check_job(token, apiURL)"
   ]
  },
  {
   "cell_type": "code",
   "execution_count": 79,
   "metadata": {},
   "outputs": [],
   "source": [
    "# Save generated file to disk\n",
    "retrieve_data(out_files, apiURL)"
   ]
  },
  {
   "cell_type": "markdown",
   "metadata": {},
   "source": [
    "<a id=\"ppStep2\"></a>\n",
    "### Step 2: Generating the output *dry* structure.\n",
    "**Removing water molecules and ions** from the resulting structure"
   ]
  },
  {
   "cell_type": "code",
   "execution_count": 80,
   "metadata": {
    "scrolled": true
   },
   "outputs": [
    {
     "name": "stdout",
     "output_type": "stream",
     "text": [
      "{\n",
      "  \"code\": 303,\n",
      "  \"state\": \"RUNNING\",\n",
      "  \"message\": \"The requested job has has been successfully launched, please go to /retrieve/status/{token} for checking job status.\",\n",
      "  \"token\": \"0c58c8c26bca4445eab6344c926de43a567e4639b3e00350fed9bbc2f8ad0194bd7f1137f94fa7781736aaf944cf561e1b6be33171bc4d119ce06ce3376ad6a8\"\n",
      "}\n"
     ]
    }
   ],
   "source": [
    "# GMXTrjConvStr: Converting and/or manipulating a structure\n",
    "#                Removing water molecules and ions from the resulting structure\n",
    "#                The \"dry\" structure will be used as a topology to visualize \n",
    "#                the \"imaged dry\" trajectory generated in the previous step.\n",
    "\n",
    "# Create prop dict and inputs/outputs\n",
    "output_dry_gro = pdbCode + '_md_dry.gro'\n",
    "prop = {\n",
    "    'selection':  'Protein'\n",
    "}\n",
    "\n",
    "# Launch bb on REST API\n",
    "token = launch_job(url = apiURL + 'launch/biobb_analysis/gmx_trjconv_str',\n",
    "                   config = prop,\n",
    "                   input_structure_path = output_md_gro,\n",
    "                   input_top_path = output_gppmd_tpr,\n",
    "                   output_str_path = output_dry_gro)"
   ]
  },
  {
   "cell_type": "code",
   "execution_count": 81,
   "metadata": {},
   "outputs": [
    {
     "name": "stdout",
     "output_type": "stream",
     "text": [
      "Total elapsed time: 0:00:04\n",
      "REST API JSON response:\n",
      "{\n",
      "  \"code\": 200,\n",
      "  \"state\": \"FINISHED\",\n",
      "  \"message\": \"The requested job has finished successfully, please go to /retrieve/data/{id} for each output_files.\",\n",
      "  \"output_files\": [\n",
      "    {\n",
      "      \"id\": \"5ec25434edb4e4.11360538\",\n",
      "      \"name\": \"1AKI_md_dry.gro\",\n",
      "      \"size\": 135294,\n",
      "      \"mimetype\": \"application/octet-stream\"\n",
      "    }\n",
      "  ],\n",
      "  \"expiration\": \"May 20, 2020 00:00 GMT+0000\"\n",
      "}\n"
     ]
    }
   ],
   "source": [
    "# Check job status\n",
    "out_files = check_job(token, apiURL)"
   ]
  },
  {
   "cell_type": "code",
   "execution_count": 82,
   "metadata": {},
   "outputs": [],
   "source": [
    "# Save generated file to disk\n",
    "retrieve_data(out_files, apiURL)"
   ]
  },
  {
   "cell_type": "markdown",
   "metadata": {},
   "source": [
    "<a id=\"ppStep3\"></a>\n",
    "### Step 3: Visualizing the generated dehydrated trajectory.\n",
    "Using the **imaged trajectory** (output of the [Post-processing step 1](#ppStep1)) with the **dry structure** (output of the [Post-processing step 2](#ppStep2)) as a topology."
   ]
  },
  {
   "cell_type": "code",
   "execution_count": 83,
   "metadata": {},
   "outputs": [
    {
     "data": {
      "application/vnd.jupyter.widget-view+json": {
       "model_id": "3627ece159bf407991024788f180ccef",
       "version_major": 2,
       "version_minor": 0
      },
      "text/plain": [
       "NGLWidget(max_frame=10)"
      ]
     },
     "metadata": {},
     "output_type": "display_data"
    },
    {
     "data": {
      "application/vnd.jupyter.widget-view+json": {
       "model_id": "25d8dbc471ac4707b42b71479fd5759e",
       "version_major": 2,
       "version_minor": 0
      },
      "text/plain": [
       "Tab(children=(Box(children=(Box(children=(Box(children=(Label(value='step'), IntSlider(value=1, min=-100)), la…"
      ]
     },
     "metadata": {},
     "output_type": "display_data"
    }
   ],
   "source": [
    "# Show trajectory\n",
    "view = nglview.show_simpletraj(nglview.SimpletrajTrajectory(output_imaged_traj, output_dry_gro), gui=True)\n",
    "view"
   ]
  },
  {
   "cell_type": "markdown",
   "metadata": {
    "variables": {
     "output_genion_top_zip": "<p><strong>NameError</strong>: name &#39;output_genion_top_zip&#39; is not defined</p>\n",
     "output_gppmd_tpr": "<p><strong>NameError</strong>: name &#39;output_gppmd_tpr&#39; is not defined</p>\n",
     "output_md_cpt": "<p><strong>NameError</strong>: name &#39;output_md_cpt&#39; is not defined</p>\n",
     "output_md_gro": "<p><strong>NameError</strong>: name &#39;output_md_gro&#39; is not defined</p>\n",
     "output_md_trr": "<p><strong>NameError</strong>: name &#39;output_md_trr&#39; is not defined</p>\n",
     "output_rgyr": "<p><strong>NameError</strong>: name &#39;output_rgyr&#39; is not defined</p>\n",
     "output_rms_exp": "<p><strong>NameError</strong>: name &#39;output_rms_exp&#39; is not defined</p>\n",
     "output_rms_first": "<p><strong>NameError</strong>: name &#39;output_rms_first&#39; is not defined</p>\n"
    }
   },
   "source": [
    "<a id=\"output\"></a>\n",
    "## Output files\n",
    "\n",
    "Important **Output files** generated:\n",
    " - {{output_md_gro}}: **Final structure** (snapshot) of the MD setup protocol.\n",
    " - {{output_md_trr}}: **Final trajectory** of the MD setup protocol.\n",
    " - {{output_md_cpt}}: **Final checkpoint file**, with information about the state of the simulation. It can be used to **restart** or **continue** a MD simulation.\n",
    " - {{output_gppmd_tpr}}: **Final tpr file**, GROMACS portable binary run input file. This file contains the starting structure of the **MD setup free MD simulation step**, together with the molecular topology and all the simulation parameters. It can be used to **extend** the simulation.\n",
    " - {{output_genion_top_zip}}: **Final topology** of the MD system. It is a compressed zip file including a **topology file** (.top) and a set of auxiliar **include topology** files (.itp).\n",
    "\n",
    "**Analysis** (MD setup check) output files generated:\n",
    " - {{output_rms_first}}: **Root Mean Square deviation (RMSd)** against **minimized and equilibrated structure** of the final **free MD run step**.\n",
    " - {{output_rms_exp}}: **Root Mean Square deviation (RMSd)** against **experimental structure** of the final **free MD run step**.\n",
    " - {{output_rgyr}}: **Radius of Gyration** of the final **free MD run step** of the **setup pipeline**.\n",
    " "
   ]
  },
  {
   "cell_type": "code",
   "execution_count": null,
   "metadata": {},
   "outputs": [],
   "source": []
  }
 ],
 "metadata": {
  "kernelspec": {
   "display_name": "Python 3",
   "language": "python",
   "name": "python3"
  },
  "language_info": {
   "codemirror_mode": {
    "name": "ipython",
    "version": 3
   },
   "file_extension": ".py",
   "mimetype": "text/x-python",
   "name": "python",
   "nbconvert_exporter": "python",
   "pygments_lexer": "ipython3",
   "version": "3.8.2"
  }
 },
 "nbformat": 4,
 "nbformat_minor": 2
}
